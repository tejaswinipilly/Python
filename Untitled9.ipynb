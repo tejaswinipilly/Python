{
 "cells": [
  {
   "cell_type": "code",
   "execution_count": 1,
   "id": "3f84706a-dd4e-4c1e-89bc-5f8aebea19ec",
   "metadata": {},
   "outputs": [
    {
     "name": "stdout",
     "output_type": "stream",
     "text": [
      "\n"
     ]
    }
   ],
   "source": [
    "s=\"\"\n",
    "print(s.capitalize())"
   ]
  },
  {
   "cell_type": "code",
   "execution_count": 4,
   "id": "4601c228-c42c-4a1b-8668-55c4871216dc",
   "metadata": {},
   "outputs": [
    {
     "name": "stdout",
     "output_type": "stream",
     "text": [
      "hello world!\n"
     ]
    }
   ],
   "source": [
    "text = \"HELLO World!\"\n",
    "print(text.casefold())  #  "
   ]
  },
  {
   "cell_type": "code",
   "execution_count": 8,
   "id": "c654f01a-b212-401d-a209-fa52460a30d5",
   "metadata": {},
   "outputs": [
    {
     "name": "stdout",
     "output_type": "stream",
     "text": [
      "12hello world!\n"
     ]
    }
   ],
   "source": [
    "text = \"12HELLO World!\"\n",
    "print(text.casefold())  # this \n",
    "\n"
   ]
  },
  {
   "cell_type": "code",
   "execution_count": 10,
   "id": "325c9e26-f2f8-4a86-b3cd-fd2922490ce7",
   "metadata": {},
   "outputs": [
    {
     "data": {
      "text/plain": [
       "'12hello world!'"
      ]
     },
     "execution_count": 10,
     "metadata": {},
     "output_type": "execute_result"
    }
   ],
   "source": [
    "text = \"12HELLO World!\"\n",
    "text.casefold() # it will convert all Capital letters into lower letters"
   ]
  },
  {
   "cell_type": "code",
   "execution_count": 6,
   "id": "c65bca2c-18e2-4686-9e3e-610b30d2f2f6",
   "metadata": {},
   "outputs": [
    {
     "name": "stdout",
     "output_type": "stream",
     "text": [
      "@#@$12hello world!\n"
     ]
    }
   ],
   "source": [
    "text = \"@#@$12HELLO World!\"\n",
    "print(text.casefold())  # this "
   ]
  },
  {
   "cell_type": "code",
   "execution_count": 7,
   "id": "cff7b200-c2a7-4319-80a8-8697520ed41d",
   "metadata": {},
   "outputs": [
    {
     "name": "stdout",
     "output_type": "stream",
     "text": [
      "\n"
     ]
    }
   ],
   "source": [
    "text = \"\"\n",
    "print(text.casefold())  # this "
   ]
  },
  {
   "cell_type": "code",
   "execution_count": null,
   "id": "9d61214f-c296-49d9-b197-174ba164b912",
   "metadata": {},
   "outputs": [],
   "source": []
  }
 ],
 "metadata": {
  "kernelspec": {
   "display_name": "Python 3 (ipykernel)",
   "language": "python",
   "name": "python3"
  },
  "language_info": {
   "codemirror_mode": {
    "name": "ipython",
    "version": 3
   },
   "file_extension": ".py",
   "mimetype": "text/x-python",
   "name": "python",
   "nbconvert_exporter": "python",
   "pygments_lexer": "ipython3",
   "version": "3.12.4"
  }
 },
 "nbformat": 4,
 "nbformat_minor": 5
}
