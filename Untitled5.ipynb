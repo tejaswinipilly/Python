{
 "cells": [
  {
   "cell_type": "code",
   "execution_count": 32,
   "id": "c62633bb-cc0a-4138-b188-8cc43d6054ba",
   "metadata": {},
   "outputs": [
    {
     "name": "stdout",
     "output_type": "stream",
     "text": [
      "10 +ve\n",
      "-20 -ve\n",
      "-30 -ve\n",
      "45 +ve\n",
      "67 +ve\n",
      "-56 -ve\n"
     ]
    }
   ],
   "source": [
    "num=[10,-20,-30,45,67,-56]\n",
    "for i in num:\n",
    "    if i>=0:\n",
    "        print(i,\"+ve\")\n",
    "    else:\n",
    "        print(i,\"-ve\")\n",
    "    \n",
    "        \n"
   ]
  },
  {
   "cell_type": "code",
   "execution_count": 33,
   "id": "8a0398df-904f-4c8f-903e-75cd99c5a82d",
   "metadata": {},
   "outputs": [
    {
     "name": "stdout",
     "output_type": "stream",
     "text": [
      "3\n"
     ]
    }
   ],
   "source": [
    "num=[10,-20,-30,45,67,-56]\n",
    "p_n=0\n",
    "for i in num:\n",
    "    if i>=0:\n",
    "        p_n=p_n+1\n",
    "print(p_n)\n",
    "    \n"
   ]
  },
  {
   "cell_type": "code",
   "execution_count": null,
   "id": "4ebb2f9f-cd47-4220-ac54-8cdadffbf190",
   "metadata": {},
   "outputs": [],
   "source": [
    "\n",
    "\n"
   ]
  }
 ],
 "metadata": {
  "kernelspec": {
   "display_name": "Python 3 (ipykernel)",
   "language": "python",
   "name": "python3"
  },
  "language_info": {
   "codemirror_mode": {
    "name": "ipython",
    "version": 3
   },
   "file_extension": ".py",
   "mimetype": "text/x-python",
   "name": "python",
   "nbconvert_exporter": "python",
   "pygments_lexer": "ipython3",
   "version": "3.12.4"
  }
 },
 "nbformat": 4,
 "nbformat_minor": 5
}
