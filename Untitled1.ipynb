{
 "cells": [
  {
   "cell_type": "code",
   "execution_count": null,
   "id": "fdf69091-ee5e-4465-a8bd-feb771e9569e",
   "metadata": {},
   "outputs": [],
   "source": [
    "# The Anil kumar is a very good customer, bought 3045 sales order from our portal.We got 20000 profit because of Anil kumar.\n",
    "customer_name=input(\"Enter customer name:\")\n",
    "#number_of_sales_order=input(\"Enter sales order:\")\n",
    "#profit = input(\"Enter Profit\")\n",
    "s=\"The\"+customer_name\n",
    "print(s)"
   ]
  },
  {
   "cell_type": "code",
   "execution_count": null,
   "id": "d1505d01-14b2-4211-a38a-e7b2f53a57e7",
   "metadata": {},
   "outputs": [],
   "source": []
  },
  {
   "cell_type": "code",
   "execution_count": null,
   "id": "6bc40c48-2544-4746-8c74-e70dc83cc7c6",
   "metadata": {},
   "outputs": [],
   "source": []
  },
  {
   "cell_type": "code",
   "execution_count": null,
   "id": "5b2b2ecc-ec5a-4d4a-bd06-3c6a9b0902af",
   "metadata": {},
   "outputs": [],
   "source": [
    "# The Anil kumar is a very good customer, bought 3045 sales order from our portal.We got 20000 profit because of Anil kumar.\n",
    "customer_name=input(\"Enter customer name:\")\n",
    "#number_of_sales_order=input(\"Enter sales order:\")\n",
    "#profit = input(\"Enter Profit\")\n",
    "s=\"The\"+customer_name+\"is a very good customer bought \"\n",
    "print(s)"
   ]
  },
  {
   "cell_type": "code",
   "execution_count": null,
   "id": "a01e494d-01b6-482f-96bd-7ec62c02fd78",
   "metadata": {},
   "outputs": [],
   "source": []
  },
  {
   "cell_type": "code",
   "execution_count": null,
   "id": "b7d54614-e9d7-4302-9418-5d1fc51aaaeb",
   "metadata": {},
   "outputs": [],
   "source": []
  }
 ],
 "metadata": {
  "kernelspec": {
   "display_name": "Python 3 (ipykernel)",
   "language": "python",
   "name": "python3"
  },
  "language_info": {
   "codemirror_mode": {
    "name": "ipython",
    "version": 3
   },
   "file_extension": ".py",
   "mimetype": "text/x-python",
   "name": "python",
   "nbconvert_exporter": "python",
   "pygments_lexer": "ipython3",
   "version": "3.12.4"
  }
 },
 "nbformat": 4,
 "nbformat_minor": 5
}
