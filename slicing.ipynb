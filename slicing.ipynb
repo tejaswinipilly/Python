{
 "cells": [
  {
   "cell_type": "code",
   "execution_count": 5,
   "id": "df70bdc6-6abb-4e53-8d3a-c9105e435aea",
   "metadata": {},
   "outputs": [
    {
     "name": "stdout",
     "output_type": "stream",
     "text": [
      "cegik\n"
     ]
    }
   ],
   "source": [
    "\n",
    "s=\"abcdefghijkl\"\n",
    "print(s[2:11:2])"
   ]
  },
  {
   "cell_type": "code",
   "execution_count": 6,
   "id": "b5cce661-ba1b-4adb-8f5a-0f104960d795",
   "metadata": {},
   "outputs": [
    {
     "name": "stdout",
     "output_type": "stream",
     "text": [
      "c\n"
     ]
    }
   ],
   "source": [
    "s=\"abcdefghijkl\"\n",
    "print(s[2:-11:-2])#step value = -2"
   ]
  },
  {
   "cell_type": "code",
   "execution_count": null,
   "id": "e0e75cc9-1a93-44d0-8618-345ceeb85b51",
   "metadata": {},
   "outputs": [],
   "source": [
    "def add(x,y):\n",
    "    print(f\"x={x},y={y}\")\n",
    "    z=x+y\n",
    "    print(\"z=\",z)\n",
    "    def sub(a,b)\n",
    "    res=a-b\n",
    "    print(res)\n",
    "print(\"HELLO\")\n",
    "add(1,2)\n",
    "print(\"HI\")\n",
    "add(10,20)\n",
    "\n"
   ]
  },
  {
   "cell_type": "code",
   "execution_count": 8,
   "id": "5506f709-47a5-4879-ac94-1f7f3cf27e6a",
   "metadata": {},
   "outputs": [
    {
     "ename": "SyntaxError",
     "evalue": "invalid syntax (1515588056.py, line 5)",
     "output_type": "error",
     "traceback": [
      "\u001b[1;36m  Cell \u001b[1;32mIn[8], line 5\u001b[1;36m\u001b[0m\n\u001b[1;33m    def mul(a*b):\u001b[0m\n\u001b[1;37m             ^\u001b[0m\n\u001b[1;31mSyntaxError\u001b[0m\u001b[1;31m:\u001b[0m invalid syntax\n"
     ]
    }
   ],
   "source": [
    "def add(x,y):\n",
    "    print(a+b)\n",
    "def sub(x,y):\n",
    "    print(a-b)\n",
    "def mul(a*b):\n",
    "    print(a*b)\n",
    "def div(a/b):\n",
    "    print(a/b)\n",
    "\n",
    "add(10,20)\n",
    "sub(10,20)\n",
    "mul(10,20)\n",
    "div(10,20)\n"
   ]
  },
  {
   "cell_type": "code",
   "execution_count": 12,
   "id": "3759bef1-4a30-46db-9ac3-2d62536229dd",
   "metadata": {},
   "outputs": [
    {
     "name": "stdout",
     "output_type": "stream",
     "text": [
      "a-1\n",
      "1\n"
     ]
    }
   ],
   "source": [
    "def add(a):\n",
    "    print(f\"a-{a}\") \n",
    "    print(a)\n",
    "add(a=1)   "
   ]
  },
  {
   "cell_type": "code",
   "execution_count": 13,
   "id": "7b78f309-2521-4208-8cad-7b7f9fd72920",
   "metadata": {},
   "outputs": [
    {
     "name": "stdout",
     "output_type": "stream",
     "text": [
      "a=1,b=2\n",
      "3\n"
     ]
    }
   ],
   "source": [
    "def add(a,b):\n",
    "    print(f\"a={a},b={b}\")\n",
    "    print(a+b)\n",
    "add(a=1,b=2)    "
   ]
  },
  {
   "cell_type": "code",
   "execution_count": 15,
   "id": "baa58be8-4cbc-4e4d-975f-af8924f10838",
   "metadata": {},
   "outputs": [
    {
     "name": "stdout",
     "output_type": "stream",
     "text": [
      "a=1000, b=2000\n",
      "3000\n",
      "DONE\n"
     ]
    }
   ],
   "source": [
    "x=1000\n",
    "y=2000\n",
    "a=1\n",
    "def add(a,b):\n",
    "    print(f\"a={a}, b={b}\")\n",
    "    z=a+b\n",
    "    x=10\n",
    "    print(z)\n",
    "add(x,y)\n",
    "print(\"DONE\")\n",
    "\n"
   ]
  },
  {
   "cell_type": "code",
   "execution_count": null,
   "id": "9f1d1698-0a93-48b6-b6ab-5de16512795b",
   "metadata": {},
   "outputs": [],
   "source": []
  }
 ],
 "metadata": {
  "kernelspec": {
   "display_name": "Python 3 (ipykernel)",
   "language": "python",
   "name": "python3"
  },
  "language_info": {
   "codemirror_mode": {
    "name": "ipython",
    "version": 3
   },
   "file_extension": ".py",
   "mimetype": "text/x-python",
   "name": "python",
   "nbconvert_exporter": "python",
   "pygments_lexer": "ipython3",
   "version": "3.12.4"
  }
 },
 "nbformat": 4,
 "nbformat_minor": 5
}
