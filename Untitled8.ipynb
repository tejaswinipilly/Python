{
 "cells": [
  {
   "cell_type": "code",
   "execution_count": 25,
   "id": "939d0407-7fbc-4636-aacf-ba9b63812de7",
   "metadata": {},
   "outputs": [
    {
     "name": "stdout",
     "output_type": "stream",
     "text": [
      "41\n"
     ]
    }
   ],
   "source": [
    "\n",
    "def akhil():\n",
    "    c = a + b\n",
    "    print(c)\n",
    "\n",
    "result = akhil()\n",
    "a = 15\n",
    "b = 26"
   ]
  },
  {
   "cell_type": "code",
   "execution_count": 23,
   "id": "7097f757-6e0b-440c-9287-7b82738af8ce",
   "metadata": {},
   "outputs": [
    {
     "name": "stdout",
     "output_type": "stream",
     "text": [
      "1000 1993498063728\n",
      "2000 1993498064272\n",
      "3000 1993498064368\n",
      "<function fun at 0x000001D024E82020> 1993484017696\n",
      "1000 1993498063728 2000 1993498064272\n",
      "3000 1993498064112\n",
      "1000 1993498063728\n",
      "20 140720634870808\n",
      "inside fun x=1000, y=20, z=3000\n",
      "1000 2000 3000\n",
      "outside fun x=1000, y=2000, z=3000\n",
      "20 140720634870808\n"
     ]
    },
    {
     "ename": "NameError",
     "evalue": "name 'c' is not defined",
     "output_type": "error",
     "traceback": [
      "\u001b[1;31m---------------------------------------------------------------------------\u001b[0m",
      "\u001b[1;31mNameError\u001b[0m                                 Traceback (most recent call last)",
      "Cell \u001b[1;32mIn[23], line 25\u001b[0m\n\u001b[0;32m     23\u001b[0m e \u001b[38;5;241m=\u001b[39m \u001b[38;5;241m20\u001b[39m\n\u001b[0;32m     24\u001b[0m \u001b[38;5;28mprint\u001b[39m(e, \u001b[38;5;28mid\u001b[39m(e))\n\u001b[1;32m---> 25\u001b[0m \u001b[38;5;28mprint\u001b[39m(c)\n",
      "\u001b[1;31mNameError\u001b[0m: name 'c' is not defined"
     ]
    }
   ],
   "source": [
    "x=1000\n",
    "print(x, id(x))\n",
    "y=2000\n",
    "print(y, id(y))\n",
    "z=3000\n",
    "print(z, id(z))\n",
    "\n",
    "\n",
    "def fun(a,b):\n",
    "    print(a, id(a), b, id(b))\n",
    "\n",
    "    c=a+b\n",
    "    print(c, id(c))\n",
    "    \n",
    "    print(x, id(x))\n",
    "    y=20\n",
    "    print(y, id(y))\n",
    "    print(f\"inside fun x={x}, y={y}, z={z}\")\n",
    "print(fun, id(fun))\n",
    "fun(x,y)\n",
    "print(x,y,z)\n",
    "print(f\"outside fun x={x}, y={y}, z={z}\")\n",
    "e = 20\n",
    "print(e, id(e))\n",
    "print(c)"
   ]
  },
  {
   "cell_type": "code",
   "execution_count": null,
   "id": "51e1b816-b04f-4769-b0b1-a021b12199b9",
   "metadata": {},
   "outputs": [],
   "source": []
  },
  {
   "cell_type": "code",
   "execution_count": null,
   "id": "17221d4f-709c-48c2-8f88-b02fe4cca5c2",
   "metadata": {},
   "outputs": [],
   "source": []
  }
 ],
 "metadata": {
  "kernelspec": {
   "display_name": "Python 3 (ipykernel)",
   "language": "python",
   "name": "python3"
  },
  "language_info": {
   "codemirror_mode": {
    "name": "ipython",
    "version": 3
   },
   "file_extension": ".py",
   "mimetype": "text/x-python",
   "name": "python",
   "nbconvert_exporter": "python",
   "pygments_lexer": "ipython3",
   "version": "3.12.4"
  }
 },
 "nbformat": 4,
 "nbformat_minor": 5
}
