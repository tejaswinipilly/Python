{
 "cells": [
  {
   "cell_type": "code",
   "execution_count": 10,
   "id": "b17c6db7-ef9e-484a-bdc3-56b9be694a1d",
   "metadata": {},
   "outputs": [
    {
     "name": "stdout",
     "output_type": "stream",
     "text": [
      "hi\n",
      "hello\n",
      "1000\n",
      "result = 50\n",
      "hi\n",
      "hello\n",
      "1000\n",
      "result1 = 50\n"
     ]
    }
   ],
   "source": [
    "def fun():\n",
    "    print(\"hi\")\n",
    "    print(\"hello\")\n",
    "    a = 1000\n",
    "    print(a)\n",
    "    return 20 + 30\n",
    "\n",
    "# Call the function and store the result in res\n",
    "res = fun()\n",
    "print(\"result =\", res)\n",
    "\n",
    "# Assign the function reference to res1 (without calling it)\n",
    "res1 = fun\n",
    "# Now call res1 to execute the function and store the result\n",
    "result1_value = res1()\n",
    "print(\"result1 =\", result1_value)\n"
   ]
  },
  {
   "cell_type": "code",
   "execution_count": 13,
   "id": "be56f2fc-9695-4b54-a16e-3f971983a310",
   "metadata": {},
   "outputs": [
    {
     "name": "stdout",
     "output_type": "stream",
     "text": [
      "hyd\n",
      "result= <function outer.<locals>.inner at 0x0000014FA3B6F600>\n",
      "hi\n",
      "r1 = 20\n",
      "hyd\n",
      "result1= <function outer.<locals>.inner at 0x0000014FA3B6F2E0>\n",
      "hi\n",
      "r1 20\n"
     ]
    }
   ],
   "source": [
    "def outer():\n",
    "    print(\"hyd\")\n",
    "    \n",
    "    def inner():\n",
    "        print(\"hi\")\n",
    "        return 20  # This will return 20 when inner is called\n",
    "    \n",
    "    return inner  # Return the inner function itself\n",
    "\n",
    "# Call outer and assign the result (which is the inner function) to res\n",
    "res = outer()  # This will print \"hyd\" and return the inner function\n",
    "\n",
    "print(\"result=\", res)  # res is a reference to the inner function\n",
    "\n",
    "# Call the inner function through res and store its result\n",
    "r1 = res()  # This calls the inner function, prints \"hi\", and returns 20\n",
    "\n",
    "print(\"r1 =\", r1)  # This will print the result of calling the inner function (20)\n",
    "res = outer()\n",
    "print(\"result1=\",res)\n",
    "r1 = res()\n",
    "print(\"r1\",r1)\n"
   ]
  },
  {
   "cell_type": "code",
   "execution_count": 1,
   "id": "d7c69511-c987-480d-a27d-dd319249ce06",
   "metadata": {},
   "outputs": [
    {
     "ename": "SyntaxError",
     "evalue": "incomplete input (3120552295.py, line 2)",
     "output_type": "error",
     "traceback": [
      "\u001b[1;36m  Cell \u001b[1;32mIn[1], line 2\u001b[1;36m\u001b[0m\n\u001b[1;33m    print(s.find(\"abcd\")\u001b[0m\n\u001b[1;37m                        ^\u001b[0m\n\u001b[1;31mSyntaxError\u001b[0m\u001b[1;31m:\u001b[0m incomplete input\n"
     ]
    }
   ],
   "source": [
    "s=\"abcd123abcd456abcd789abcd\"\n",
    "print(s.find(\"abcd\")"
   ]
  },
  {
   "cell_type": "code",
   "execution_count": 2,
   "id": "4ce0851a-1b4d-4c5c-8b1a-21ec0d211a58",
   "metadata": {},
   "outputs": [
    {
     "name": "stdout",
     "output_type": "stream",
     "text": [
      "0\n",
      "21\n"
     ]
    }
   ],
   "source": [
    "s=\"abcd123abcd456abcd789abcd\"\n",
    "print(s.find(\"abcd\"))\n",
    "print(s.rfind(\"abcd\"))"
   ]
  },
  {
   "cell_type": "code",
   "execution_count": 7,
   "id": "a2e7c624-f29a-4078-a1d6-4908d66a1d81",
   "metadata": {},
   "outputs": [
    {
     "name": "stdout",
     "output_type": "stream",
     "text": [
      "['', '@#$defg%hijk']\n"
     ]
    }
   ],
   "source": [
    "s=\"abc@#$defg%hijk\"\n",
    "print(s.split(\"abc\"))"
   ]
  },
  {
   "cell_type": "code",
   "execution_count": 6,
   "id": "8a74f16c-dd58-45d6-b67e-845350ee5a6a",
   "metadata": {},
   "outputs": [
    {
     "name": "stdout",
     "output_type": "stream",
     "text": [
      "kjih%gfed$#@cba\n"
     ]
    }
   ],
   "source": [
    "s=\"abc@#$defg%hijk\"\n",
    "print(s[::-1])"
   ]
  },
  {
   "cell_type": "code",
   "execution_count": 11,
   "id": "7e7b9832-3bf1-4b1a-b931-5bf39e9b91a0",
   "metadata": {},
   "outputs": [
    {
     "ename": "TypeError",
     "evalue": "'str' object cannot be interpreted as an integer",
     "output_type": "error",
     "traceback": [
      "\u001b[1;31m---------------------------------------------------------------------------\u001b[0m",
      "\u001b[1;31mTypeError\u001b[0m                                 Traceback (most recent call last)",
      "Cell \u001b[1;32mIn[11], line 2\u001b[0m\n\u001b[0;32m      1\u001b[0m s\u001b[38;5;241m=\u001b[39m\u001b[38;5;124m\"\u001b[39m\u001b[38;5;124mabcd123defg4ijkl5\u001b[39m\u001b[38;5;124m\"\u001b[39m\n\u001b[1;32m----> 2\u001b[0m \u001b[38;5;28mprint\u001b[39m(s\u001b[38;5;241m.\u001b[39msplit(\u001b[38;5;124m\"\u001b[39m\u001b[38;5;124ma\u001b[39m\u001b[38;5;124m\"\u001b[39m,\u001b[38;5;124m\"\u001b[39m\u001b[38;5;124mb\u001b[39m\u001b[38;5;124m\"\u001b[39m))\n",
      "\u001b[1;31mTypeError\u001b[0m: 'str' object cannot be interpreted as an integer"
     ]
    }
   ],
   "source": [
    "s=\"abcd123defg4ijkl5\"\n",
    "print(s.split(\"a\",\"b\"))"
   ]
  },
  {
   "cell_type": "code",
   "execution_count": null,
   "id": "56cfbf18-f997-4d57-bfb6-a7c2985d2e06",
   "metadata": {},
   "outputs": [],
   "source": [
    "s=\"abc@#$defg%^hijk\"\n",
    "res = \"\"\n",
    "for i in s[::-1]:\n",
    "    if not i.isalnum():\n",
    "        sub=sub+i\n",
    "    else:\n",
    "        if sub:\n",
    "            res=res+sub\n",
    "    \n"
   ]
  }
 ],
 "metadata": {
  "kernelspec": {
   "display_name": "Python 3 (ipykernel)",
   "language": "python",
   "name": "python3"
  },
  "language_info": {
   "codemirror_mode": {
    "name": "ipython",
    "version": 3
   },
   "file_extension": ".py",
   "mimetype": "text/x-python",
   "name": "python",
   "nbconvert_exporter": "python",
   "pygments_lexer": "ipython3",
   "version": "3.12.4"
  }
 },
 "nbformat": 4,
 "nbformat_minor": 5
}
