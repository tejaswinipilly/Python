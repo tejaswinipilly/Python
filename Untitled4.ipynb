{
 "cells": [
  {
   "cell_type": "code",
   "execution_count": 6,
   "id": "47911a31-0f85-48f4-a43f-3656bd0d33e1",
   "metadata": {},
   "outputs": [
    {
     "name": "stdout",
     "output_type": "stream",
     "text": [
      "HELLO\n",
      "10\n",
      "HELLO\n",
      "20\n",
      "HELLO\n",
      "30\n",
      "HELLO\n",
      "40\n",
      "HI\n"
     ]
    }
   ],
   "source": [
    "numbers=[10,20,30,40]\n",
    "for num in numbers:\n",
    "    print(\"HELLO\")\n",
    "    print(num)\n",
    "print(\"HI\")    \n",
    "    \n",
    "    \n"
   ]
  },
  {
   "cell_type": "code",
   "execution_count": 7,
   "id": "ee1779fc-d311-4530-b21f-5bd1dd4a9e0d",
   "metadata": {},
   "outputs": [
    {
     "name": "stdout",
     "output_type": "stream",
     "text": [
      "HELLO\n",
      "10\n",
      "HELLO\n",
      "20\n",
      "HELLO\n",
      "30\n",
      "HELLO\n",
      "40\n",
      "HI\n"
     ]
    }
   ],
   "source": [
    "numbers=(10,20,30,40)\n",
    "for num in numbers:\n",
    "    print(\"HELLO\")\n",
    "    print(num)\n",
    "print(\"HI\")    \n",
    "    "
   ]
  },
  {
   "cell_type": "code",
   "execution_count": 10,
   "id": "1fe8fcab-9f60-4c17-be6d-7912cb0e0209",
   "metadata": {},
   "outputs": [
    {
     "name": "stdout",
     "output_type": "stream",
     "text": [
      "1\n",
      "0\n",
      "0\n",
      "0\n"
     ]
    }
   ],
   "source": [
    "for num in \"1000\":\n",
    "      print(num)"
   ]
  },
  {
   "cell_type": "code",
   "execution_count": 11,
   "id": "0a6fb74a-ccf9-4c03-bb6c-c2b4009a804c",
   "metadata": {},
   "outputs": [
    {
     "name": "stdout",
     "output_type": "stream",
     "text": [
      "p\n",
      "hi\n",
      "hello\n",
      "o\n",
      "hi\n",
      "hello\n",
      "t\n",
      "hi\n",
      "hello\n"
     ]
    }
   ],
   "source": [
    "for num in \"pot\":\n",
    "    print(num)\n",
    "    print(\"hi\")\n",
    "    print(\"hello\")"
   ]
  },
  {
   "cell_type": "code",
   "execution_count": 12,
   "id": "592e3b7a-3ee6-42af-9af1-53ade56224b7",
   "metadata": {},
   "outputs": [
    {
     "ename": "TypeError",
     "evalue": "'bool' object is not iterable",
     "output_type": "error",
     "traceback": [
      "\u001b[1;31m---------------------------------------------------------------------------\u001b[0m",
      "\u001b[1;31mTypeError\u001b[0m                                 Traceback (most recent call last)",
      "Cell \u001b[1;32mIn[12], line 1\u001b[0m\n\u001b[1;32m----> 1\u001b[0m \u001b[38;5;28;01mfor\u001b[39;00m num \u001b[38;5;129;01min\u001b[39;00m \u001b[38;5;28;01mFalse\u001b[39;00m:\n\u001b[0;32m      2\u001b[0m     \u001b[38;5;28mprint\u001b[39m(num)\n",
      "\u001b[1;31mTypeError\u001b[0m: 'bool' object is not iterable"
     ]
    }
   ],
   "source": [
    "for num in False:\n",
    "    print(num)"
   ]
  },
  {
   "cell_type": "code",
   "execution_count": 13,
   "id": "82d3c6a6-508a-44b6-9b4a-36731fd834d8",
   "metadata": {},
   "outputs": [
    {
     "ename": "TypeError",
     "evalue": "'int' object is not iterable",
     "output_type": "error",
     "traceback": [
      "\u001b[1;31m---------------------------------------------------------------------------\u001b[0m",
      "\u001b[1;31mTypeError\u001b[0m                                 Traceback (most recent call last)",
      "Cell \u001b[1;32mIn[13], line 1\u001b[0m\n\u001b[1;32m----> 1\u001b[0m \u001b[38;5;28;01mfor\u001b[39;00m num \u001b[38;5;129;01min\u001b[39;00m \u001b[38;5;241m1000\u001b[39m:\n\u001b[0;32m      2\u001b[0m     \u001b[38;5;28mprint\u001b[39m(num)\n",
      "\u001b[1;31mTypeError\u001b[0m: 'int' object is not iterable"
     ]
    }
   ],
   "source": [
    "for num in 1000:\n",
    "    print(num)"
   ]
  },
  {
   "cell_type": "code",
   "execution_count": 14,
   "id": "90bbffd4-bd91-4b2e-9e4b-b418f238279f",
   "metadata": {},
   "outputs": [
    {
     "ename": "TypeError",
     "evalue": "'float' object is not iterable",
     "output_type": "error",
     "traceback": [
      "\u001b[1;31m---------------------------------------------------------------------------\u001b[0m",
      "\u001b[1;31mTypeError\u001b[0m                                 Traceback (most recent call last)",
      "Cell \u001b[1;32mIn[14], line 1\u001b[0m\n\u001b[1;32m----> 1\u001b[0m \u001b[38;5;28;01mfor\u001b[39;00m num \u001b[38;5;129;01min\u001b[39;00m \u001b[38;5;241m12.4\u001b[39m:\n\u001b[0;32m      2\u001b[0m     \u001b[38;5;28mprint\u001b[39m(num)\n",
      "\u001b[1;31mTypeError\u001b[0m: 'float' object is not iterable"
     ]
    }
   ],
   "source": [
    "for num in 12.4:\n",
    "    print(num)"
   ]
  },
  {
   "cell_type": "code",
   "execution_count": 15,
   "id": "733b3722-1ab2-4e8f-983e-62ac7c0e9c66",
   "metadata": {},
   "outputs": [
    {
     "ename": "TypeError",
     "evalue": "'NoneType' object is not iterable",
     "output_type": "error",
     "traceback": [
      "\u001b[1;31m---------------------------------------------------------------------------\u001b[0m",
      "\u001b[1;31mTypeError\u001b[0m                                 Traceback (most recent call last)",
      "Cell \u001b[1;32mIn[15], line 1\u001b[0m\n\u001b[1;32m----> 1\u001b[0m \u001b[38;5;28;01mfor\u001b[39;00m num \u001b[38;5;129;01min\u001b[39;00m \u001b[38;5;28;01mNone\u001b[39;00m:\n\u001b[0;32m      2\u001b[0m     \u001b[38;5;28mprint\u001b[39m(num)\n",
      "\u001b[1;31mTypeError\u001b[0m: 'NoneType' object is not iterable"
     ]
    }
   ],
   "source": [
    "for num in None:\n",
    "    print(num)"
   ]
  },
  {
   "cell_type": "code",
   "execution_count": 16,
   "id": "b703129a-f318-454b-89b1-3f4c1d040c68",
   "metadata": {},
   "outputs": [
    {
     "name": "stdout",
     "output_type": "stream",
     "text": [
      "name\n",
      "address\n"
     ]
    }
   ],
   "source": [
    "data = {\"name\":\"AJA\", \"address\":\"HYD\"}\n",
    "for num in data:\n",
    "    print(num)"
   ]
  },
  {
   "cell_type": "code",
   "execution_count": 19,
   "id": "0f3d58ac-51c2-4c18-8166-23e498cd8c44",
   "metadata": {},
   "outputs": [
    {
     "name": "stdout",
     "output_type": "stream",
     "text": [
      "HELLO\n"
     ]
    }
   ],
   "source": [
    "for i in []:\n",
    "    print(i)\n",
    "    print(\"hi\")\n",
    "print(\"HELLO\")"
   ]
  },
  {
   "cell_type": "code",
   "execution_count": 20,
   "id": "8b40e908-dfe8-4416-b3fb-faa2ce1b1e40",
   "metadata": {},
   "outputs": [
    {
     "name": "stdout",
     "output_type": "stream",
     "text": [
      "+ve\n"
     ]
    }
   ],
   "source": [
    "num=10\n",
    "if num>0:\n",
    "    print(\"+ve\")\n",
    "else:\n",
    "    print(\"-ve\")"
   ]
  },
  {
   "cell_type": "code",
   "execution_count": 21,
   "id": "e40feb57-5066-428f-8f1d-84e65b16fc10",
   "metadata": {},
   "outputs": [
    {
     "name": "stdout",
     "output_type": "stream",
     "text": [
      "10\n",
      "DONE\n",
      "-3\n",
      "DONE\n",
      "4\n",
      "DONE\n",
      "5\n",
      "DONE\n",
      "6\n",
      "DONE\n",
      "-20\n",
      "DONE\n",
      "45\n",
      "DONE\n"
     ]
    }
   ],
   "source": [
    "numbers=[10,-3,4,5,6,-20,45]\n",
    "for num in numbers:\n",
    "    print(num)\n",
    "print(\"DONE\")"
   ]
  },
  {
   "cell_type": "code",
   "execution_count": 35,
   "id": "c0a36342-0d19-4f92-99e0-a44e022d1146",
   "metadata": {},
   "outputs": [
    {
     "name": "stdout",
     "output_type": "stream",
     "text": [
      "10 +VE\n",
      "-3 -VE\n",
      "4 +VE\n",
      "5 +VE\n",
      "6 +VE\n",
      "-20 -VE\n",
      "45 +VE\n",
      "DONE\n"
     ]
    }
   ],
   "source": [
    "numbers=[10,-3,4,5,6,-20,45]\n",
    "for num in numbers:\n",
    "    if num>=0:\n",
    "       print(num,\"+VE\")\n",
    "    else:\n",
    "       print(num,\"-VE\")\n",
    "print(\"DONE\")\n"
   ]
  },
  {
   "cell_type": "code",
   "execution_count": null,
   "id": "9712e268-d9b0-43de-a683-16b5f301ec44",
   "metadata": {},
   "outputs": [],
   "source": [
    "numbers=[10,-3,4,5,6,-20,45]\n",
    "for num in numbers:\n",
    "    if num>=0:\n",
    "       print(num,\"+VE\")\n",
    "    else:\n",
    "       print(num,\"-VE\")\n",
    "print(\"DONE\")\n"
   ]
  },
  {
   "cell_type": "code",
   "execution_count": null,
   "id": "f93382dc-539f-407e-b010-8ae1fad397ab",
   "metadata": {},
   "outputs": [],
   "source": [
    "numbers=[]\n",
    "p_n=0\n",
    "n_n=0\n",
    "for num in numbers:\n",
    "    if num>=0:\n",
    "        p_n=p_n+1\n",
    "    else:\n",
    "        n_n=n-n+1\n",
    "        print(p_n)\n",
    "        print(n_n) "
   ]
  }
 ],
 "metadata": {
  "kernelspec": {
   "display_name": "Python 3 (ipykernel)",
   "language": "python",
   "name": "python3"
  },
  "language_info": {
   "codemirror_mode": {
    "name": "ipython",
    "version": 3
   },
   "file_extension": ".py",
   "mimetype": "text/x-python",
   "name": "python",
   "nbconvert_exporter": "python",
   "pygments_lexer": "ipython3",
   "version": "3.12.4"
  }
 },
 "nbformat": 4,
 "nbformat_minor": 5
}
