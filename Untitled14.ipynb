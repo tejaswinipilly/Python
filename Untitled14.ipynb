{
 "cells": [
  {
   "cell_type": "code",
   "execution_count": 5,
   "id": "7ec7ba60-bc28-4638-bcf1-fc02b483563b",
   "metadata": {},
   "outputs": [
    {
     "ename": "SyntaxError",
     "evalue": "invalid syntax (1017922387.py, line 7)",
     "output_type": "error",
     "traceback": [
      "\u001b[1;36m  Cell \u001b[1;32mIn[5], line 7\u001b[1;36m\u001b[0m\n\u001b[1;33m    def operation(fun a,b):\u001b[0m\n\u001b[1;37m                      ^\u001b[0m\n\u001b[1;31mSyntaxError\u001b[0m\u001b[1;31m:\u001b[0m invalid syntax\n"
     ]
    }
   ],
   "source": [
    "def add(x,y):\n",
    "    print(f\"x={x},y={y}\")\n",
    "    return x+y\n",
    "def sub(x,y):\n",
    "    print(f\"{x},y={y}\")\n",
    "    return x-y\n",
    "def operation(fun a,b):\n",
    "    print(\"this is operation\")\n",
    "    res = fun(a,b)#add(a,b)\n",
    "    print(\"result=\",res)\n",
    "    r1 = operation(sub,2,4)\n",
    "    print(\"r1=\",r1)\n",
    "    r2 = operation(add,4,5)\n",
    "    print(\"r2=\",r2)\n"
   ]
  },
  {
   "cell_type": "code",
   "execution_count": null,
   "id": "8f3aa335-fb5e-4e8e-be30-78dbc3da7f96",
   "metadata": {},
   "outputs": [],
   "source": []
  }
 ],
 "metadata": {
  "kernelspec": {
   "display_name": "Python 3 (ipykernel)",
   "language": "python",
   "name": "python3"
  },
  "language_info": {
   "codemirror_mode": {
    "name": "ipython",
    "version": 3
   },
   "file_extension": ".py",
   "mimetype": "text/x-python",
   "name": "python",
   "nbconvert_exporter": "python",
   "pygments_lexer": "ipython3",
   "version": "3.12.4"
  }
 },
 "nbformat": 4,
 "nbformat_minor": 5
}
