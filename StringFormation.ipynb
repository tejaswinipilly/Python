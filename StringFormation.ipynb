{
 "cells": [
  {
   "cell_type": "code",
   "execution_count": null,
   "metadata": {},
   "outputs": [],
   "source": [
    "a=1000\n",
    "b=\"pthon\"\n",
    "c=[1,2,3,4]\n",
    "d=(10,20,3,40)\n",
    "e={78,35,45,60,}\n",
    "print(a,b,c,d,e)"
   ]
  },
  {
   "cell_type": "code",
   "execution_count": null,
   "metadata": {},
   "outputs": [],
   "source": [
    "a=1000\n",
    "b=\"pthon\"\n",
    "c=[1,2,3,4]\n",
    "d=(10,20,3,40)\n",
    "e={78,35,45,60,}\n",
    "print(a,b,c,d,e,sep='#')"
   ]
  },
  {
   "cell_type": "code",
   "execution_count": null,
   "metadata": {},
   "outputs": [],
   "source": [
    "a=1000\n",
    "b=\"pthon\"\n",
    "c=[1,2,3,4]\n",
    "d=(10,20,3,40)\n",
    "e={78,35,45,60,}\n",
    "print(a,b,c,d,e,sep=\"#$\")"
   ]
  },
  {
   "cell_type": "code",
   "execution_count": null,
   "metadata": {},
   "outputs": [],
   "source": [
    "a=1000\n",
    "b=\"pthon\"\n",
    "c=[1,2,3,4]\n",
    "d=(10,20,3,40)\n",
    "e={78,35,45,60,}\n",
    "print(a,b,c,d,e,sep=\"\\n\")"
   ]
  },
  {
   "cell_type": "code",
   "execution_count": null,
   "metadata": {},
   "outputs": [],
   "source": [
    "a=1000\n",
    "b=\"pthon\"\n",
    "c=[1,2,3,4]\n",
    "d=(10,20,3,40)\n",
    "e={78,35,45,60,}\n",
    "print(a,b,c,d,e,sep=\"/n\")"
   ]
  },
  {
   "cell_type": "code",
   "execution_count": null,
   "metadata": {},
   "outputs": [],
   "source": [
    "s=\"hello\"\n",
    "print(len(s))"
   ]
  },
  {
   "cell_type": "code",
   "execution_count": null,
   "metadata": {},
   "outputs": [],
   "source": [
    "s=\"\\n\"\n",
    "print(len(s))"
   ]
  },
  {
   "cell_type": "code",
   "execution_count": null,
   "metadata": {},
   "outputs": [],
   "source": [
    "s=\"/n\"\n",
    "print(len(s))"
   ]
  },
  {
   "cell_type": "code",
   "execution_count": null,
   "metadata": {},
   "outputs": [],
   "source": [
    "a=1000\n",
    "b=\"pthon\"\n",
    "c=[1,2,3,4]\n",
    "d=(10,20,3,40)\n",
    "e={78,35,45,60,}\n",
    "print(a)\n",
    "print(b)\n",
    "print(c)\n",
    "print(d)\n",
    "print(e)"
   ]
  },
  {
   "cell_type": "code",
   "execution_count": null,
   "metadata": {},
   "outputs": [],
   "source": [
    "a=1000\n",
    "b=\"pthon\"\n",
    "c=[1,2,3,4]\n",
    "d=(10,20,3,40)\n",
    "e={78,35,45,60,}\n",
    "print(a, end=\",\")\n",
    "print(b)\n",
    "print(c)\n",
    "print(d)\n",
    "print(e)"
   ]
  },
  {
   "cell_type": "code",
   "execution_count": null,
   "metadata": {},
   "outputs": [],
   "source": [
    "a=1000\n",
    "b=\"pthon\"\n",
    "c=[1,2,3,4]\n",
    "d=(10,20,3,40)\n",
    "e={78,35,45,60,}\n",
    "print(a, end=\",\")\n",
    "print(b)\n",
    "print(c, end=\"$\")\n",
    "print(d)\n",
    "print(e)"
   ]
  },
  {
   "cell_type": "code",
   "execution_count": null,
   "metadata": {},
   "outputs": [],
   "source": [
    "a=1000\n",
    "b=\"pthon\"\n",
    "c=[1,2,3,4]\n",
    "d=(10,20,3,40)\n",
    "e={78,35,45,60,}\n",
    "print(a, end=\",\")\n",
    "print(b, end=\"*\")\n",
    "print(c)\n",
    "print(d)\n",
    "print(e)"
   ]
  },
  {
   "cell_type": "code",
   "execution_count": null,
   "metadata": {},
   "outputs": [],
   "source": [
    "a=1000\n",
    "b=\"pthon\"\n",
    "c=[1,2,3,4]\n",
    "d=(10,20,3,40)\n",
    "e={78,35,45,60,}\n",
    "print(a, end=\",\")\n",
    "print(b)\n",
    "print(c)\n",
    "print(d, end=\"%\")\n",
    "print(e)"
   ]
  },
  {
   "cell_type": "code",
   "execution_count": null,
   "metadata": {},
   "outputs": [],
   "source": [
    "a=1000\n",
    "b=\"pthon\"\n",
    "c=[1,2,3,4]\n",
    "d=(10,20,3,40)\n",
    "e={78,35,45,60,}\n",
    "print(a, end=\",\")\n",
    "print(b, end=\"#\")\n",
    "print(c, end=\"^\")\n",
    "print(d, end=\"%\")\n",
    "print(e)"
   ]
  },
  {
   "cell_type": "code",
   "execution_count": null,
   "metadata": {},
   "outputs": [],
   "source": [
    "\n",
    "s=\"APPLE\"\n",
    "s1=\"Banana\"\n",
    "print(s+s1)"
   ]
  },
  {
   "cell_type": "code",
   "execution_count": null,
   "metadata": {},
   "outputs": [],
   "source": [
    "s=\"APPLE\"\n",
    "s1=\"Banana\"\n",
    "print(s+s1)"
   ]
  },
  {
   "cell_type": "code",
   "execution_count": null,
   "metadata": {},
   "outputs": [],
   "source": [
    "# The Anil kumar is a very good customer, bought 3045 sales order from our portal.We got 20000 profit because of Anil kumar.\n",
    "customer_name=input(\"Enter customer name:\")\n",
    "#number_of_sales_order=input(\"Enter sales order:\")\n",
    "#profit = input(\"Enter Profit\")\n",
    "s=\"The"
   ]
  },
  {
   "cell_type": "code",
   "execution_count": null,
   "metadata": {},
   "outputs": [],
   "source": [
    "# The Anil kumar is a very good customer, bought 3045 sales order from our portal.We got 20000 profit because of Anil kumar.\n",
    "customer_name=input(\"Enter customer name:\")\n",
    "#number_of_sales_order=input(\"Enter sales order:\")\n",
    "#profit = input(\"Enter Profit\")\n",
    "s=\"The\"+customer_name\n",
    "\n",
    "print(s)"
   ]
  },
  {
   "cell_type": "code",
   "execution_count": 3,
   "metadata": {},
   "outputs": [
    {
     "ename": "SyntaxError",
     "evalue": "unterminated string literal (detected at line 5) (2428803732.py, line 5)",
     "output_type": "error",
     "traceback": [
      "\u001b[1;36m  Cell \u001b[1;32mIn[3], line 5\u001b[1;36m\u001b[0m\n\u001b[1;33m    s=\"The\"+customer_name+\"is a very good customer\",bought\"\u001b[0m\n\u001b[1;37m                                                          ^\u001b[0m\n\u001b[1;31mSyntaxError\u001b[0m\u001b[1;31m:\u001b[0m unterminated string literal (detected at line 5)\n"
     ]
    }
   ],
   "source": [
    "# The Anil kumar is a very good customer, bought 3045 sales order from our portal.We got 20000 profit because of Anil kumar.\n",
    "customer_name=input(\"Enter customer name:\")\n",
    "#number_of_sales_order=input(\"Enter sales order:\")\n",
    "#profit = input(\"Enter Profit\")\n",
    "s=\"The\"+customer_name+\"is a very good customer\",bought\"\n",
    "print(s)"
   ]
  },
  {
   "cell_type": "code",
   "execution_count": null,
   "metadata": {},
   "outputs": [],
   "source": []
  }
 ],
 "metadata": {
  "kernelspec": {
   "display_name": "Python 3 (ipykernel)",
   "language": "python",
   "name": "python3"
  },
  "language_info": {
   "codemirror_mode": {
    "name": "ipython",
    "version": 3
   },
   "file_extension": ".py",
   "mimetype": "text/x-python",
   "name": "python",
   "nbconvert_exporter": "python",
   "pygments_lexer": "ipython3",
   "version": "3.12.4"
  }
 },
 "nbformat": 4,
 "nbformat_minor": 4
}
