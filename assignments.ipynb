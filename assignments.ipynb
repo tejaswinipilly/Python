{
 "cells": [
  {
   "cell_type": "code",
   "execution_count": 7,
   "id": "067041c0-48aa-4710-934d-c761e0ccc241",
   "metadata": {},
   "outputs": [
    {
     "name": "stdin",
     "output_type": "stream",
     "text": [
      "Enter a Number :  11\n"
     ]
    },
    {
     "name": "stdout",
     "output_type": "stream",
     "text": [
      "11 is a Prime Number\n"
     ]
    }
   ],
   "source": [
    "# 25. take a number from the user and check whether it is prime?\n",
    "\n",
    "check_number = input(\"Enter a Number : \")\n",
    "check_number = int(check_number)\n",
    "count = 0\n",
    "for i in range(2, check_number+1):\n",
    "    if check_number % i == 0 :\n",
    "        count += 1\n",
    "        \n",
    "if count == 1:\n",
    "    print(check_number, \"is a Prime Number\")\n",
    "else:\n",
    "    print(check_number, \"is not a Prime Number\")"
   ]
  },
  {
   "cell_type": "code",
   "execution_count": 1,
   "id": "266565d9-b729-42e3-ac49-a797c12756d6",
   "metadata": {},
   "outputs": [
    {
     "name": "stdin",
     "output_type": "stream",
     "text": [
      "Enter a word with digits :  12345\n"
     ]
    },
    {
     "name": "stdout",
     "output_type": "stream",
     "text": [
      "contains only digits\n"
     ]
    }
   ],
   "source": [
    "# 26. take a string from the user and check contains only digits or not?\n",
    "\n",
    "user_input = input(\"Enter a word with digits : \")\n",
    "count = 0\n",
    "for i in user_input:\n",
    "    if not(i >= \"0\" and i <= \"9\"):\n",
    "        print(\"contains other\")\n",
    "        break\n",
    "    else:\n",
    "        count += 1\n",
    "if count == len(user_input):\n",
    "    print(\"contains only digits\")\n",
    "    "
   ]
  },
  {
   "cell_type": "code",
   "execution_count": 6,
   "id": "d58f9ab3-2a57-49a4-91b9-05db9dd96122",
   "metadata": {},
   "outputs": [
    {
     "name": "stdin",
     "output_type": "stream",
     "text": [
      "Enter a word with alphabets :  JGJHGJGJG\n"
     ]
    },
    {
     "name": "stdout",
     "output_type": "stream",
     "text": [
      "contains only alphabets\n"
     ]
    }
   ],
   "source": [
    "# 27. take a string from the user and check contains only  alphabets or not?\n",
    "\n",
    "user_input = input(\"Enter a word with alphabets : \")\n",
    "count = 0\n",
    "for i in user_input:\n",
    "    if not((i >= \"a\" and i <= \"z\") or (i >= \"A\" and i <= \"Z\")) :\n",
    "        print(\"contains others\")\n",
    "        break\n",
    "    else:\n",
    "        count += 1\n",
    "if count == len(user_input):\n",
    "    print(\"contains only alphabets\")"
   ]
  },
  {
   "cell_type": "code",
   "execution_count": 8,
   "id": "6af8b46e-3bcf-4372-bea7-6873dbaf9487",
   "metadata": {},
   "outputs": [
    {
     "name": "stdin",
     "output_type": "stream",
     "text": [
      "Enter a word with Specail chars :  @\n"
     ]
    },
    {
     "name": "stdout",
     "output_type": "stream",
     "text": [
      "contains others\n"
     ]
    }
   ],
   "source": [
    "# 28. take a string from the user and check contains only  special chars or not?\n",
    "\n",
    "user_input = input(\"Enter a word with Specail chars : \")\n",
    "count = 0\n",
    "for i in user_input:\n",
    "    if not( (i >= \"a\" and i <= \"z\") or (i >= \"A\" and i <= \"Z\") or (i >= \"0\" and i <= \"9\") ) :\n",
    "        print(\"contains others\")\n",
    "        break\n",
    "    else:\n",
    "        count += 1\n",
    "if count == len(user_input):\n",
    "    print(\"contains only Specail chars\")"
   ]
  },
  {
   "cell_type": "code",
   "execution_count": 2,
   "id": "9157e78b-3599-45d4-938c-354bfa3d8fc5",
   "metadata": {},
   "outputs": [
    {
     "name": "stdin",
     "output_type": "stream",
     "text": [
      "Enter a word with alphabets :  dfhgfdjfAKJJhj\n"
     ]
    },
    {
     "name": "stdout",
     "output_type": "stream",
     "text": [
      "contains others\n"
     ]
    }
   ],
   "source": [
    "# 29.take a string from the user and check contains only  capital letters or not?\n",
    "\n",
    "user_input = input(\"Enter a word with alphabets : \")\n",
    "count = 0\n",
    "for i in user_input:\n",
    "    if not((i >= \"A\" and i <= \"Z\")) :\n",
    "        print(\"contains others\")\n",
    "        \n",
    "        break\n",
    "    else:\n",
    "        count += 1\n",
    "if count == len(user_input):\n",
    "    print(\"contains only Capital Letters\")"
   ]
  },
  {
   "cell_type": "code",
   "execution_count": 4,
   "id": "753270cd-4caa-4e92-83c0-73837c0b7401",
   "metadata": {},
   "outputs": [
    {
     "name": "stdin",
     "output_type": "stream",
     "text": [
      "Enter a word with alphabets :  HGFGFhdfhfd\n"
     ]
    },
    {
     "name": "stdout",
     "output_type": "stream",
     "text": [
      "contains others\n"
     ]
    }
   ],
   "source": [
    "# 30.take a string from the user and check contains only  small letters or not?\n",
    "\n",
    "user_input = input(\"Enter a word with alphabets : \")\n",
    "count = 0\n",
    "for i in user_input:\n",
    "    if not((i >= \"a\" and i <= \"z\")) :\n",
    "        print(\"contains others\")\n",
    "        break\n",
    "    else:\n",
    "        count += 1\n",
    "if count == len(user_input):\n",
    "    print(\"contains only small letters\")"
   ]
  },
  {
   "cell_type": "code",
   "execution_count": 27,
   "id": "72520e79-060c-4782-bfd8-3a55ae6a7be5",
   "metadata": {},
   "outputs": [
    {
     "name": "stdout",
     "output_type": "stream",
     "text": [
      "apple,orange,apple,grape,orange,apple,apple,orange\n",
      "apple,orange,apple,grape,orange,APPLE,APPLE,orange\n"
     ]
    }
   ],
   "source": [
    "# 31. WAP to replace last n occurrence of give string.\n",
    "# For example:”apple,orange,apple,grape,orange,apple,apple,orange”\n",
    "# source: “apple”\n",
    "# last occurrences: 2\n",
    "# replace with: APPLE\n",
    "# output:”apple,orange,apple,grape,orange,APPLE,APPLE,orange”\n",
    "\n",
    "a = \"apple,orange,apple,grape,orange,apple,apple,orange\"\n",
    "print(a)\n",
    "list_a = a.split(',')\n",
    "list_a = list_a[::-1]\n",
    "source = \"apple\"\n",
    "n = 2\n",
    "count = 0\n",
    "for i in range(0, len(list_a)):\n",
    "    if list_a[i] == source :\n",
    "        list_a[i] = \"APPLE\"\n",
    "        count += 1\n",
    "        if count == n:\n",
    "            break\n",
    "print(\",\".join(list_a[::-1]))"
   ]
  },
  {
   "cell_type": "code",
   "execution_count": 42,
   "id": "583fb5b2-fe5a-4a05-b848-28861b8e0b5c",
   "metadata": {},
   "outputs": [
    {
     "name": "stdin",
     "output_type": "stream",
     "text": [
      "Enter a string it contains numbers and float values :  hello\n"
     ]
    },
    {
     "name": "stdout",
     "output_type": "stream",
     "text": [
      "not contains numbers \n"
     ]
    }
   ],
   "source": [
    "# 32. WAP to check given string contains numbers or not. it should consider float numbers also.\n",
    "user_input = input(\"Enter a string it contains numbers and float values : \" )\n",
    "for i in user_input:\n",
    "    if (i >= \"0\" and i <= \"9\"):\n",
    "        print(\"contains numbers \")\n",
    "        break\n",
    "else:\n",
    "    print(\"not contains numbers \")"
   ]
  },
  {
   "cell_type": "code",
   "execution_count": 45,
   "id": "101ad233-7ffa-499e-8b2f-2970dda0bbb2",
   "metadata": {},
   "outputs": [
    {
     "name": "stdin",
     "output_type": "stream",
     "text": [
      "Enter a word with alphabets :  ABCabc\n"
     ]
    },
    {
     "name": "stdout",
     "output_type": "stream",
     "text": [
      "abcabc\n"
     ]
    }
   ],
   "source": [
    "# 33. Convert the total string in to lower case. Without using lower() function.\n",
    "\n",
    "user_input = input(\"Enter a word with alphabets : \")\n",
    "user_input = list(user_input)\n",
    "for i in range(0, len(user_input)):\n",
    "    if ((user_input[i] >= \"A\" and user_input[i] <= \"Z\")) :\n",
    "        user_input[i] = chr(ord(user_input[i]) + 32)\n",
    "\n",
    "print(\"\".join(user_input))"
   ]
  },
  {
   "cell_type": "code",
   "execution_count": 44,
   "id": "019286dd-5785-4edc-b627-5988d04bfc87",
   "metadata": {},
   "outputs": [
    {
     "name": "stdin",
     "output_type": "stream",
     "text": [
      "Enter a word with alphabets :  ABCabc\n"
     ]
    },
    {
     "name": "stdout",
     "output_type": "stream",
     "text": [
      "ABCABC\n"
     ]
    }
   ],
   "source": [
    "# 34. Convert the total string in to upper case. Without using upper() function.\n",
    "\n",
    "user_input = input(\"Enter a word with alphabets : \")\n",
    "user_input = list(user_input)\n",
    "for i in range(0, len((user_input))):\n",
    "    if ((user_input[i] >= \"a\" and user_input[i] <= \"z\")) :\n",
    "        user_input[i] = chr(ord(user_input[i]) - 32)\n",
    "\n",
    "print(\"\".join(user_input))"
   ]
  },
  {
   "cell_type": "code",
   "execution_count": 34,
   "id": "d941684b-9df9-40a3-a0cd-3014a5f7506d",
   "metadata": {},
   "outputs": [
    {
     "name": "stdout",
     "output_type": "stream",
     "text": [
      "Menu: \n",
      "1. windows \n",
      "2. Linux \n",
      "3. Mac \n",
      "4. quit\n"
     ]
    },
    {
     "name": "stdin",
     "output_type": "stream",
     "text": [
      "Select a number from above options :  5\n"
     ]
    },
    {
     "name": "stdout",
     "output_type": "stream",
     "text": [
      "===>  Select from given options please  <===\n",
      "Menu: \n",
      "1. windows \n",
      "2. Linux \n",
      "3. Mac \n",
      "4. quit\n"
     ]
    },
    {
     "name": "stdin",
     "output_type": "stream",
     "text": [
      "Select a number from above options :  4\n"
     ]
    },
    {
     "name": "stdout",
     "output_type": "stream",
     "text": [
      "  *** Thank You!  ***  \n"
     ]
    }
   ],
   "source": [
    "'''35. Show the below menu to the user until and until user select quit and display corresponding os message\n",
    "Menu:\n",
    "1. windows\n",
    "2. Linux\n",
    "3. Mac\n",
    "4. quit\n",
    "a = \"Menu: \\n1. windows \\n2. Linux \\n3. Mac \\n4. quit\"\n",
    "print(a)'''\n",
    "\n",
    "condition = True\n",
    "while condition:\n",
    "    a = \"Menu: \\n1. windows \\n2. Linux \\n3. Mac \\n4. quit\"\n",
    "    print(a)\n",
    "    user_input = input(\"Select a number from above options : \")\n",
    "    if \"1\" == user_input:\n",
    "        print(\"  ***  You selected Windows  ***  \")\n",
    "        condition = True\n",
    "    elif \"2\" == user_input:\n",
    "        print(\" ***  You selected Linux  ***  \")\n",
    "        condition = True\n",
    "    elif \"3\" == user_input:\n",
    "        print(\"  *** You selected Mac  ***  \")\n",
    "        condition = True\n",
    "    elif \"4\" == user_input:\n",
    "        print(\"  *** Thank You!  ***  \")\n",
    "        condition = False\n",
    "    else:\n",
    "        print(\"===>  Select from given options please  <===\")\n",
    "        condition = True\n",
    "        \n"
   ]
  },
  {
   "cell_type": "code",
   "execution_count": 3,
   "id": "61ada60a-ef5f-471c-96b6-9a7773d17ce1",
   "metadata": {},
   "outputs": [
    {
     "name": "stdin",
     "output_type": "stream",
     "text": [
      "Enter a string it contains numbers :  hello\n"
     ]
    },
    {
     "name": "stdout",
     "output_type": "stream",
     "text": [
      "not contains numbers \n"
     ]
    }
   ],
   "source": [
    "# 36. take a string from the user and check contains at least one digit or not?\n",
    "user_input = input(\"Enter a string it contains numbers : \" )\n",
    "for i in user_input:\n",
    "    if (i >= \"0\" and i <= \"9\"):\n",
    "        print(\"contains numbers \")\n",
    "        break\n",
    "else:\n",
    "    print(\"not contains numbers \")"
   ]
  },
  {
   "cell_type": "code",
   "execution_count": 6,
   "id": "cd212827-507e-4426-8972-b2627b5dcbe0",
   "metadata": {},
   "outputs": [
    {
     "name": "stdin",
     "output_type": "stream",
     "text": [
      "Enter a string it contains alphabets :  1254A\n"
     ]
    },
    {
     "name": "stdout",
     "output_type": "stream",
     "text": [
      "Contains Alphabets \n"
     ]
    }
   ],
   "source": [
    "# 37. take a string from the user and check contains at least one alphabets or not?\n",
    "\n",
    "user_input = input(\"Enter a string it contains alphabets : \" )\n",
    "for i in user_input:\n",
    "    if (i >= \"A\" and i <= \"Z\") or (i >= \"a\" and i <= \"z\"):\n",
    "        print(\"Contains Alphabets \")\n",
    "        break\n",
    "else:\n",
    "    print(\"Not contains Alphabets \")"
   ]
  },
  {
   "cell_type": "code",
   "execution_count": 9,
   "id": "d127499a-14b0-43b9-90e6-e4b841e2cba5",
   "metadata": {},
   "outputs": [
    {
     "name": "stdin",
     "output_type": "stream",
     "text": [
      "Enter a string it contains Chars :  dsggjsdgs$\n"
     ]
    },
    {
     "name": "stdout",
     "output_type": "stream",
     "text": [
      "Contains Chars\n"
     ]
    }
   ],
   "source": [
    "# 38. take a string from the user and check contains at least one chars or not?\n",
    "user_input = input(\"Enter a string it contains Chars : \" )\n",
    "for i in user_input:\n",
    "    if not ((i >= \"A\" and i <= \"Z\") or (i >= \"a\" and i <= \"z\") or (i >= \"0\" and i <= \"9\")):\n",
    "        print(\"Contains Chars\")\n",
    "        break\n",
    "else:\n",
    "    print(\"Not contains chars \")"
   ]
  },
  {
   "cell_type": "code",
   "execution_count": 12,
   "id": "73334d2a-7d8d-4f2a-b4e2-90135331d9dd",
   "metadata": {},
   "outputs": [
    {
     "name": "stdin",
     "output_type": "stream",
     "text": [
      "Enter a string it contains alphabets :  hgfadsG\n"
     ]
    },
    {
     "name": "stdout",
     "output_type": "stream",
     "text": [
      "Contains capital letters \n"
     ]
    }
   ],
   "source": [
    "# 39. take a string from the user and check contains at least one capital letter or not?\n",
    "\n",
    "user_input = input(\"Enter a string it contains alphabets : \" )\n",
    "for i in user_input:\n",
    "    if (i >= \"A\" and i <= \"Z\"):\n",
    "        print(\"Contains capital letters \")\n",
    "        break\n",
    "else:\n",
    "    print(\"Not contains capital letters \")"
   ]
  },
  {
   "cell_type": "code",
   "execution_count": 16,
   "id": "31045320-7806-4de8-b7a8-213fa761aa8e",
   "metadata": {},
   "outputs": [
    {
     "name": "stdin",
     "output_type": "stream",
     "text": [
      "Enter a string it contains alphabets :  FHGCJHC\n"
     ]
    },
    {
     "name": "stdout",
     "output_type": "stream",
     "text": [
      "Not contains small letters \n"
     ]
    }
   ],
   "source": [
    "# 40. take a string from the user and check contains at least one small letter or not?\n",
    "\n",
    "user_input = input(\"Enter a string it contains alphabets : \" )\n",
    "for i in user_input:\n",
    "    if (i >= \"a\" and i <= \"z\"):\n",
    "        print(\"Contains small letters \")\n",
    "        break\n",
    "else:\n",
    "    print(\"Not contains small letters \")"
   ]
  },
  {
   "cell_type": "code",
   "execution_count": 35,
   "id": "fc437342-a15a-4dad-8a80-ebc1efa1de71",
   "metadata": {},
   "outputs": [
    {
     "name": "stdout",
     "output_type": "stream",
     "text": [
      "1,3,5,7,9,11,13,15,17,19,21,23,25,27,29,31,33,35,37,39,41,43,45,47,49,51,53,55,57,59,61,63,65,67,69,71,73,75,77,79,81,83,85,87,89,91,93,95,97,99,101,103,105,107,109,111,113,115,117,119,121,123,125,127,129,131,133,135,137,139,141,143,145,147,149,151,153,155,157,159,161,163,165,167,169,171,173,175,177,179,181,183,185,187,189,191,193,195,197,199,"
     ]
    }
   ],
   "source": [
    "# 41. Print the first 100 odd numbers\n",
    "\n",
    "for i in range(1, 201):\n",
    "    if i % 2 != 0:\n",
    "        print(i, end=\",\")\n",
    "        \n",
    "    "
   ]
  },
  {
   "cell_type": "code",
   "execution_count": 21,
   "id": "8e1865ac-b4c8-4296-89f1-003318a32ab3",
   "metadata": {},
   "outputs": [
    {
     "name": "stdin",
     "output_type": "stream",
     "text": [
      "enter a number :  50\n"
     ]
    },
    {
     "name": "stdout",
     "output_type": "stream",
     "text": [
      "1 2 5 10 25 50 "
     ]
    }
   ],
   "source": [
    "# 42. Determine the factors of a number entered  by the user\n",
    "\n",
    "user_input = input(\"enter a number : \")\n",
    "user_input = int(user_input)\n",
    "\n",
    "for i in range(1, user_input+1):\n",
    "    if user_input % i == 0:\n",
    "        print(i, end= \" \")\n"
   ]
  },
  {
   "cell_type": "code",
   "execution_count": 29,
   "id": "b06969bf-e116-417f-81a9-d66f46da2ef0",
   "metadata": {},
   "outputs": [
    {
     "name": "stdout",
     "output_type": "stream",
     "text": [
      "86\n"
     ]
    },
    {
     "name": "stdin",
     "output_type": "stream",
     "text": [
      "enter a number for guess :  90\n"
     ]
    },
    {
     "name": "stdout",
     "output_type": "stream",
     "text": [
      "Higher\n"
     ]
    },
    {
     "name": "stdin",
     "output_type": "stream",
     "text": [
      "enter a number for guess :  10\n"
     ]
    },
    {
     "name": "stdout",
     "output_type": "stream",
     "text": [
      "Lower\n"
     ]
    },
    {
     "name": "stdin",
     "output_type": "stream",
     "text": [
      "enter a number for guess :  50\n"
     ]
    },
    {
     "name": "stdout",
     "output_type": "stream",
     "text": [
      "Lower\n"
     ]
    },
    {
     "name": "stdin",
     "output_type": "stream",
     "text": [
      "enter a number for guess :  85\n"
     ]
    },
    {
     "name": "stdout",
     "output_type": "stream",
     "text": [
      "Lower\n"
     ]
    },
    {
     "name": "stdin",
     "output_type": "stream",
     "text": [
      "enter a number for guess :  88\n"
     ]
    },
    {
     "name": "stdout",
     "output_type": "stream",
     "text": [
      "Higher\n"
     ]
    },
    {
     "name": "stdin",
     "output_type": "stream",
     "text": [
      "enter a number for guess :  86\n"
     ]
    },
    {
     "name": "stdout",
     "output_type": "stream",
     "text": [
      "YES\n"
     ]
    }
   ],
   "source": [
    "# 43. Play a number guessing game (User enters a guess, you print YES or Higher or Lower).\n",
    "# This should continue until and until user gives a correct number or want to quit in the middle.\n",
    "# Get a hidden number by using random.randint(1,100)\n",
    "\n",
    "number = random.randint(1, 100)\n",
    "# print(number)\n",
    "condition = True\n",
    "while condition:\n",
    "    user_input = input(\"enter a number for guess : \")\n",
    "    user_input = int(user_input)\n",
    "    if number == user_input:\n",
    "        print(\"YES\")\n",
    "        condition = False\n",
    "    elif number > user_input:\n",
    "        print(\"Lower\")\n",
    "        condition = True\n",
    "    else:\n",
    "        print(\"Higher\")\n",
    "        condition = True"
   ]
  },
  {
   "cell_type": "code",
   "execution_count": 56,
   "id": "21efc4a2-d02d-402d-aae8-578aeb8cdaa5",
   "metadata": {},
   "outputs": [
    {
     "name": "stdin",
     "output_type": "stream",
     "text": [
      "enter a  number : 13\n",
      "enter a number :  2\n"
     ]
    },
    {
     "name": "stdout",
     "output_type": "stream",
     "text": [
      "0\n",
      " a is divisible by b \n"
     ]
    }
   ],
   "source": [
    "# 44. Take two numbers from the user a,b check whether a is divisible by b or not?\n",
    "\n",
    "a = input(\"enter a  number :\" )\n",
    "a = int(a)\n",
    "b = input(\"enter a number : \")\n",
    "b = int(a)\n",
    "print(a % b)\n",
    "if a % b == 0:\n",
    "    print(\" a is divisible by b \")\n",
    "else:\n",
    "    print(\" a is not divisible by b \")"
   ]
  },
  {
   "cell_type": "code",
   "execution_count": 54,
   "id": "89cb9fca-7848-482f-8514-27b172ee301a",
   "metadata": {},
   "outputs": [
    {
     "name": "stdout",
     "output_type": "stream",
     "text": [
      "sum of multiples of 3 is  166833\n",
      "sum of multiples of 5 is  99500\n"
     ]
    }
   ],
   "source": [
    "# 45. Find the sum of all the multiples of 3 or 5 below 1000\n",
    "\n",
    "sum_of_3 = 0\n",
    "sum_of_5 = 0\n",
    "for i in range(1, 1000):\n",
    "    if i % 3 == 0:\n",
    "        sum_of_3 += i\n",
    "    if i % 5 == 0:\n",
    "        sum_of_5 += i\n",
    "\n",
    "print(\"sum of multiples of 3 is \", sum_of_3)\n",
    "print(\"sum of multiples of 5 is \", sum_of_5)\n"
   ]
  },
  {
   "cell_type": "markdown",
   "id": "383be0e3-579e-41fd-ab29-8aa54b64ab64",
   "metadata": {},
   "source": [
    " ### 46. Write a program to find out big of two numbers"
   ]
  },
  {
   "cell_type": "code",
   "execution_count": 2,
   "id": "71d03083-11c7-448b-ae02-3e51d219432c",
   "metadata": {},
   "outputs": [
    {
     "name": "stdin",
     "output_type": "stream",
     "text": [
      "Enter a number : 20\n",
      "Enter a number : 30\n"
     ]
    },
    {
     "name": "stdout",
     "output_type": "stream",
     "text": [
      "Big number is  30\n"
     ]
    }
   ],
   "source": [
    "user_input = input(\"Enter a number :\")\n",
    "user_input_2 = input(\"Enter a number :\")\n",
    "user_input = float(user_input)\n",
    "user_input_2 = float(user_input_2)\n",
    "\n",
    "if user_input > user_input_2 :\n",
    "    print(\"Big number is \", int(user_input))\n",
    "else:\n",
    "    print(\"Big number is \", int(user_input_2))\n",
    "\n"
   ]
  },
  {
   "cell_type": "markdown",
   "id": "a86c2b2e-ea2a-4d71-8e74-cc6f06a6c9ae",
   "metadata": {},
   "source": [
    "### 47. Write a program to find out biggest number in the given numbers."
   ]
  },
  {
   "cell_type": "code",
   "execution_count": 6,
   "id": "f4e886c3-c23b-474b-b6b2-3ea48a3a7e84",
   "metadata": {},
   "outputs": [
    {
     "name": "stdin",
     "output_type": "stream",
     "text": [
      "Enter a Number : 125321\n"
     ]
    },
    {
     "name": "stdout",
     "output_type": "stream",
     "text": [
      "5\n"
     ]
    }
   ],
   "source": [
    "user_input = input(\"Enter a Number :\")\n",
    "user_input = list(user_input)\n",
    "big = int(user_input[0])\n",
    "for i in user_input:\n",
    "    if int(i) >= big:\n",
    "        big = int(i)\n",
    "print(big)\n"
   ]
  },
  {
   "cell_type": "markdown",
   "id": "84fc2d9f-5876-4b4b-96bc-6ed40ba43d2c",
   "metadata": {},
   "source": [
    "### 48. find out the index of  third occurrence of given substring"
   ]
  },
  {
   "cell_type": "code",
   "execution_count": 15,
   "id": "ecbe2a22-4b45-4964-8c0f-421398aec080",
   "metadata": {},
   "outputs": [
    {
     "name": "stdin",
     "output_type": "stream",
     "text": [
      "Enter a String  medi k medi l medi l\n",
      "Enter a sub string medi\n"
     ]
    },
    {
     "name": "stdout",
     "output_type": "stream",
     "text": [
      "13\n"
     ]
    }
   ],
   "source": [
    "user_input = input(\"Enter a String \")\n",
    "user_input_2 = input(\"Enter a sub string\")\n",
    "count = 0\n",
    "length = 0\n",
    "list_words = user_input.split(\" \")\n",
    "for i in range(0, len(list_words)):\n",
    "    if list_words[i] == user_input_2:\n",
    "        count += 1\n",
    "        if count == 3:\n",
    "            break\n",
    "        length += len(list_words[i])\n",
    "    else:\n",
    "        length += len(list_words[i])\n",
    "user_input = \" \".join(list_words)\n",
    "if count == 3:\n",
    "    print(length+count)\n",
    "    "
   ]
  },
  {
   "cell_type": "markdown",
   "id": "ad6ad976-994a-40a0-8a78-ee60d389ed8f",
   "metadata": {},
   "source": [
    "## 49. find out the index nth occurrence of given substring"
   ]
  },
  {
   "cell_type": "code",
   "execution_count": 29,
   "id": "1815b565-2a20-4673-804b-f766cb5b1bc4",
   "metadata": {},
   "outputs": [
    {
     "name": "stdin",
     "output_type": "stream",
     "text": [
      "Enter a String  medi medi medi\n",
      "Enter a sub string medi\n"
     ]
    },
    {
     "name": "stdout",
     "output_type": "stream",
     "text": [
      "15\n"
     ]
    }
   ],
   "source": [
    "user_input = input(\"Enter a String \")\n",
    "user_input_2 = input(\"Enter a sub string\")\n",
    "count = 0\n",
    "length = 0\n",
    "list_words = user_input.split(\" \")\n",
    "for i in range(0, len(list_words)):\n",
    "    if list_words[i] == user_input_2:\n",
    "        count += 1\n",
    "        length += len(list_words[i])\n",
    "    else:\n",
    "        length += len(list_words[i])\n",
    "user_input = \" \".join(list_words)\n",
    "\n",
    "print(length+count)"
   ]
  },
  {
   "cell_type": "markdown",
   "id": "901e5ae0-556b-4b26-8c3f-6378cbcedbc9",
   "metadata": {},
   "source": [
    "### 50. Take some single digit numbers from the user and findout min, maximum, sum, average"
   ]
  },
  {
   "cell_type": "code",
   "execution_count": 43,
   "id": "ed906b57-f6da-4005-8ecd-2b216889ac1e",
   "metadata": {},
   "outputs": [
    {
     "name": "stdin",
     "output_type": "stream",
     "text": [
      "enter a number for no of inputs :  3\n",
      " enter a number  30\n",
      " enter a number  20\n",
      " enter a number  10\n"
     ]
    },
    {
     "name": "stdout",
     "output_type": "stream",
     "text": [
      "mimimunm of a given numbers  10\n",
      "Maximum of a given numbers  30\n",
      "sum of given numbers  60\n",
      "Average of given numbers 20.0\n"
     ]
    }
   ],
   "source": [
    "n = input(\"enter a number for no of inputs : \")\n",
    "n = int(n)\n",
    "list_a = []\n",
    "for i in range(n):\n",
    "    user_input = input(\" enter a number \")\n",
    "    list_a.append(int(user_input))\n",
    "min_of = list_a[0]\n",
    "max_of = list_a[0]\n",
    "sum_of = 0\n",
    "for i in list_a:\n",
    "    sum_of += i\n",
    "    if min_of >= i:\n",
    "        min_of = i\n",
    "    if max_of  <= i:\n",
    "        max_of = i\n",
    "print(\"mimimunm of a given numbers \", min_of)\n",
    "print(\"Maximum of a given numbers \", max_of)\n",
    "print(\"sum of given numbers \", sum_of)\n",
    "print(\"Average of given numbers\", (sum_of / n))"
   ]
  },
  {
   "cell_type": "code",
   "execution_count": 51,
   "id": "273f9978-4db7-402f-8aa8-273a07e970b9",
   "metadata": {},
   "outputs": [
    {
     "name": "stdin",
     "output_type": "stream",
     "text": [
      "enter a number  321\n"
     ]
    },
    {
     "name": "stdout",
     "output_type": "stream",
     "text": [
      "000321\n"
     ]
    }
   ],
   "source": [
    "# 51. print the number in proper mathematical way.\n",
    "# \tConsider that we have 6 digit numbers.\n",
    "# Number format  WAP> 10 -> 000010\n",
    "# \t\t100 ->  000100\n",
    "# \t\t1000 ->  001000\n",
    "# \t\t 2345678  ->  2345678\n",
    "# \tIf the number has morethan 6 digits then print as it is.\n",
    "\n",
    "user_input = input(\"enter a number \")\n",
    "length = len(user_input)\n",
    "if length < 7:\n",
    "    print(\"0\" * (6- length) + user_input) #  or  #  print(user_input.zfill(6))"
   ]
  },
  {
   "cell_type": "markdown",
   "id": "7e850a4d-8351-40a4-b960-df7c625f9f95",
   "metadata": {},
   "source": [
    "### 52. names  =\"emp1,emp2,emp3,emp4\" iterate through the employee names."
   ]
  },
  {
   "cell_type": "code",
   "execution_count": 52,
   "id": "4e9bd44c-59bb-4b44-a129-0d41712c9a91",
   "metadata": {},
   "outputs": [
    {
     "name": "stdin",
     "output_type": "stream",
     "text": [
      "enter emp name  123\n"
     ]
    },
    {
     "name": "stdout",
     "output_type": "stream",
     "text": [
      "emp1 123\n"
     ]
    },
    {
     "name": "stdin",
     "output_type": "stream",
     "text": [
      "enter emp name  456\n"
     ]
    },
    {
     "name": "stdout",
     "output_type": "stream",
     "text": [
      "emp2 456\n"
     ]
    },
    {
     "name": "stdin",
     "output_type": "stream",
     "text": [
      "enter emp name  789\n"
     ]
    },
    {
     "name": "stdout",
     "output_type": "stream",
     "text": [
      "emp3 789\n"
     ]
    },
    {
     "name": "stdin",
     "output_type": "stream",
     "text": [
      "enter emp name  654\n"
     ]
    },
    {
     "name": "stdout",
     "output_type": "stream",
     "text": [
      "emp4 654\n"
     ]
    }
   ],
   "source": [
    "names =\"emp1,emp2,emp3,emp4\"\n",
    "for i in names.split(\",\"):\n",
    "    print(i, input(\"enter emp name \" ))"
   ]
  },
  {
   "cell_type": "code",
   "execution_count": 66,
   "id": "f45a3a37-62e6-4576-ae3c-23e61791d40d",
   "metadata": {},
   "outputs": [
    {
     "name": "stdin",
     "output_type": "stream",
     "text": [
      "Enter a sentence  akhil m akhi m akhil m\n"
     ]
    },
    {
     "name": "stdout",
     "output_type": "stream",
     "text": [
      "['akhil', 'm', 'akhi', 'm', 'akhil', 'm']\n"
     ]
    },
    {
     "name": "stdin",
     "output_type": "stream",
     "text": [
      "enter a sub string m\n",
      "enter a occurances of numbers  2\n",
      "enter a string to change medi\n"
     ]
    },
    {
     "name": "stdout",
     "output_type": "stream",
     "text": [
      "akhil\n",
      "m\n",
      "akhi\n",
      "m\n",
      "akhil medi akhi medi akhil m\n"
     ]
    }
   ],
   "source": [
    "# 53. Take actual string, source string, destination string.\n",
    "# replce first nth occurrences of source string with destination string of actual string.\n",
    "\n",
    "user_input = input(\"Enter a sentence \")\n",
    "list_a = user_input.split()\n",
    "print(list_a)\n",
    "source = input(\"enter a sub string\")\n",
    "n = input(\"enter a occurances of numbers \")\n",
    "n = int(n)\n",
    "destination = input(\"enter a string to change\")\n",
    "count = 0\n",
    "for i in range(0, len(list_a)):\n",
    "    print(list_a[i])\n",
    "    if list_a[i] == source :\n",
    "        list_a[i] = destination\n",
    "        count += 1\n",
    "        if count == n:\n",
    "            break\n",
    "print(\" \".join(list_a))"
   ]
  },
  {
   "cell_type": "code",
   "execution_count": 9,
   "id": "d73f956b-654f-4001-ae8f-037ecb5f66c8",
   "metadata": {},
   "outputs": [
    {
     "name": "stdin",
     "output_type": "stream",
     "text": [
      "enter a number : 2\n",
      "enter a number : 2\n"
     ]
    },
    {
     "name": "stdout",
     "output_type": "stream",
     "text": [
      "1. addition \n",
      "2. multiples \n",
      "3.division \n",
      "4.sqrt \n",
      "5. pow a**b \n",
      "6.subtraction\n"
     ]
    },
    {
     "name": "stdin",
     "output_type": "stream",
     "text": [
      "select from above options :  5\n"
     ]
    },
    {
     "name": "stdout",
     "output_type": "stream",
     "text": [
      "pow a**b  of : 4.0\n"
     ]
    }
   ],
   "source": [
    "# 54. Take a two numbers from the user and do below menu driven operations\n",
    "# 1. addition\n",
    "# 2. multiples\n",
    "# 3.division\n",
    "# 4.sqrt\n",
    "# 5. pow    a**b\n",
    "# 6.subtraction\n",
    "# After selection do the corresponding operation.\n",
    "# Note: user may give int, or float numbers. You should check whether it is proper digits or not. \n",
    "# I.e the user given string should be in the position to convert to float. \n",
    "# Other wise show the “inproper string given” Error.\n",
    "\n",
    "user_input = input(\"enter a number :\")\n",
    "user_input = float(user_input)\n",
    "user_input_1 = input(\"enter a number :\")\n",
    "user_input_1 = float(user_input_1)\n",
    "\n",
    "print(\"1. addition \\n2. multiples \\n3.division \\n4.sqrt \\n5. pow a**b \\n6.subtraction\")\n",
    "select = input(\"select from above options : \")\n",
    "if select == \"1\":\n",
    "    print(\"addition of :\", user_input + user_input_1)\n",
    "elif select == \"2\":\n",
    "    print(\"multiples  of :\", user_input * user_input_1)\n",
    "elif select == \"3\":\n",
    "    print(\"division   of :\", user_input / user_input_1)\n",
    "elif select == \"4\":\n",
    "    print(\"sqrt of :\", user_input **2,  user_input_1**2 )\n",
    "elif select == \"5\":\n",
    "    print(\"pow a**b  of :\", user_input ** user_input_1 )\n",
    "elif select == \"6\":\n",
    "    print(\"subtraction  of :\", user_input - user_input_1)\n",
    "else:\n",
    "    print(\"selected inproper option\")\n",
    "    \n",
    "\n"
   ]
  },
  {
   "cell_type": "code",
   "execution_count": null,
   "id": "119b3a3c-fe04-4508-812c-0a59767b38a3",
   "metadata": {},
   "outputs": [],
   "source": [
    "# 55. Take numbers from the user and find out min, maximum, sum, average\n",
    "\n",
    "n = input(\"enter a number for no of inputs : \")\n",
    "n = int(n)\n",
    "list_a = []\n",
    "for i in range(n):\n",
    "    user_input = input(\" enter a number \")\n",
    "    list_a.append(int(user_input))\n",
    "min_of = list_a[0]\n",
    "max_of = list_a[0]\n",
    "sum_of = 0\n",
    "for i in list_a:\n",
    "    sum_of += i\n",
    "    if min_of >= i:\n",
    "        min_of = i\n",
    "    if max_of  <= i:\n",
    "        max_of = i\n",
    "print(\"mimimunm of a given numbers \", min_of)\n",
    "print(\"Maximum of a given numbers \", max_of)\n",
    "print(\"sum of given numbers \", sum_of)\n",
    "print(\"Average of given numbers\", (sum_of / n))"
   ]
  },
  {
   "cell_type": "code",
   "execution_count": 6,
   "id": "9ac81bee-66e9-4c3d-b78a-5bc40d8e2429",
   "metadata": {},
   "outputs": [
    {
     "name": "stdout",
     "output_type": "stream",
     "text": [
      "Even numbers: 11\n",
      "Odd numbers: 11\n",
      "Positive numbers: 22\n",
      "Negative numbers: 0\n",
      "Prime numbers: 7\n",
      "Perfect numbers: 0\n",
      "Armstrong numbers: 8\n",
      "Palindrome numbers: 11\n"
     ]
    }
   ],
   "source": [
    "# 56. l=[1,2,3,5,7,8,9,10,11,12,13,20,22,23,24,25,26,27,20,21,22,4] \n",
    "# find out how many even numbers are there and how many odd numbers are there and \n",
    "# how many positive numbers are there and how many negative numbers are there and \n",
    "# how many prime numbers are there and how many perfect numbers are there and \n",
    "# how many Armstrong numbers are there and how many palindrome numbers are there.\n",
    "ve_no = 0\n",
    "ne_no = 0\n",
    "even_no = 0\n",
    "odd_no = 0\n",
    "prime_no = 0\n",
    "perfect_no = 0\n",
    "armstrong_no = 0\n",
    "palindrome_no = 0\n",
    "\n",
    "l=[1,2,3,5,7,8,9,10,11,12,13,20,22,23,24,25,26,27,20,21,22,4]\n",
    "for i in l:\n",
    "    if i >=0:\n",
    "        ve_no += 1\n",
    "    else:\n",
    "        ne_no += 1\n",
    "    if i % 2 == 0:\n",
    "        even_no += 1\n",
    "    else:\n",
    "        odd_no += 1\n",
    "    if i <= 1:\n",
    "        prime_no += 0\n",
    "    else:\n",
    "        count = 0\n",
    "        for j in range(2, i+1):\n",
    "            if i % j == 0:\n",
    "                count += 1\n",
    "        if count == 1:\n",
    "            prime_no += 1\n",
    "    if i <= 1:\n",
    "        perfect_no += 0\n",
    "    else:\n",
    "        sum = 1\n",
    "        for j in range(2, i+1):\n",
    "            if i % j == 0:\n",
    "                sum += j\n",
    "                if i // j != j:\n",
    "                    sum += i // j\n",
    "        if sum == i:\n",
    "            perfect_no += 1\n",
    "    num_str = str(i)\n",
    "    num_digits = len(num_str)\n",
    "    sum_of_powers = 0\n",
    "    \n",
    "    for j in num_str:\n",
    "        sum_of_powers += (int(j) ** num_digits)\n",
    "\n",
    "    if sum_of_powers == i:\n",
    "        armstrong_no += 1\n",
    "    if str(i) == str(i)[::-1]:\n",
    "        palindrome_no += 1\n",
    "\n",
    "print(\"Even numbers:\", even_no)\n",
    "print(\"Odd numbers:\", odd_no)\n",
    "print(\"Positive numbers:\", ve_no)\n",
    "print(\"Negative numbers:\", ne_no)\n",
    "print(\"Prime numbers:\", prime_no)\n",
    "print(\"Perfect numbers:\", perfect_no)\n",
    "print(\"Armstrong numbers:\", armstrong_no)\n",
    "print(\"Palindrome numbers:\", palindrome_no)"
   ]
  },
  {
   "cell_type": "code",
   "execution_count": 10,
   "id": "fc1fed96-9d19-443b-9d9c-e314ccd9aa68",
   "metadata": {},
   "outputs": [
    {
     "name": "stdin",
     "output_type": "stream",
     "text": [
      "Enter a string :  Hello Akhil 123 @ aja %5jhfjdbhjb\n"
     ]
    },
    {
     "name": "stdout",
     "output_type": "stream",
     "text": [
      "Digits: 4\n",
      "Special symbols: 29\n",
      "Small letters: 20\n",
      "Capital letters: 2\n"
     ]
    }
   ],
   "source": [
    "# 57. Take a string from the user and find out how many digits are there, \n",
    "# how many special symbols are there, how many small letters are there, how many caps are there.\n",
    "\n",
    "user_input = input(\"Enter a string : \")\n",
    "digit_count = 0\n",
    "symbol_count = 0\n",
    "small_letter = 0\n",
    "captial_count = 0\n",
    "for i in user_input:\n",
    "    if (i >= \"a\" and i <= \"z\"):\n",
    "        small_letter += 1\n",
    "    if (i >= \"A\" and i <= \"Z\"):\n",
    "        captial_count += 1\n",
    "    if (i >= \"0\" and i <= \"9\"):\n",
    "        digit_count += 1\n",
    "    else:\n",
    "        symbol_count += 1\n",
    "print(\"Digits:\", digit_count)\n",
    "print(\"Special symbols:\", symbol_count)\n",
    "print(\"Small letters:\", small_letter)\n",
    "print(\"Capital letters:\", captial_count)\n"
   ]
  },
  {
   "cell_type": "code",
   "execution_count": 11,
   "id": "5e4b9d84-9bea-4fb0-bc30-9e928ad72218",
   "metadata": {},
   "outputs": [
    {
     "name": "stdin",
     "output_type": "stream",
     "text": [
      "Enter a string : hdgdshjgdsshsdjdoaij jjdkadskjads\n",
      "Enter a char : h\n"
     ]
    },
    {
     "name": "stdout",
     "output_type": "stream",
     "text": [
      "no of occurances are :  3\n"
     ]
    }
   ],
   "source": [
    "# 58. Take a char from the user and find out how many number of occurrences are there in given string\n",
    "\n",
    "user_input = input(\"Enter a string :\")\n",
    "user_input_1 = input(\"Enter a char :\")\n",
    "count = 0\n",
    "for i in user_input:\n",
    "    if i == user_input_1:\n",
    "        count += 1\n",
    "\n",
    "print(\"no of occurances are : \", count)"
   ]
  },
  {
   "cell_type": "code",
   "execution_count": 12,
   "id": "5cf78c52-6a4c-4158-aa96-c9c031f6e9d7",
   "metadata": {},
   "outputs": [
    {
     "name": "stdin",
     "output_type": "stream",
     "text": [
      "Enter a number : 2\n"
     ]
    },
    {
     "name": "stdout",
     "output_type": "stream",
     "text": [
      "no of  occurances are  6\n"
     ]
    }
   ],
   "source": [
    "# 59. Take a element from the user and find out how many times the  element occurred in given list\n",
    "\n",
    "list_a = [1,2,3,4,5,2,5,2,6,1,2,5,2,1,5,4,3,8,9,2]\n",
    "user_input = input(\"Enter a number :\")\n",
    "user_input = int(user_input)\n",
    "count = 0\n",
    "for i in list_a:\n",
    "    if i == user_input:\n",
    "        count += 1\n",
    "print(\"no of  occurances are \", count)"
   ]
  },
  {
   "cell_type": "code",
   "execution_count": 13,
   "id": "cdce1511-9996-44a2-bd45-39831ae04833",
   "metadata": {},
   "outputs": [
    {
     "name": "stdin",
     "output_type": "stream",
     "text": [
      "Enter a number : 3\n"
     ]
    },
    {
     "name": "stdout",
     "output_type": "stream",
     "text": [
      "no of  occurances are  2\n"
     ]
    }
   ],
   "source": [
    "# 60. Take an element from the user and find out how many number of occurrences are there in given tuple\n",
    "\n",
    "list_a = (1,2,3,4,5,2,5,2,6,1,2,5,2,1,5,4,3,8,9,2)\n",
    "user_input = input(\"Enter a number :\")\n",
    "user_input = int(user_input)\n",
    "count = 0\n",
    "for i in list_a:\n",
    "    if i == user_input:\n",
    "        count += 1\n",
    "print(\"no of  occurances are \", count)"
   ]
  },
  {
   "cell_type": "code",
   "execution_count": null,
   "id": "2f339566-d595-4e5a-9ff7-21558e7bb59d",
   "metadata": {},
   "outputs": [],
   "source": [
    "# 61. Reverse the string without effecting the special symbols. It involves three variations. Write code for three variations.\n",
    "#     Input: abc123,#$45def6%$^789$%^, output: $%^987%$^6fed54,#$321cba\n",
    "#     Input:abc123,#$45def6%$^789$%^, output: 9876fe,#$d54321%$^cba$%^\n",
    "# \tInout: \"123,#$456%$^789$%^\", Output: 321,#$654%$^987$%^   Only numbers has to reverse.\n"
   ]
  }
 ],
 "metadata": {
  "kernelspec": {
   "display_name": "Python 3 (ipykernel)",
   "language": "python",
   "name": "python3"
  },
  "language_info": {
   "codemirror_mode": {
    "name": "ipython",
    "version": 3
   },
   "file_extension": ".py",
   "mimetype": "text/x-python",
   "name": "python",
   "nbconvert_exporter": "python",
   "pygments_lexer": "ipython3",
   "version": "3.12.4"
  }
 },
 "nbformat": 4,
 "nbformat_minor": 5
}
