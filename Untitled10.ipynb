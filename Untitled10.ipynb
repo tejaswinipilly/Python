{
 "cells": [
  {
   "cell_type": "code",
   "execution_count": null,
   "id": "1314444d-5202-4d91-8cfe-d186d712b10d",
   "metadata": {},
   "outputs": [],
   "source": [
    "s = hyderabad\n",
    "p"
   ]
  }
 ],
 "metadata": {
  "kernelspec": {
   "display_name": "",
   "name": ""
  },
  "language_info": {
   "name": ""
  }
 },
 "nbformat": 4,
 "nbformat_minor": 5
}
