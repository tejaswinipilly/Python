{
 "cells": [
  {
   "cell_type": "code",
   "execution_count": 1,
   "id": "9e7baa15-80d0-45e7-9696-95076f752c8d",
   "metadata": {},
   "outputs": [
    {
     "name": "stdout",
     "output_type": "stream",
     "text": [
      "abc$def$ghi;jkl\n"
     ]
    }
   ],
   "source": [
    "s=\"abc;def;ghi;jkl\"\n",
    "s1=s.replace(\";\",\"$\",2)\n",
    "print(s1)"
   ]
  },
  {
   "cell_type": "code",
   "execution_count": 2,
   "id": "ea5c5014-dfba-4cea-a30a-6989700632c0",
   "metadata": {},
   "outputs": [
    {
     "name": "stdout",
     "output_type": "stream",
     "text": [
      "abc;def;ghi;jkl\n"
     ]
    }
   ],
   "source": [
    "s=\"abc;def;ghi;jkl\"\n",
    "s1=s.replace(\"$\",\";\",2)\n",
    "print(s1)"
   ]
  },
  {
   "cell_type": "code",
   "execution_count": 3,
   "id": "fdf44354-3059-4cea-baeb-e0d5689830db",
   "metadata": {},
   "outputs": [
    {
     "name": "stdout",
     "output_type": "stream",
     "text": [
      "abc;def;ghi;jkl\n"
     ]
    }
   ],
   "source": [
    "s=\"abc;def;ghi;jkl\"\n",
    "s1=s.replace(\"$\",\"$\",2)\n",
    "print(s1)"
   ]
  },
  {
   "cell_type": "code",
   "execution_count": 4,
   "id": "94810913-bdd3-4e8e-980c-07d1e82638b4",
   "metadata": {},
   "outputs": [
    {
     "name": "stdout",
     "output_type": "stream",
     "text": [
      "abc$def$ghi;jkl\n"
     ]
    }
   ],
   "source": [
    "s=\"abc;def;ghi;jkl\"\n",
    "s1=s.replace(\";\",\"$\",2)\n",
    "print(s1)"
   ]
  },
  {
   "cell_type": "code",
   "execution_count": 5,
   "id": "de8ef971-b508-40bb-a22e-bf10f51a881c",
   "metadata": {},
   "outputs": [
    {
     "name": "stdout",
     "output_type": "stream",
     "text": [
      "abc$def$ghi;jkl\n"
     ]
    }
   ],
   "source": [
    "s=\"abc;def;ghi;jkl\"\n",
    "s1=s.replace(\";\",\"$\",2)\n",
    "s2=s1.replace('$',';',1)\n",
    "print(s1)"
   ]
  },
  {
   "cell_type": "code",
   "execution_count": 6,
   "id": "f037e4aa-a780-450e-99cc-cf1be6cc7575",
   "metadata": {},
   "outputs": [
    {
     "name": "stdout",
     "output_type": "stream",
     "text": [
      "[3000, 5000, 1000, 2000, 'python']\n",
      "[3000, 5000, 1000, 2000, 'python']\n"
     ]
    }
   ],
   "source": [
    "a=1000\n",
    "b=2000\n",
    "s=\"python\"\n",
    "l=[3000,4000,a,b,s]\n",
    "k=l\n",
    "k[1]=5000\n",
    "print(l)\n",
    "print(k)"
   ]
  },
  {
   "cell_type": "code",
   "execution_count": null,
   "id": "52f36f4d-5b30-4567-b6d8-a017317b3e4a",
   "metadata": {},
   "outputs": [],
   "source": []
  }
 ],
 "metadata": {
  "kernelspec": {
   "display_name": "Python 3 (ipykernel)",
   "language": "python",
   "name": "python3"
  },
  "language_info": {
   "codemirror_mode": {
    "name": "ipython",
    "version": 3
   },
   "file_extension": ".py",
   "mimetype": "text/x-python",
   "name": "python",
   "nbconvert_exporter": "python",
   "pygments_lexer": "ipython3",
   "version": "3.12.4"
  }
 },
 "nbformat": 4,
 "nbformat_minor": 5
}
