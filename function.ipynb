{
 "cells": [
  {
   "cell_type": "code",
   "execution_count": 2,
   "id": "df6b773f-6d93-44a9-9ad7-d5d4b9da7444",
   "metadata": {},
   "outputs": [
    {
     "name": "stdout",
     "output_type": "stream",
     "text": [
      "result= 3\n",
      "res= None\n"
     ]
    }
   ],
   "source": [
    "def add(x,y):\n",
    "    z=x+y\n",
    "    print(\"result=\",z)\n",
    "res = add(1,2)\n",
    "print(\"res=\", res)"
   ]
  },
  {
   "cell_type": "code",
   "execution_count": 3,
   "id": "a700feab-aa83-44e6-b3e3-381e7dc532dd",
   "metadata": {},
   "outputs": [
    {
     "name": "stdout",
     "output_type": "stream",
     "text": [
      "result= 3\n",
      "res= 3\n"
     ]
    }
   ],
   "source": [
    "def add(x,y):\n",
    "    z=x+y\n",
    "    print(\"result=\",z)\n",
    "    return z\n",
    "res = add(1,2)\n",
    "print(\"res=\", res)"
   ]
  },
  {
   "cell_type": "code",
   "execution_count": 4,
   "id": "6c06ec86-398d-4cda-8ceb-2c2979bf0bf3",
   "metadata": {},
   "outputs": [
    {
     "name": "stdout",
     "output_type": "stream",
     "text": [
      "RESULT= -1\n"
     ]
    }
   ],
   "source": [
    "def operations(x,y):\n",
    "    z=x+y\n",
    "    a=x-y\n",
    "    c=x*y\n",
    "    return a \n",
    "res = operations(1,2)\n",
    "print(\"RESULT=\", res)"
   ]
  },
  {
   "cell_type": "code",
   "execution_count": 5,
   "id": "c94e23e0-2d6e-4851-b543-24387001f83c",
   "metadata": {},
   "outputs": [
    {
     "name": "stdout",
     "output_type": "stream",
     "text": [
      "RESULT= (-1, 2, 3)\n"
     ]
    }
   ],
   "source": [
    "def operations(x,y):\n",
    "    z=x+y\n",
    "    a=x-y\n",
    "    c=x*y\n",
    "    return a,c,z\n",
    "res = operations(1,2)\n",
    "print(\"RESULT=\", res)"
   ]
  },
  {
   "cell_type": "code",
   "execution_count": 7,
   "id": "d27c0ecf-8803-432b-a2b4-fbab0aa1b71e",
   "metadata": {},
   "outputs": [
    {
     "name": "stdout",
     "output_type": "stream",
     "text": [
      "HELLO\n",
      "RESULT= 3\n"
     ]
    }
   ],
   "source": [
    "\n",
    "def operations(x,y):\n",
    "    print(\"HELLO\")\n",
    "    z=x+y\n",
    "    return z\n",
    "    print(\"HI\")\n",
    "    a=x-y\n",
    "    return a\n",
    "    print(\"HYD\")\n",
    "    c=x*y\n",
    "    return c\n",
    "res = operations(1,2)\n",
    "print(\"RESULT=\", res)"
   ]
  },
  {
   "cell_type": "code",
   "execution_count": 13,
   "id": "584841eb-a073-4e2c-b724-5c83ac32e3e6",
   "metadata": {},
   "outputs": [
    {
     "name": "stdout",
     "output_type": "stream",
     "text": [
      "HI\n",
      "RESULT= HELLO\n",
      "HI\n",
      "RESULt= HYD\n"
     ]
    }
   ],
   "source": [
    "\n"
   ]
  },
  {
   "cell_type": "code",
   "execution_count": null,
   "id": "96db4b40-a858-493f-b704-fa2d274dceee",
   "metadata": {},
   "outputs": [],
   "source": []
  }
 ],
 "metadata": {
  "kernelspec": {
   "display_name": "Python 3 (ipykernel)",
   "language": "python",
   "name": "python3"
  },
  "language_info": {
   "codemirror_mode": {
    "name": "ipython",
    "version": 3
   },
   "file_extension": ".py",
   "mimetype": "text/x-python",
   "name": "python",
   "nbconvert_exporter": "python",
   "pygments_lexer": "ipython3",
   "version": "3.12.4"
  }
 },
 "nbformat": 4,
 "nbformat_minor": 5
}
