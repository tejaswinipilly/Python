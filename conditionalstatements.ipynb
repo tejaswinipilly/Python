{
 "cells": [
  {
   "cell_type": "code",
   "execution_count": 1,
   "id": "aadec603-be33-491b-9f4f-9a35618d350d",
   "metadata": {},
   "outputs": [
    {
     "name": "stdout",
     "output_type": "stream",
     "text": [
      "started\n",
      "a is big\n",
      "b is big\n",
      "ended\n"
     ]
    }
   ],
   "source": [
    "print(\"started\")\n",
    "a=1000\n",
    "b=2000\n",
    "print(\"a is big\")\n",
    "print(\"b is big\")\n",
    "print(\"ended\")"
   ]
  },
  {
   "cell_type": "code",
   "execution_count": 2,
   "id": "15b6ddf2-5d92-4166-9150-31023ea7a766",
   "metadata": {},
   "outputs": [
    {
     "name": "stdout",
     "output_type": "stream",
     "text": [
      "started\n",
      "a is big\n",
      "b is big\n",
      "ended\n"
     ]
    }
   ],
   "source": [
    "print(\"started\")\n",
    "a=1000\n",
    "b=2000\n",
    "print(\"a is big\")\n",
    "print(\"b is big\")\n",
    "print(\"ended\")"
   ]
  },
  {
   "cell_type": "code",
   "execution_count": 5,
   "id": "9a58e713-f12e-48ac-88f7-1c83e4764878",
   "metadata": {},
   "outputs": [
    {
     "name": "stdout",
     "output_type": "stream",
     "text": [
      "started\n",
      "a is big\n",
      "ended\n"
     ]
    }
   ],
   "source": [
    "print(\"started\")\n",
    "a=1000\n",
    "b=2000\n",
    "if True:\n",
    "    print(\"a is big\")\n",
    "else:\n",
    "    print(\"b is big\")\n",
    "print(\"ended\")  \n"
   ]
  },
  {
   "cell_type": "code",
   "execution_count": 6,
   "id": "8892418c-07d8-4182-815e-a1aa77efd7a7",
   "metadata": {},
   "outputs": [
    {
     "name": "stdout",
     "output_type": "stream",
     "text": [
      "started\n",
      "b is big\n",
      "ended\n"
     ]
    }
   ],
   "source": [
    "print(\"started\")\n",
    "a=1000\n",
    "b=2000\n",
    "if False:\n",
    "    print(\"a is big\")\n",
    "else:\n",
    "    print(\"b is big\")\n",
    "print(\"ended\")  \n"
   ]
  },
  {
   "cell_type": "code",
   "execution_count": 7,
   "id": "e5430170-9fda-4073-ba40-5992596cc1db",
   "metadata": {},
   "outputs": [
    {
     "name": "stdout",
     "output_type": "stream",
     "text": [
      "started\n",
      "a is big\n",
      "ended\n"
     ]
    }
   ],
   "source": [
    "print(\"started\")\n",
    "a=1000\n",
    "b=2000\n",
    "if False:\n",
    "    print(\"b is big\")\n",
    "else:\n",
    "    print(\"a is big\")\n",
    "print(\"ended\")  \n"
   ]
  },
  {
   "cell_type": "code",
   "execution_count": 9,
   "id": "85ba101b-c174-4634-b745-3fd9903ae193",
   "metadata": {},
   "outputs": [
    {
     "name": "stdout",
     "output_type": "stream",
     "text": [
      "started\n",
      "HI\n",
      "a is big\n",
      "ended\n"
     ]
    }
   ],
   "source": [
    "print(\"started\")\n",
    "a=1000\n",
    "b=2000\n",
    "if False:\n",
    "    print(\"HELLO\")\n",
    "    print(\"b is big\")\n",
    "else:\n",
    "    print(\"HI\")\n",
    "    print(\"a is big\")\n",
    "print(\"ended\")  \n"
   ]
  },
  {
   "cell_type": "code",
   "execution_count": 12,
   "id": "a514d767-7cfd-4b9c-9481-d72f95a01996",
   "metadata": {},
   "outputs": [
    {
     "ename": "SyntaxError",
     "evalue": "expected ':' (2148702018.py, line 4)",
     "output_type": "error",
     "traceback": [
      "\u001b[1;36m  Cell \u001b[1;32mIn[12], line 4\u001b[1;36m\u001b[0m\n\u001b[1;33m    if bool(\"python\")\u001b[0m\n\u001b[1;37m                     ^\u001b[0m\n\u001b[1;31mSyntaxError\u001b[0m\u001b[1;31m:\u001b[0m expected ':'\n"
     ]
    }
   ],
   "source": [
    "print(\"started\")\n",
    "a=1000\n",
    "b=2000\n",
    "if bool(\"python\")\n",
    "    print(\"HELLO\")\n",
    "    print(\"b is big\")\n",
    "else:\n",
    "    print(\"HI\")\n",
    "    print(\"a is big\")\n",
    "print(\"ended\")  "
   ]
  },
  {
   "cell_type": "code",
   "execution_count": 10,
   "id": "7e27d291-b28b-4171-9c5d-30d405413647",
   "metadata": {},
   "outputs": [
    {
     "name": "stdout",
     "output_type": "stream",
     "text": [
      "started\n",
      "HI\n",
      "a is bib\n",
      "ended\n"
     ]
    }
   ],
   "source": [
    "print(\"started\")\n",
    "a=0\n",
    "if bool(a):\n",
    "    print(\"HELLO\")\n",
    "    print(\"b is big\")\n",
    "else:\n",
    "    print(\"HI\")\n",
    "    print(\"a is bib\")\n",
    "print(\"ended\")"
   ]
  },
  {
   "cell_type": "code",
   "execution_count": 11,
   "id": "4198c559-00c5-4936-abbf-f5d5bc98636f",
   "metadata": {},
   "outputs": [
    {
     "name": "stdout",
     "output_type": "stream",
     "text": [
      "a is big\n",
      "b is big\n"
     ]
    }
   ],
   "source": [
    "a=1000\n",
    "b=2000\n",
    "print(\"a is big\")\n",
    "print(\"b is big\")"
   ]
  },
  {
   "cell_type": "code",
   "execution_count": 13,
   "id": "4d6f0977-5700-4d2b-92fe-486d6b98f08f",
   "metadata": {},
   "outputs": [
    {
     "name": "stdout",
     "output_type": "stream",
     "text": [
      "started\n",
      "HI\n",
      "a is big\n",
      "ended\n"
     ]
    }
   ],
   "source": [
    "print(\"started\")\n",
    "a=0\n",
    "if a: #bool(a)\n",
    "    print(\"HELLO\")\n",
    "    print(\"b is big\")\n",
    "else:\n",
    "    print(\"HI\")\n",
    "    print(\"a is big\")\n",
    "print(\"ended\")  "
   ]
  },
  {
   "cell_type": "code",
   "execution_count": 14,
   "id": "f8f20eb8-e33b-4f59-9fb1-472697401f35",
   "metadata": {},
   "outputs": [
    {
     "name": "stdout",
     "output_type": "stream",
     "text": [
      "hello\n"
     ]
    }
   ],
   "source": [
    "if 19:#bool(19)True\n",
    "    print(\"hello\")\n",
    "else:\n",
    "    print(\"hi\")\n",
    "    "
   ]
  },
  {
   "cell_type": "code",
   "execution_count": 15,
   "id": "6cebcbd5-227e-486f-b823-3b1ec796cd35",
   "metadata": {},
   "outputs": [
    {
     "name": "stdout",
     "output_type": "stream",
     "text": [
      "HI\n"
     ]
    }
   ],
   "source": [
    "if 0:#bool(0)False\n",
    "    print(\"hello\")\n",
    "else:\n",
    "    print(\"HI\")"
   ]
  },
  {
   "cell_type": "code",
   "execution_count": 17,
   "id": "e463c9bb-24db-4109-ab53-231a14092f1a",
   "metadata": {},
   "outputs": [
    {
     "name": "stdin",
     "output_type": "stream",
     "text": [
      "enter a value: \n"
     ]
    },
    {
     "name": "stdout",
     "output_type": "stream",
     "text": [
      "0\n"
     ]
    }
   ],
   "source": [
    "value=input(\"enter a value:\")\n",
    "print(len(value))"
   ]
  },
  {
   "cell_type": "code",
   "execution_count": 19,
   "id": "29667d9a-6ca9-45d9-8b3b-ef3fb64d36fa",
   "metadata": {},
   "outputs": [
    {
     "name": "stdout",
     "output_type": "stream",
     "text": [
      "0\n"
     ]
    }
   ],
   "source": [
    "value=\"\"\n",
    "print(len(value))"
   ]
  },
  {
   "cell_type": "code",
   "execution_count": 16,
   "id": "0af23d4b-326b-4f29-817e-96f42f13e5a3",
   "metadata": {},
   "outputs": [
    {
     "name": "stdin",
     "output_type": "stream",
     "text": [
      "enter a value: python\n"
     ]
    },
    {
     "name": "stdout",
     "output_type": "stream",
     "text": [
      "6\n"
     ]
    }
   ],
   "source": [
    "value=input(\"enter a value:\")\n",
    "print(len(value))"
   ]
  },
  {
   "cell_type": "code",
   "execution_count": 20,
   "id": "189824a0-3fa0-4d3d-bd2d-d8858d6151d8",
   "metadata": {},
   "outputs": [
    {
     "name": "stdin",
     "output_type": "stream",
     "text": [
      "enter a value: 20\n"
     ]
    },
    {
     "name": "stdout",
     "output_type": "stream",
     "text": [
      "<class 'str'>\n"
     ]
    }
   ],
   "source": [
    "value=input(\"enter a value:\")\n",
    "print(type(value))"
   ]
  },
  {
   "cell_type": "code",
   "execution_count": 22,
   "id": "756f9c8c-7d55-480a-979f-668edf662174",
   "metadata": {},
   "outputs": [
    {
     "name": "stdin",
     "output_type": "stream",
     "text": [
      "enter a value: \n"
     ]
    },
    {
     "ename": "ValueError",
     "evalue": "could not convert string to float: ''",
     "output_type": "error",
     "traceback": [
      "\u001b[1;31m---------------------------------------------------------------------------\u001b[0m",
      "\u001b[1;31mValueError\u001b[0m                                Traceback (most recent call last)",
      "Cell \u001b[1;32mIn[22], line 1\u001b[0m\n\u001b[1;32m----> 1\u001b[0m value\u001b[38;5;241m=\u001b[39m\u001b[38;5;28mfloat\u001b[39m(\u001b[38;5;28minput\u001b[39m(\u001b[38;5;124m\"\u001b[39m\u001b[38;5;124menter a value:\u001b[39m\u001b[38;5;124m\"\u001b[39m))\n\u001b[0;32m      2\u001b[0m \u001b[38;5;28mprint\u001b[39m(\u001b[38;5;28mtype\u001b[39m(value))\n",
      "\u001b[1;31mValueError\u001b[0m: could not convert string to float: ''"
     ]
    }
   ],
   "source": [
    "value=float(input(\"enter a value:\"))\n",
    "print(type(value))\n",
    "\n",
    "        "
   ]
  },
  {
   "cell_type": "code",
   "execution_count": 23,
   "id": "a2c399d6-60b8-4422-9d93-cb9ed9029f38",
   "metadata": {},
   "outputs": [
    {
     "name": "stdout",
     "output_type": "stream",
     "text": [
      "2\n"
     ]
    }
   ],
   "source": [
    "#value1, value2: value1+value2.\n",
    "value1=0\n",
    "value2=2\n",
    "print(value1+value2)"
   ]
  },
  {
   "cell_type": "code",
   "execution_count": 24,
   "id": "124f3f63-918b-4a5d-a919-7963157ee3f6",
   "metadata": {},
   "outputs": [
    {
     "name": "stdout",
     "output_type": "stream",
     "text": [
      "3\n"
     ]
    }
   ],
   "source": [
    "value1=1\n",
    "value2=2\n",
    "print(value1+value2)"
   ]
  },
  {
   "cell_type": "code",
   "execution_count": 25,
   "id": "7fb92a00-ca13-415d-bccb-03ac1fd46aa2",
   "metadata": {},
   "outputs": [
    {
     "name": "stdin",
     "output_type": "stream",
     "text": [
      " 1\n",
      " 3\n"
     ]
    },
    {
     "name": "stdout",
     "output_type": "stream",
     "text": [
      "4\n"
     ]
    }
   ],
   "source": [
    "value1=int(input(\"\"))\n",
    "value2=int(input(\"\"))\n",
    "print(value1+value2)"
   ]
  },
  {
   "cell_type": "code",
   "execution_count": 26,
   "id": "e966c47f-2050-44ae-997f-2c91c19032f1",
   "metadata": {},
   "outputs": [
    {
     "name": "stdin",
     "output_type": "stream",
     "text": [
      " \n"
     ]
    },
    {
     "ename": "ValueError",
     "evalue": "invalid literal for int() with base 10: ''",
     "output_type": "error",
     "traceback": [
      "\u001b[1;31m---------------------------------------------------------------------------\u001b[0m",
      "\u001b[1;31mValueError\u001b[0m                                Traceback (most recent call last)",
      "Cell \u001b[1;32mIn[26], line 1\u001b[0m\n\u001b[1;32m----> 1\u001b[0m value1\u001b[38;5;241m=\u001b[39m\u001b[38;5;28mint\u001b[39m(\u001b[38;5;28minput\u001b[39m(\u001b[38;5;124m\"\u001b[39m\u001b[38;5;124m\"\u001b[39m))\n\u001b[0;32m      2\u001b[0m value2\u001b[38;5;241m=\u001b[39m\u001b[38;5;28mint\u001b[39m(\u001b[38;5;28minput\u001b[39m(\u001b[38;5;124m\"\u001b[39m\u001b[38;5;124m\"\u001b[39m))\n\u001b[0;32m      3\u001b[0m \u001b[38;5;28mprint\u001b[39m(value1\u001b[38;5;241m+\u001b[39mvalue2)\n",
      "\u001b[1;31mValueError\u001b[0m: invalid literal for int() with base 10: ''"
     ]
    }
   ],
   "source": [
    "value1=int(input(\"\"))\n",
    "value2=int(input(\"\"))\n",
    "print(value1+value2)"
   ]
  },
  {
   "cell_type": "markdown",
   "id": "b602a18d-2ed0-4161-b319-fe30c05e847f",
   "metadata": {},
   "source": [
    "# "
   ]
  },
  {
   "cell_type": "code",
   "execution_count": 27,
   "id": "14b1cf38-1f9e-4b3c-a904-af6c9152e290",
   "metadata": {},
   "outputs": [
    {
     "name": "stdin",
     "output_type": "stream",
     "text": [
      " 2\n",
      " \n"
     ]
    },
    {
     "ename": "ValueError",
     "evalue": "invalid literal for int() with base 10: ''",
     "output_type": "error",
     "traceback": [
      "\u001b[1;31m---------------------------------------------------------------------------\u001b[0m",
      "\u001b[1;31mValueError\u001b[0m                                Traceback (most recent call last)",
      "Cell \u001b[1;32mIn[27], line 2\u001b[0m\n\u001b[0;32m      1\u001b[0m value1\u001b[38;5;241m=\u001b[39m\u001b[38;5;28mint\u001b[39m(\u001b[38;5;28minput\u001b[39m(\u001b[38;5;124m\"\u001b[39m\u001b[38;5;124m\"\u001b[39m))\n\u001b[1;32m----> 2\u001b[0m value2\u001b[38;5;241m=\u001b[39m\u001b[38;5;28mint\u001b[39m(\u001b[38;5;28minput\u001b[39m(\u001b[38;5;124m\"\u001b[39m\u001b[38;5;124m\"\u001b[39m))\n\u001b[0;32m      3\u001b[0m \u001b[38;5;28mprint\u001b[39m(value1\u001b[38;5;241m+\u001b[39mvalue2)\n",
      "\u001b[1;31mValueError\u001b[0m: invalid literal for int() with base 10: ''"
     ]
    }
   ],
   "source": [
    "value1=int(input(\"\"))\n",
    "value2=int(input(\"\"))\n",
    "print(value1+value2)\n"
   ]
  },
  {
   "cell_type": "code",
   "execution_count": 28,
   "id": "09f0bef0-1db1-4a31-9c8d-f21cabc25959",
   "metadata": {},
   "outputs": [
    {
     "data": {
      "text/plain": [
       "0"
      ]
     },
     "execution_count": 28,
     "metadata": {},
     "output_type": "execute_result"
    }
   ],
   "source": [
    "int()"
   ]
  },
  {
   "cell_type": "code",
   "execution_count": 29,
   "id": "a9557b4a-4557-45dc-902a-52e763e1f41c",
   "metadata": {},
   "outputs": [
    {
     "name": "stdin",
     "output_type": "stream",
     "text": [
      "enter a value: 2\n",
      "enter a value: 0\n"
     ]
    }
   ],
   "source": [
    "a=input(\"enter a value:\")\n",
    "b=input(\"enter a value:\")\n",
    "if a==\"\":\n",
    "    a=0\n",
    "if b==\"\":\n",
    "    b=0\n",
    "    "
   ]
  },
  {
   "cell_type": "code",
   "execution_count": 34,
   "id": "08a4bb21-1b52-4853-9eef-6607e510d17e",
   "metadata": {},
   "outputs": [
    {
     "ename": "SyntaxError",
     "evalue": "invalid syntax. Perhaps you forgot a comma? (3345719379.py, line 1)",
     "output_type": "error",
     "traceback": [
      "\u001b[1;36m  Cell \u001b[1;32mIn[34], line 1\u001b[1;36m\u001b[0m\n\u001b[1;33m    value1=float(input(\"enter a value1:\")\u001b[0m\n\u001b[1;37m                 ^\u001b[0m\n\u001b[1;31mSyntaxError\u001b[0m\u001b[1;31m:\u001b[0m invalid syntax. Perhaps you forgot a comma?\n"
     ]
    }
   ],
   "source": [
    "value1=float(input(\"enter a value1:\")\n",
    "value2=float(input(\"enter a value2:\")\n",
    "print(value1+value2)             "
   ]
  },
  {
   "cell_type": "code",
   "execution_count": null,
   "id": "e0d15bd6-28ce-4e52-b7c3-4203e03f0613",
   "metadata": {},
   "outputs": [],
   "source": [
    "value1=input(\"enter value1:\")\n",
    "value2=input(\"enter value2:\")\n",
    "if value1==\"\":#True \"==\"\n",
    "    value1=0\n",
    "else:\n",
    "    value1=float(value)"
   ]
  }
 ],
 "metadata": {
  "kernelspec": {
   "display_name": "Python 3 (ipykernel)",
   "language": "python",
   "name": "python3"
  },
  "language_info": {
   "codemirror_mode": {
    "name": "ipython",
    "version": 3
   },
   "file_extension": ".py",
   "mimetype": "text/x-python",
   "name": "python",
   "nbconvert_exporter": "python",
   "pygments_lexer": "ipython3",
   "version": "3.12.4"
  }
 },
 "nbformat": 4,
 "nbformat_minor": 5
}
