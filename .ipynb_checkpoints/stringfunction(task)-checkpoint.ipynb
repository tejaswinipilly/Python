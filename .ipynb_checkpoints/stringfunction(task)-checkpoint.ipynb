{
 "cells": [
  {
   "cell_type": "code",
   "execution_count": 1,
   "id": "03d595f0-328d-480b-8db6-579a8ea0ef6a",
   "metadata": {},
   "outputs": [
    {
     "name": "stdout",
     "output_type": "stream",
     "text": [
      "Hyderabad\n"
     ]
    }
   ],
   "source": [
    "s = \"Hyderabad\"\n",
    "print(s.capitalize()) # It converts the first character of a string to lower"
   ]
  },
  {
   "cell_type": "code",
   "execution_count": 2,
   "id": "0015bb14-8d65-4136-8187-85dfb1a7ae47",
   "metadata": {},
   "outputs": [
    {
     "name": "stdout",
     "output_type": "stream",
     "text": [
      "\n"
     ]
    }
   ],
   "source": [
    "s = \"\"\n",
    "print(s.capitalize())"
   ]
  },
  {
   "cell_type": "code",
   "execution_count": 3,
   "id": "6a2bb4ba-dd37-427b-a637-a074254ed96d",
   "metadata": {},
   "outputs": [
    {
     "name": "stdout",
     "output_type": "stream",
     "text": [
      "@#$%^\n"
     ]
    }
   ],
   "source": [
    "s = \"@#$%^\"\n",
    "print(s.capitalize())"
   ]
  },
  {
   "cell_type": "code",
   "execution_count": 4,
   "id": "5787968b-461d-4e03-bc68-a23919aebc2d",
   "metadata": {},
   "outputs": [
    {
     "name": "stdout",
     "output_type": "stream",
     "text": [
      "@#$%^a\n"
     ]
    }
   ],
   "source": [
    "s = \"@#$%^A\"\n",
    "print(s.capitalize())"
   ]
  },
  {
   "cell_type": "code",
   "execution_count": 5,
   "id": "90ba2ed7-7c95-43c7-ab2b-f6a651c159c9",
   "metadata": {},
   "outputs": [
    {
     "name": "stdout",
     "output_type": "stream",
     "text": [
      "123456\n"
     ]
    }
   ],
   "source": [
    "s = \"123456\"\n",
    "print(s.capitalize())"
   ]
  },
  {
   "cell_type": "code",
   "execution_count": 7,
   "id": "32d9a303-a310-4a37-a0fe-64724bd4e417",
   "metadata": {},
   "outputs": [
    {
     "name": "stdout",
     "output_type": "stream",
     "text": [
      "['__add__', '__class__', '__class_getitem__', '__contains__', '__delattr__', '__delitem__', '__dir__', '__doc__', '__eq__', '__format__', '__ge__', '__getattribute__', '__getitem__', '__getstate__', '__gt__', '__hash__', '__iadd__', '__imul__', '__init__', '__init_subclass__', '__iter__', '__le__', '__len__', '__lt__', '__mul__', '__ne__', '__new__', '__reduce__', '__reduce_ex__', '__repr__', '__reversed__', '__rmul__', '__setattr__', '__setitem__', '__sizeof__', '__str__', '__subclasshook__', 'append', 'clear', 'copy', 'count', 'extend', 'index', 'insert', 'pop', 'remove', 'reverse', 'sort']\n"
     ]
    }
   ],
   "source": [
    "s = [1,2,3,4]\n",
    "print(dir(s))"
   ]
  },
  {
   "cell_type": "code",
   "execution_count": 8,
   "id": "c7477415-b962-4819-8db1-5ab50fe29338",
   "metadata": {},
   "outputs": [
    {
     "name": "stdout",
     "output_type": "stream",
     "text": [
      "['__add__', '__class__', '__class_getitem__', '__contains__', '__delattr__', '__dir__', '__doc__', '__eq__', '__format__', '__ge__', '__getattribute__', '__getitem__', '__getnewargs__', '__getstate__', '__gt__', '__hash__', '__init__', '__init_subclass__', '__iter__', '__le__', '__len__', '__lt__', '__mul__', '__ne__', '__new__', '__reduce__', '__reduce_ex__', '__repr__', '__rmul__', '__setattr__', '__sizeof__', '__str__', '__subclasshook__', 'count', 'index']\n"
     ]
    }
   ],
   "source": [
    "t =(1,2,3,4,5)\n",
    "print(dir(t))"
   ]
  },
  {
   "cell_type": "code",
   "execution_count": 10,
   "id": "0255a955-b008-4dc8-9518-bc50dd473bc8",
   "metadata": {},
   "outputs": [
    {
     "name": "stdout",
     "output_type": "stream",
     "text": [
      "['__class__', '__class_getitem__', '__contains__', '__delattr__', '__delitem__', '__dir__', '__doc__', '__eq__', '__format__', '__ge__', '__getattribute__', '__getitem__', '__getstate__', '__gt__', '__hash__', '__init__', '__init_subclass__', '__ior__', '__iter__', '__le__', '__len__', '__lt__', '__ne__', '__new__', '__or__', '__reduce__', '__reduce_ex__', '__repr__', '__reversed__', '__ror__', '__setattr__', '__setitem__', '__sizeof__', '__str__', '__subclasshook__', 'clear', 'copy', 'fromkeys', 'get', 'items', 'keys', 'pop', 'popitem', 'setdefault', 'update', 'values']\n"
     ]
    }
   ],
   "source": [
    "d = {\"name\":\"AJA\" ,\"Address\":\"HYD\"}\n",
    "print(dir(d))"
   ]
  },
  {
   "cell_type": "code",
   "execution_count": 13,
   "id": "6d6f4bac-771a-4d72-8ede-c33daf9006ec",
   "metadata": {},
   "outputs": [
    {
     "name": "stdout",
     "output_type": "stream",
     "text": [
      "hyd\n"
     ]
    }
   ],
   "source": [
    "text = \"HYD\"\n",
    "print(text.casefold())"
   ]
  },
  {
   "cell_type": "code",
   "execution_count": 21,
   "id": "1028bdd9-653e-4075-b1ee-8d6d8ff8f21a",
   "metadata": {},
   "outputs": [
    {
     "name": "stdout",
     "output_type": "stream",
     "text": [
      "12345\n"
     ]
    }
   ],
   "source": [
    "s = \"12345\"\n",
    "print(s.casefold())"
   ]
  },
  {
   "cell_type": "code",
   "execution_count": 36,
   "id": "14833366-44ec-4307-84c2-f2cbed6278d9",
   "metadata": {},
   "outputs": [
    {
     "name": "stdout",
     "output_type": "stream",
     "text": [
      "hyderabad\n",
      "hyd\n",
      "1234\n",
      "#$%^&\n",
      "\n",
      "['python']\n",
      "['python', 'coding']\n"
     ]
    }
   ],
   "source": [
    "s=\"hyderaBAD\"\n",
    "print(s.casefold()) # It Converts the string to lowercase and removes any case distinctions.\n",
    "print(list)\n",
    "s=\"HYD\"\n",
    "print(s.casefold())\n",
    "s=\"1234\"\n",
    "print(s.casefold())\n",
    "s=\"#$%^&\"\n",
    "print(s.casefold())\n",
    "s=\"\"\n",
    "print(s.casefold())\n",
    "s=['python']\n",
    "list = [word.casefold() for word in s] \n",
    "print(list)\n",
    "t=('python','coding')\n",
    "tupple = [word.casefold() for word in t]\n",
    "print(tupple)\n"
   ]
  },
  {
   "cell_type": "code",
   "execution_count": 40,
   "id": "bf4639fe-4190-4348-8e6b-9ad2bad86558",
   "metadata": {},
   "outputs": [
    {
     "name": "stdout",
     "output_type": "stream",
     "text": [
      "*****hyderaBAD******\n",
      "---HYD----\n",
      "  1234  \n",
      "++#$%^&+++\n",
      "     \n",
      "['  python  ']\n",
      "['--python--', '--coding--']\n"
     ]
    }
   ],
   "source": [
    "s = \"hyderaBAD\"\n",
    "print(s.center(20, '*'))  #  It Centers the string within a specified width, padding it with spaces.\n",
    "\n",
    "s = \"HYD\"\n",
    "print(s.center(10, '-'))\n",
    "\n",
    "s = \"1234\"\n",
    "print(s.center(8))\n",
    "\n",
    "s = \"#$%^&\"\n",
    "print(s.center(10, '+'))\n",
    "\n",
    "s = \"\"\n",
    "print(s.center(5)) \n",
    "\n",
    "# Applying center() to each string in a list\n",
    "s = ['python']\n",
    "centered_list = [word.center(10, ' ') for word in s]\n",
    "print(centered_list)\n",
    "\n",
    "# Applying center() to each string in a tuple\n",
    "t = ('python', 'coding')\n",
    "centered_tuple = [word.center(10, '-') for word in t]\n",
    "print(centered_tuple)\n"
   ]
  },
  {
   "cell_type": "code",
   "execution_count": 41,
   "id": "01bb42f9-60f1-433f-ba0f-4338b4096490",
   "metadata": {},
   "outputs": [
    {
     "name": "stdout",
     "output_type": "stream",
     "text": [
      "Hyderabad \n",
      "***World****\n",
      "--a--\n",
      "python\n",
      "        \n",
      "['--apple---', '--banana--', '--cherry--']\n",
      "['*python*', '*coding*', 'example*']\n"
     ]
    }
   ],
   "source": [
    "s = \"Hyderabad\"  # It Centers the string within a specified width, padding it with spaces.\n",
    "print(s.center(10)) \n",
    "s = \"World\"\n",
    "print(s.center(12, '*'))\n",
    "s = \"a\"\n",
    "print(s.center(5, '-')) \n",
    "s = \"python\"\n",
    "print(s.center(4))\n",
    "s = \"\"\n",
    "print(s.center(8, ' '))\n",
    "words = ['apple', 'banana', 'cherry']\n",
    "centered_words = [word.center(10, '-') for word in words]\n",
    "print(centered_words)\n",
    "t = ('python', 'coding', 'example')\n",
    "centered_tuple = [word.center(8, '*') for word in t]\n",
    "print(centered_tuple)\n",
    "\n"
   ]
  },
  {
   "cell_type": "code",
   "execution_count": 46,
   "id": "0da8b099-ed35-4034-ba61-11bc222223c1",
   "metadata": {},
   "outputs": [
    {
     "name": "stdout",
     "output_type": "stream",
     "text": [
      "2\n",
      "1\n",
      "2\n",
      "2\n",
      "0\n",
      "2\n",
      "3\n"
     ]
    }
   ],
   "source": [
    "s = \"hello world\" # It Counts how many times a substring occurs in the string.\n",
    "print(s.count('o'))\n",
    "s = \"hyderabad\"\n",
    "print(s.count('ad')) \n",
    "s = \"hello hello hello\"\n",
    "print(s.count('hello', 6)) \n",
    "print(s.count('hello', 0, 12))\n",
    "s = \"\"\n",
    "print(s.count('a'))\n",
    "s = \"abababab\"\n",
    "print(s.count('aba')) \n",
    "lst = [1, 2, 3, 1, 1, 4]\n",
    "print(lst.count(1)) "
   ]
  },
  {
   "cell_type": "code",
   "execution_count": 2,
   "id": "d9f71e7e-da8c-4269-9d4e-c65e69d0d350",
   "metadata": {},
   "outputs": [
    {
     "name": "stdout",
     "output_type": "stream",
     "text": [
      "b'Python'\n",
      "b'hello'\n",
      "b'Hello'\n",
      "b'\\xff\\xfeP\\x00y\\x00t\\x00h\\x00o\\x00n\\x00'\n"
     ]
    }
   ],
   "source": [
    "text = \"Python\"\n",
    "print(text.encode())  # Output: b'Python' (default UTF-8 encoding) Encodes the string into bytes using the specified encoding.\n",
    "\n",
    "text = \"hello\"\n",
    "print(text.encode('ascii'))  \n",
    "\n",
    "text = \"Hello\" \n",
    "print(text.encode('utf-8'))  \n",
    "\n",
    "text = \"Python\"\n",
    "print(text.encode('utf-16'))"
   ]
  },
  {
   "cell_type": "code",
   "execution_count": 3,
   "id": "1aaf85e0-d353-4626-844f-ec6294f723b8",
   "metadata": {},
   "outputs": [
    {
     "name": "stdout",
     "output_type": "stream",
     "text": [
      "True\n",
      "False\n",
      "True\n",
      "True\n"
     ]
    }
   ],
   "source": [
    "text = \"hello.py\"\n",
    "print(text.endswith(\".py\"))  # It will Checks whether the string ends with the specified suffix.\n",
    "\n",
    "text = \"test.txt\"\n",
    "print(text.endswith(\".csv\"))  \n",
    "\n",
    "text = \"filename.csv\"\n",
    "print(text.endswith((\".csv\", \".txt\")))  \n",
    "\n",
    "text = \"hello world\"\n",
    "print(text.endswith(\"world\"))  "
   ]
  },
  {
   "cell_type": "code",
   "execution_count": 4,
   "id": "e0396d07-cff4-4d0e-9e0e-29bda8b00f36",
   "metadata": {},
   "outputs": [
    {
     "name": "stdout",
     "output_type": "stream",
     "text": [
      "Python  is  fun\n",
      "Hello   World\n",
      "  Indented\n",
      "Line1     Line2     Line3\n",
      "Line1\tLine2\tLine3\n"
     ]
    }
   ],
   "source": [
    "text = \"Python\\tis\\tfun\"\n",
    "print(text.expandtabs(4))  # Expands tabs in the string to the specified number of spaces. defualtly it will take 4 spaces\n",
    "\n",
    "text = \"Hello\\tWorld\"\n",
    "print(text.expandtabs(8))  \n",
    "\n",
    "text = \"\\tIndented\"\n",
    "print(text.expandtabs(2))  \n",
    "\n",
    "text = \"Line1\\tLine2\\tLine3\"\n",
    "print(text.expandtabs(5))\n",
    "\n",
    "text = \"Line1\\tLine2\\tLine3\"\n",
    "print(text)"
   ]
  },
  {
   "cell_type": "code",
   "execution_count": 5,
   "id": "17ae049c-9788-4a2c-b930-a04a8de65ed6",
   "metadata": {},
   "outputs": [
    {
     "name": "stdout",
     "output_type": "stream",
     "text": [
      "6\n",
      "-1\n",
      "2\n",
      "3\n",
      "3\n"
     ]
    },
    {
     "data": {
      "text/plain": [
       "\u001b[1;31mDocstring:\u001b[0m\n",
       "S.find(sub[, start[, end]]) -> int\n",
       "\n",
       "Return the lowest index in S where substring sub is found,\n",
       "such that sub is contained within S[start:end].  Optional\n",
       "arguments start and end are interpreted as in slice notation.\n",
       "\n",
       "Return -1 on failure.\n",
       "\u001b[1;31mType:\u001b[0m      builtin_function_or_method"
      ]
     },
     "metadata": {},
     "output_type": "display_data"
    }
   ],
   "source": [
    "text = \"Hello world\"\n",
    "print(text.find(\"world\"))  # Returns the index of the first occurrence of a substring, or -1 if not found.\n",
    "\n",
    "text = \"Hello world\"\n",
    "print(text.find(\"Python\"))  \n",
    "\n",
    "text = \"banana\"\n",
    "print(text.find(\"na\"))  \n",
    "\n",
    "text = \"abcdef\"\n",
    "print(text.find(\"d\"))  \n",
    "\n",
    "text = \"abcdef\"\n",
    "print(text.find(\"d\", 3, 5 ))  \n",
    "\n",
    "text.find?\n"
   ]
  },
  {
   "cell_type": "code",
   "execution_count": 6,
   "id": "36a632c0-1238-47e0-8323-2f1ec075c8a7",
   "metadata": {},
   "outputs": [
    {
     "name": "stdout",
     "output_type": "stream",
     "text": [
      "My name is Tejaswini.\n",
      "My name is Tejaswini. I am 32 years old.\n",
      "The price is 19.33 dollars.\n",
      "Tejaswini is 32 years old.\n",
      "Tejaswini is 32 years old.\n"
     ]
    }
   ],
   "source": [
    "text = \"My name is {name}.\"\n",
    "print(text.format(name=\"Tejaswini\"))  # Formats a string using placeholders.\n",
    "\n",
    "text = \"My name is {name}. I am {age} years old.\"\n",
    "print(text.format(age=32, name = \"Tejaswini\"))  \n",
    "\n",
    "text = \"The price is {price:.2f} dollars.\"\n",
    "print(text.format(price=19.33333))  \n",
    "\n",
    "text = \"{0} is {1} years old.\"\n",
    "print(text.format(\"Tejaswini\", 32))  \n",
    "\n",
    "text = \"{} is {} years old.\"\n",
    "print(text.format(\"Tejaswini\", 32))  "
   ]
  },
  {
   "cell_type": "code",
   "execution_count": 7,
   "id": "5ec55d6d-2367-432d-8b71-8f5c97a5beb4",
   "metadata": {},
   "outputs": [
    {
     "name": "stdout",
     "output_type": "stream",
     "text": [
      "My name is Tejaswini and I am 32.\n",
      "The apple is red.\n",
      "Python is version 3.\n",
      "I live in Karimnagar, Telangana.\n"
     ]
    },
    {
     "ename": "ValueError",
     "evalue": "Format string contains positional fields",
     "output_type": "error",
     "traceback": [
      "\u001b[1;31m---------------------------------------------------------------------------\u001b[0m",
      "\u001b[1;31mValueError\u001b[0m                                Traceback (most recent call last)",
      "Cell \u001b[1;32mIn[7], line 20\u001b[0m\n\u001b[0;32m     18\u001b[0m \u001b[38;5;28mdict\u001b[39m \u001b[38;5;241m=\u001b[39m {\u001b[38;5;124m\"\u001b[39m\u001b[38;5;124mfruit\u001b[39m\u001b[38;5;124m\"\u001b[39m: \u001b[38;5;124m\"\u001b[39m\u001b[38;5;124mapple\u001b[39m\u001b[38;5;124m\"\u001b[39m, \u001b[38;5;124m\"\u001b[39m\u001b[38;5;124mcolor\u001b[39m\u001b[38;5;124m\"\u001b[39m: \u001b[38;5;124m\"\u001b[39m\u001b[38;5;124mred\u001b[39m\u001b[38;5;124m\"\u001b[39m}\n\u001b[0;32m     19\u001b[0m text \u001b[38;5;241m=\u001b[39m \u001b[38;5;124m\"\u001b[39m\u001b[38;5;124mThe \u001b[39m\u001b[38;5;132;01m{}\u001b[39;00m\u001b[38;5;124m is \u001b[39m\u001b[38;5;132;01m{}\u001b[39;00m\u001b[38;5;124m.\u001b[39m\u001b[38;5;124m\"\u001b[39m\n\u001b[1;32m---> 20\u001b[0m \u001b[38;5;28mprint\u001b[39m(text\u001b[38;5;241m.\u001b[39mformat_map(\u001b[38;5;28mdict\u001b[39m))\n",
      "\u001b[1;31mValueError\u001b[0m: Format string contains positional fields"
     ]
    }
   ],
   "source": [
    "dict = {\"name\": \"Tejaswini\", \"age\": 32}\n",
    "text = \"My name is {name} and I am {age}.\"\n",
    "print(text.format_map(dict))  # Formats the string using a dictionary. \n",
    "\n",
    "dict = {\"fruit\": \"apple\", \"color\": \"red\"}\n",
    "text = \"The {fruit} is {color}.\"\n",
    "print(text.format_map(dict)) \n",
    "\n",
    "dict = {\"language\": \"Python\", \"version\": 3}\n",
    "text = \"{language} is version {version}.\"\n",
    "print(text.format_map(dict))  \n",
    "\n",
    "dict = {\"city\": \"Karimnagar\", \"state\": \"Telangana\"}\n",
    "text = \"I live in {city}, {state}.\"\n",
    "print(text.format_map(dict))  \n",
    "\n",
    "\n",
    "dict = {\"fruit\": \"apple\", \"color\": \"red\"}\n",
    "text = \"The {} is {}.\"\n",
    "print(text.format_map(dict)) "
   ]
  },
  {
   "cell_type": "code",
   "execution_count": 8,
   "id": "a0a701ee-d9ab-4f09-832e-1074dff73cdd",
   "metadata": {},
   "outputs": [
    {
     "name": "stdout",
     "output_type": "stream",
     "text": [
      "6\n",
      "1\n",
      "3\n",
      "6\n"
     ]
    },
    {
     "ename": "ValueError",
     "evalue": "substring not found",
     "output_type": "error",
     "traceback": [
      "\u001b[1;31m---------------------------------------------------------------------------\u001b[0m",
      "\u001b[1;31mValueError\u001b[0m                                Traceback (most recent call last)",
      "Cell \u001b[1;32mIn[8], line 14\u001b[0m\n\u001b[0;32m     11\u001b[0m \u001b[38;5;28mprint\u001b[39m(text\u001b[38;5;241m.\u001b[39mindex(\u001b[38;5;124m\"\u001b[39m\u001b[38;5;124mpie\u001b[39m\u001b[38;5;124m\"\u001b[39m))  \n\u001b[0;32m     13\u001b[0m text \u001b[38;5;241m=\u001b[39m \u001b[38;5;124m\"\u001b[39m\u001b[38;5;124mapple pie\u001b[39m\u001b[38;5;124m\"\u001b[39m\n\u001b[1;32m---> 14\u001b[0m \u001b[38;5;28mprint\u001b[39m(text\u001b[38;5;241m.\u001b[39mindex(\u001b[38;5;124m\"\u001b[39m\u001b[38;5;124mz\u001b[39m\u001b[38;5;124m\"\u001b[39m))\n",
      "\u001b[1;31mValueError\u001b[0m: substring not found"
     ]
    }
   ],
   "source": [
    "text = \"Hello world\"\n",
    "print(text.index(\"world\"))  #It returns the index of the first occurrence of a substring. It will gives error when not value founds\n",
    "\n",
    "text = \"banana\"\n",
    "print(text.index(\"a\"))  \n",
    "\n",
    "text = \"abcdef\"\n",
    "print(text.index(\"d\"))  \n",
    "\n",
    "text = \"apple pie\"\n",
    "print(text.index(\"pie\"))  \n",
    "\n",
    "text = \"apple pie\"\n",
    "print(text.index(\"z\"))  "
   ]
  },
  {
   "cell_type": "code",
   "execution_count": 9,
   "id": "3555cbc9-02ae-4995-a941-83249a1a7535",
   "metadata": {},
   "outputs": [
    {
     "name": "stdout",
     "output_type": "stream",
     "text": [
      "True\n",
      "False\n",
      "False\n",
      "True\n",
      "True\n"
     ]
    }
   ],
   "source": [
    "text = \"Python3\"\n",
    "print(text.isalnum())  # It returns  True if all aplha and digits contains, other wise it will Gives False.\n",
    "\n",
    "text = \"Python!\"\n",
    "print(text.isalnum())\n",
    "\n",
    "text = \"Python#$%\"\n",
    "print(text.isalnum())\n",
    "\n",
    "text = \"12345\"\n",
    "print(text.isalnum())\n",
    "\n",
    "text = \"HelloWorld\"\n",
    "print(text.isalnum())"
   ]
  },
  {
   "cell_type": "code",
   "execution_count": 10,
   "id": "f86a8ece-1da0-4717-bc2b-e3a1dacbb982",
   "metadata": {},
   "outputs": [
    {
     "name": "stdout",
     "output_type": "stream",
     "text": [
      "True\n",
      "False\n",
      "True\n",
      "False\n"
     ]
    }
   ],
   "source": [
    "text = \"Python\"\n",
    "print(text.isalpha())  # It will checks only contains alpha values it will Gives True, other wise it gives False.\n",
    "\n",
    "text = \"Python123\"\n",
    "print(text.isalpha())  \n",
    "\n",
    "text = \"HELLO\"\n",
    "print(text.isalpha())  \n",
    "\n",
    "text = \"Hello World\"\n",
    "print(text.isalpha())  "
   ]
  },
  {
   "cell_type": "code",
   "execution_count": 11,
   "id": "128198b6-5ce7-4f70-b631-80fd12046972",
   "metadata": {},
   "outputs": [
    {
     "name": "stdout",
     "output_type": "stream",
     "text": [
      "True\n",
      "True\n",
      "True\n"
     ]
    }
   ],
   "source": [
    "text = \"Hello\"\n",
    "print(text.isascii())  # It checks all the values are in ascii values and gives True, other wise it gives False\n",
    "\n",
    "text = \"Python3\"\n",
    "print(text.isascii())  \n",
    "\n",
    "text = \"12345\"\n",
    "print(text.isascii())  "
   ]
  },
  {
   "cell_type": "code",
   "execution_count": 12,
   "id": "b7307395-c3fe-4c41-aaa9-3109f813cae3",
   "metadata": {},
   "outputs": [
    {
     "name": "stdout",
     "output_type": "stream",
     "text": [
      "True\n",
      "True\n",
      "False\n",
      "True\n",
      "False\n",
      "False\n"
     ]
    }
   ],
   "source": [
    "text = \"12345\"\n",
    "print(text.isdecimal())  # it checks wheather it is digit or not and gives True, if it is digit, other wise False.\n",
    "\n",
    "text = \"1\"\n",
    "print(text.isdecimal())\n",
    "\n",
    "text = \"123.45\"\n",
    "print(text.isdecimal())  \n",
    "\n",
    "text = \"001234\"\n",
    "print(text.isdecimal())  \n",
    "\n",
    "text = \"@1234\"\n",
    "print(text.isdecimal())\n",
    "\n",
    "text = \"Hello123\"\n",
    "print(text.isdecimal())  "
   ]
  },
  {
   "cell_type": "code",
   "execution_count": 13,
   "id": "07368cde-2189-4d28-9cad-868d848e7e90",
   "metadata": {},
   "outputs": [
    {
     "name": "stdout",
     "output_type": "stream",
     "text": [
      "True\n",
      "False\n",
      "False\n",
      "False\n",
      "False\n"
     ]
    }
   ],
   "source": [
    "text = \"12345\"\n",
    "print(text.isdigit())  # it work similary like isdecimal()\n",
    "\n",
    "text = \"12a45\"\n",
    "print(text.isdigit())\n",
    "\n",
    "text = \"3/4\"\n",
    "print(text.isdigit())\n",
    "\n",
    "text = \"12  345\"\n",
    "print(text.isdigit())\n",
    "\n",
    "text = \"\"\n",
    "print(text.isdigit())"
   ]
  },
  {
   "cell_type": "code",
   "execution_count": 14,
   "id": "d5921639-c815-4b84-8ccb-8203bb302b2d",
   "metadata": {},
   "outputs": [
    {
     "name": "stdout",
     "output_type": "stream",
     "text": [
      "True\n",
      "False\n",
      "True\n",
      "True\n",
      "False\n"
     ]
    }
   ],
   "source": [
    "text = \"variable_name\"\n",
    "print(text.isidentifier()) # it will checks the given string is valid reference name or not. gives True and False \n",
    "\n",
    "text = \"123variable\"\n",
    "print(text.isidentifier())\n",
    "\n",
    "text = \"class\"\n",
    "print(text.isidentifier())\n",
    "\n",
    "text = \"print\"\n",
    "print(text.isidentifier()) # it checks only pattern not keywords\n",
    "\n",
    "text = \"var-name\"\n",
    "print(text.isidentifier())"
   ]
  },
  {
   "cell_type": "code",
   "execution_count": 15,
   "id": "f98110da-de1b-445c-b668-e1968912faab",
   "metadata": {},
   "outputs": [
    {
     "name": "stdout",
     "output_type": "stream",
     "text": [
      "True\n",
      "False\n",
      "True\n",
      "True\n",
      "True\n",
      "False\n"
     ]
    }
   ],
   "source": [
    "text = \"python\"\n",
    "print(text.islower())  # it checks all the string only contains lower letters and gives True other wise it gives False\n",
    "text = \"Python\"\n",
    "print(text.islower())\n",
    "\n",
    "text = \"hello world\"\n",
    "print(text.islower())\n",
    "\n",
    "text = \"hello123\"\n",
    "print(text.islower())\n",
    "\n",
    "text = \"@#$hello123\"\n",
    "print(text.islower())\n",
    "\n",
    "text = \"\"\n",
    "print(text.islower())"
   ]
  },
  {
   "cell_type": "code",
   "execution_count": 16,
   "id": "69c35de0-5838-40a1-888f-a546e59baa1b",
   "metadata": {},
   "outputs": [
    {
     "name": "stdout",
     "output_type": "stream",
     "text": [
      "True\n",
      "False\n",
      "False\n",
      "False\n",
      "True\n",
      "False\n"
     ]
    }
   ],
   "source": [
    "text = \"12345\"\n",
    "print(text.isnumeric())  \n",
    "\n",
    "text = \"12.34\"\n",
    "print(text.isnumeric())\n",
    "\n",
    "text = \"I\"\n",
    "print(text.isnumeric())\n",
    "\n",
    "text = \"II\"\n",
    "print(text.isnumeric())\n",
    "\n",
    "text = \"Ⅳ\"\n",
    "print(text.isnumeric())\n",
    "\n",
    "text = \"hello123\"\n",
    "print(text.isnumeric())"
   ]
  },
  {
   "cell_type": "code",
   "execution_count": 17,
   "id": "12642621-a43f-4a57-a2de-facaa9808ddd",
   "metadata": {},
   "outputs": [
    {
     "name": "stdout",
     "output_type": "stream",
     "text": [
      "True\n",
      "True\n",
      "True\n",
      "False\n",
      "False\n",
      "True\n",
      "False\n"
     ]
    },
    {
     "name": "stderr",
     "output_type": "stream",
     "text": [
      "<>:17: SyntaxWarning: invalid escape sequence '\\@'\n",
      "<>:17: SyntaxWarning: invalid escape sequence '\\@'\n",
      "C:\\TEMP\\ipykernel_5308\\2023312215.py:17: SyntaxWarning: invalid escape sequence '\\@'\n",
      "  text = \"\\@hello\"\n"
     ]
    }
   ],
   "source": [
    "text = \"Hello World!\"\n",
    "print(text.isprintable())  # check all the charectors are printable are not\n",
    "\n",
    "text = \"12345\"\n",
    "print(text.isprintable())\n",
    "\n",
    "text = \"12.345\"\n",
    "print(text.isprintable())\n",
    "\n",
    "\n",
    "text = \"\\nHello\"\n",
    "print(text.isprintable())\n",
    "\n",
    "text = \"\\tTabbed\"\n",
    "print(text.isprintable())\n",
    "\n",
    "text = \"\\@hello\"\n",
    "print(text.isprintable())\n",
    "\n",
    "text = \"\\n new line\"\n",
    "print(text.isprintable())"
   ]
  },
  {
   "cell_type": "code",
   "execution_count": 18,
   "id": "1b5d1948-f80c-4762-9748-83cd1d4186e1",
   "metadata": {},
   "outputs": [
    {
     "name": "stdout",
     "output_type": "stream",
     "text": [
      "True\n",
      "True\n",
      "False\n",
      "False\n"
     ]
    }
   ],
   "source": [
    "text = \"   \"\n",
    "print(text.isspace())  # checks if string contains only spaces \n",
    "\n",
    "text = \"\\n\\t\"\n",
    "print(text.isspace())\n",
    "\n",
    "text = \"Hello World\"\n",
    "print(text.isspace())\n",
    "\n",
    "text = \"\"\n",
    "print(text.isspace())"
   ]
  },
  {
   "cell_type": "code",
   "execution_count": 19,
   "id": "687a66b1-19fc-4186-8e2b-d60c41815802",
   "metadata": {},
   "outputs": [
    {
     "name": "stdout",
     "output_type": "stream",
     "text": [
      "True\n",
      "False\n",
      "True\n",
      "False\n"
     ]
    }
   ],
   "source": [
    "text = \"Hello World\"\n",
    "print(text.istitle())  # it check if string contains Only capital letter in words starting and gives True, other wise False.\n",
    "\n",
    "text = \"Hello world\"\n",
    "print(text.istitle())\n",
    "\n",
    "text = \"Python Is Fun\"\n",
    "print(text.istitle())\n",
    "\n",
    "text = \"PYTHON is Fun\"\n",
    "print(text.istitle())"
   ]
  },
  {
   "cell_type": "code",
   "execution_count": 20,
   "id": "047740bf-9d04-4f80-a3a7-5ca909f7270e",
   "metadata": {},
   "outputs": [
    {
     "name": "stdout",
     "output_type": "stream",
     "text": [
      "True\n",
      "False\n",
      "True\n",
      "True\n",
      "False\n",
      "False\n",
      "True\n"
     ]
    }
   ],
   "source": [
    "text = \"PYTHON\"\n",
    "print(text.isupper()) # it checks contains upper case latters\n",
    "\n",
    "text = \"Python\"\n",
    "print(text.isupper())\n",
    "\n",
    "text = \"HELLO WORLD\"\n",
    "print(text.isupper())\n",
    "\n",
    "text = \"HELLO123\"\n",
    "print(text.isupper())\n",
    "\n",
    "text = \"\"\n",
    "print(text.isupper())\n",
    "\n",
    "text = \"@@###$\"\n",
    "print(text.isupper())\n",
    "\n",
    "text = \"@@###AAAA\"\n",
    "print(text.isupper())"
   ]
  },
  {
   "cell_type": "code",
   "execution_count": 21,
   "id": "ffbdb6a0-b334-49ba-b627-75c948d6f615",
   "metadata": {},
   "outputs": [
    {
     "name": "stdout",
     "output_type": "stream",
     "text": [
      "Hello World\n",
      "Hello World\n",
      "1-2-3\n",
      "abc\n",
      "home/user/documents\n"
     ]
    },
    {
     "ename": "TypeError",
     "evalue": "sequence item 0: expected str instance, int found",
     "output_type": "error",
     "traceback": [
      "\u001b[1;31m---------------------------------------------------------------------------\u001b[0m",
      "\u001b[1;31mTypeError\u001b[0m                                 Traceback (most recent call last)",
      "Cell \u001b[1;32mIn[21], line 17\u001b[0m\n\u001b[0;32m     14\u001b[0m \u001b[38;5;28mprint\u001b[39m(\u001b[38;5;124m\"\u001b[39m\u001b[38;5;124m/\u001b[39m\u001b[38;5;124m\"\u001b[39m\u001b[38;5;241m.\u001b[39mjoin(words))\n\u001b[0;32m     16\u001b[0m words \u001b[38;5;241m=\u001b[39m [\u001b[38;5;241m1\u001b[39m, \u001b[38;5;241m2\u001b[39m, \u001b[38;5;241m3\u001b[39m]\n\u001b[1;32m---> 17\u001b[0m \u001b[38;5;28mprint\u001b[39m(\u001b[38;5;124m\"\u001b[39m\u001b[38;5;124m-\u001b[39m\u001b[38;5;124m\"\u001b[39m\u001b[38;5;241m.\u001b[39mjoin(words))\n",
      "\u001b[1;31mTypeError\u001b[0m: sequence item 0: expected str instance, int found"
     ]
    }
   ],
   "source": [
    "words = [\"Hello\", \"World\"]\n",
    "print(\" \".join(words))  # \n",
    "\n",
    "words = (\"Hello\", \"World\")\n",
    "print(\" \".join(words))\n",
    "\n",
    "words = [\"1\", \"2\", \"3\"]\n",
    "print(\"-\".join(words))\n",
    "\n",
    "words = ['a', 'b', 'c']\n",
    "print(\"\".join(words))\n",
    "\n",
    "words = [\"home\", \"user\", \"documents\"]\n",
    "print(\"/\".join(words))\n",
    "\n",
    "words = [1, 2, 3]\n",
    "print(\"-\".join(words))"
   ]
  },
  {
   "cell_type": "code",
   "execution_count": 22,
   "id": "64357db8-9703-4289-8608-e02f4df74801",
   "metadata": {},
   "outputs": [
    {
     "name": "stdout",
     "output_type": "stream",
     "text": [
      "Python    \n",
      "Hello-----\n",
      "Code****\n",
      "World@@@\n"
     ]
    }
   ],
   "source": [
    "text = \"Python\"\n",
    "print(text.ljust(10))  # it will justify the string to left side and adds given parametr to right side\n",
    "\n",
    "text = \"Hello\"\n",
    "print(text.ljust(10, '-'))\n",
    "\n",
    "text = \"Code\"\n",
    "print(text.ljust(8, '*'))\n",
    "\n",
    "text = \"World\"\n",
    "print(text.ljust(8, '@'))"
   ]
  },
  {
   "cell_type": "code",
   "execution_count": 23,
   "id": "c9eaaba8-eddc-41a8-ac1d-c3bb89d58a81",
   "metadata": {},
   "outputs": [
    {
     "name": "stdout",
     "output_type": "stream",
     "text": [
      "hello\n",
      "python3\n",
      "hello world\n",
      "123abc\n",
      "!%$#%$#@\n",
      "\n"
     ]
    }
   ],
   "source": [
    "text = \"HELLO\"\n",
    "print(text.lower())  # it  converts all upper case letters to lower case letters\n",
    "\n",
    "text = \"Python3\"\n",
    "print(text.lower())\n",
    "\n",
    "text = \"HeLLo WoRLd\"\n",
    "print(text.lower())\n",
    "\n",
    "text = \"123ABC\"\n",
    "print(text.lower())\n",
    "\n",
    "text = \"!%$#%$#@\"\n",
    "print(text.lower())\n",
    "\n",
    "text = \"\"\n",
    "print(text.lower())"
   ]
  },
  {
   "cell_type": "code",
   "execution_count": 24,
   "id": "7031c80b-68fb-4968-921c-51663655c9f5",
   "metadata": {},
   "outputs": [
    {
     "name": "stdout",
     "output_type": "stream",
     "text": [
      "Python   \n",
      "Hello\n",
      "123\n",
      "Hello World\n"
     ]
    }
   ],
   "source": [
    "text = \"   Python   \"\n",
    "print(text.lstrip())  #  It removes the left side charectors based on given parameters, default it takes spaces.\n",
    "\n",
    "text = \"-----Hello\"\n",
    "print(text.lstrip('-'))\n",
    "\n",
    "text = \"000123\"\n",
    "print(text.lstrip('0'))\n",
    "\n",
    "text = \"\\tHello World\"\n",
    "print(text.lstrip())"
   ]
  },
  {
   "cell_type": "code",
   "execution_count": 25,
   "id": "df407ca6-472c-4817-af7e-0b20fff8814c",
   "metadata": {},
   "outputs": [
    {
     "name": "stdout",
     "output_type": "stream",
     "text": [
      "h2ll4 w4rld\n",
      "h2ll4 w4rld\n",
      "21n1n1\n",
      "123\n",
      "123xyz\n",
      "1ppl\n"
     ]
    }
   ],
   "source": [
    "first = \"aeiou\"\n",
    "second = \"12345\"\n",
    "transtab = str.maketrans(first, second)\n",
    "print(\"hello world\".translate(transtab))\n",
    "\n",
    "first = \"aeiou\"\n",
    "second = \"12345\"\n",
    "transtab = str.maketrans(first, second)\n",
    "print(\"hello world\".translate(transtab))\n",
    "\n",
    "first = \"abc\"\n",
    "second = \"123\"\n",
    "transtab = str.maketrans(first, second)\n",
    "print(\"banana\".translate(transtab))\n",
    "\n",
    "transtab = str.maketrans(\"abc\", \"123\", \"xyz\")\n",
    "print(\"abcxyz\".translate(transtab))\n",
    "\n",
    "transtab = str.maketrans(\"abc\", \"123\", \"lum\")\n",
    "print(\"abcxyz\".translate(transtab))\n",
    "\n",
    "table = str.maketrans({'a': '1', 'e': None})\n",
    "print(\"apple\".translate(table))"
   ]
  },
  {
   "cell_type": "code",
   "execution_count": 26,
   "id": "d198dbb3-5260-4760-b37d-67ede46095bc",
   "metadata": {},
   "outputs": [
    {
     "name": "stdout",
     "output_type": "stream",
     "text": [
      "('Python ', 'is', ' fun')\n",
      "('Hello', ',', ' world!')\n",
      "('Hello world!', '', '')\n",
      "('Hello,world!', '', '')\n",
      "('Learn ', 'coding', '')\n",
      "('123', '-', '456-789')\n"
     ]
    }
   ],
   "source": [
    "text = \"Python is fun\"\n",
    "print(text.partition(\"is\"))  # it seperates the string and return into tuple, on first occurance\n",
    "\n",
    "text = \"Hello, world!\"\n",
    "print(text.partition(\",\"))\n",
    "\n",
    "text = \"Hello world!\"\n",
    "print(text.partition(\",\")) # if seperator not available it will create extra 2 empty strings in tuple at end.\n",
    "\n",
    "text = \"Hello,world!\"\n",
    "print(text.partition(\" \"))\n",
    "\n",
    "text = \"Learn coding\"\n",
    "print(text.partition(\"coding\"))\n",
    "\n",
    "text = \"123-456-789\"\n",
    "print(text.partition(\"-\"))"
   ]
  },
  {
   "cell_type": "code",
   "execution_count": 27,
   "id": "6308181d-6455-43ad-af12-2941a5d95745",
   "metadata": {},
   "outputs": [
    {
     "name": "stdout",
     "output_type": "stream",
     "text": [
      "World\n",
      "thonista\n",
      "de\n",
      "abc\n"
     ]
    }
   ],
   "source": [
    "text = \"HelloWorld\"\n",
    "print(text.removeprefix(\"Hello\"))  # it will reomve given prefix value from the string, if it not found in string it returns same string.\n",
    "\n",
    "text = \"Pythonista\"\n",
    "print(text.removeprefix(\"Py\"))\n",
    "\n",
    "text = \"Code\"\n",
    "print(text.removeprefix(\"Co\"))\n",
    "\n",
    "text = \"abc\"\n",
    "print(text.removeprefix(\"d\"))"
   ]
  },
  {
   "cell_type": "code",
   "execution_count": 28,
   "id": "8a3b789e-38dc-43d4-a03a-969cf72b7ae6",
   "metadata": {},
   "outputs": [
    {
     "name": "stdout",
     "output_type": "stream",
     "text": [
      "Hello\n",
      "Python\n",
      "coding\n",
      "abc\n"
     ]
    }
   ],
   "source": [
    "text = \"HelloWorld\"\n",
    "print(text.removesuffix(\"World\"))  # it will reomve given suffix value from the string, if it not found in string it returns same string.\n",
    "\n",
    "text = \"Pythonista\"\n",
    "print(text.removesuffix(\"ista\"))\n",
    "\n",
    "text = \"coding.py\"\n",
    "print(text.removesuffix(\".py\"))\n",
    "\n",
    "text = \"abc\"\n",
    "print(text.removesuffix(\"d\"))"
   ]
  },
  {
   "cell_type": "code",
   "execution_count": 29,
   "id": "5d167c40-17d9-476f-83f6-aff6cb2dda8c",
   "metadata": {},
   "outputs": [
    {
     "name": "stdout",
     "output_type": "stream",
     "text": [
      "Hello Python\n",
      "Hello\n",
      "banana banana\n",
      "Java Python\n",
      "bonono\n"
     ]
    }
   ],
   "source": [
    "text = \"Hello world\"\n",
    "print(text.replace(\"world\", \"Python\"))  # Replaces all occurrences of a substring with another substring.\n",
    "\n",
    "text = \"Hello\"\n",
    "print(text.replace(\"world\", \"Python\"))\n",
    "\n",
    "text = \"apple apple\"\n",
    "print(text.replace(\"apple\", \"banana\"))\n",
    "\n",
    "text = \"Python Python\"\n",
    "print(text.replace(\"Python\", \"Java\", 1))\n",
    "\n",
    "text = \"banana\"\n",
    "print(text.replace(\"a\", \"o\"))\n"
   ]
  },
  {
   "cell_type": "code",
   "execution_count": 30,
   "id": "5daf7aec-5321-4d09-9b98-e616e98b786c",
   "metadata": {},
   "outputs": [
    {
     "name": "stdout",
     "output_type": "stream",
     "text": [
      "5\n",
      "7\n",
      "7\n",
      "-1\n"
     ]
    }
   ],
   "source": [
    "text = \"banana\"\n",
    "print(text.rfind(\"a\"))  # Returns the highest index of the substring, or -1 if not found.\n",
    "\n",
    "text = \"hello world\"\n",
    "print(text.rfind(\"o\"))\n",
    "\n",
    "text = \"Python programming\"\n",
    "print(text.rfind(\"p\"))\n",
    "\n",
    "text = \"abcdef\"\n",
    "print(text.rfind(\"z\"))"
   ]
  },
  {
   "cell_type": "code",
   "execution_count": 31,
   "id": "79d82df5-57a7-4cf9-8184-8463e95f52f9",
   "metadata": {},
   "outputs": [
    {
     "name": "stdout",
     "output_type": "stream",
     "text": [
      "5\n",
      "7\n",
      "7\n",
      "-1\n"
     ]
    }
   ],
   "source": [
    "text = \"banana\"\n",
    "print(text.rfind(\"a\"))  # return the 1st occurance of index from right.,  if it is not found it will give -1.\n",
    "\n",
    "text = \"hello world\"\n",
    "print(text.rfind(\"o\"))\n",
    "\n",
    "text = \"Python programming\"\n",
    "print(text.rfind(\"p\"))\n",
    "\n",
    "text = \"abcdef\"\n",
    "print(text.rfind(\"z\"))"
   ]
  },
  {
   "cell_type": "code",
   "execution_count": 32,
   "id": "11a1f795-57b5-4495-a356-fee7bf00efc5",
   "metadata": {},
   "outputs": [
    {
     "name": "stdout",
     "output_type": "stream",
     "text": [
      "5\n",
      "7\n",
      "7\n"
     ]
    }
   ],
   "source": [
    "text = \"banana\"\n",
    "print(text.rindex(\"a\")) # it will return highest index of a string, if it is not found, it will give error, value error.\n",
    "\n",
    "text = \"hello world\"\n",
    "print(text.rindex(\"o\")) \n",
    "\n",
    "text = \"Python programming\"\n",
    "print(text.rindex(\"p\"))\n",
    "\n",
    "# print(text.rindex(\"z\"))"
   ]
  },
  {
   "cell_type": "code",
   "execution_count": 33,
   "id": "704069f4-f2b9-48b6-94af-d1ee6874b50c",
   "metadata": {},
   "outputs": [
    {
     "name": "stdout",
     "output_type": "stream",
     "text": [
      "    Python\n",
      "----Code\n",
      "000123\n",
      "*****Hello\n"
     ]
    }
   ],
   "source": [
    "text = \"Python\"\n",
    "print(text.rjust(10)) #  it will justify the string to Right side and adds given parametr to right side\n",
    "\n",
    "text = \"Code\"\n",
    "print(text.rjust(8, '-'))\n",
    "\n",
    "\n",
    "text = \"123\"\n",
    "print(text.rjust(6, '0'))\n",
    "\n",
    "text = \"Hello\"\n",
    "print(text.rjust(10, '*'))"
   ]
  },
  {
   "cell_type": "code",
   "execution_count": 34,
   "id": "fabfbbe1-fad1-4b8d-a475-498ec8dac3a6",
   "metadata": {},
   "outputs": [
    {
     "name": "stdout",
     "output_type": "stream",
     "text": [
      "('Python ', 'is', ' fun')\n",
      "('a-b', '-', 'c')\n",
      "('hello.world', '.', 'example')\n",
      "('bana', 'n', 'a')\n"
     ]
    }
   ],
   "source": [
    "text = \"Python is fun\"\n",
    "print(text.rpartition(\"is\"))  # Splits the string at the last occurrence of the separator and returns a tuple\n",
    "\n",
    "text = \"a-b-c\"\n",
    "print(text.rpartition(\"-\"))\n",
    "\n",
    "text = \"hello.world.example\"\n",
    "print(text.rpartition(\".\"))\n",
    "\n",
    "text = \"banana\"\n",
    "print(text.rpartition(\"n\"))"
   ]
  },
  {
   "cell_type": "code",
   "execution_count": 35,
   "id": "0903ac11-5996-495a-b6fa-9894e18fa1ae",
   "metadata": {},
   "outputs": [
    {
     "name": "stdout",
     "output_type": "stream",
     "text": [
      "['apple', 'banana', 'cherry']\n",
      "['a,b', 'c', 'd']\n",
      "['python,java', 'c++']\n",
      "['word1', 'word2', 'word3']\n"
     ]
    }
   ],
   "source": [
    "text = \"apple,banana,cherry\"\n",
    "print(text.rsplit(\",\"))  # Splits the string from the right at the specified separator.\n",
    "\n",
    "text = \"a,b,c,d\"\n",
    "print(text.rsplit(\",\", 2))\n",
    "\n",
    "text = \"python,java,c++\"\n",
    "print(text.rsplit(\",\", 1))\n",
    "\n",
    "text = \"word1 word2 word3\"\n",
    "print(text.rsplit())\n"
   ]
  },
  {
   "cell_type": "code",
   "execution_count": 36,
   "id": "c8f061b9-a230-4815-8030-c815a177fe94",
   "metadata": {},
   "outputs": [
    {
     "name": "stdout",
     "output_type": "stream",
     "text": [
      "   Python\n",
      "Hello\n",
      "1234\n",
      "Hello World\n"
     ]
    }
   ],
   "source": [
    "text = \"   Python   \"\n",
    "print(text.rstrip())  # Removes trailing characters (spaces by default) from the string.\n",
    "\n",
    "text = \"Hello-----\"\n",
    "print(text.rstrip('-'))\n",
    "\n",
    "text = \"123400\"\n",
    "print(text.rstrip('0'))\n",
    "\n",
    "text = \"Hello World  \"\n",
    "print(text.rstrip())"
   ]
  },
  {
   "cell_type": "code",
   "execution_count": 37,
   "id": "03b6c5c1-a17d-45f5-946f-992bc79dd214",
   "metadata": {},
   "outputs": [
    {
     "name": "stdout",
     "output_type": "stream",
     "text": [
      "['apple', 'banana', 'cherry']\n",
      "['a', 'b', 'c']\n",
      "['word1', 'word2', 'word3']\n",
      "['apple', 'banana,cherry']\n"
     ]
    }
   ],
   "source": [
    "text = \"apple banana cherry\"\n",
    "print(text.split())  # It will split the string into list\n",
    "\n",
    "text = \"a,b,c\"\n",
    "print(text.split(\",\"))\n",
    "\n",
    "text = \"word1_word2_word3\"\n",
    "print(text.split(\"_\"))\n",
    "\n",
    "text = \"apple,banana,cherry\"\n",
    "print(text.split(\",\", 1))"
   ]
  },
  {
   "cell_type": "code",
   "execution_count": 38,
   "id": "44365d5f-2c02-4083-b426-919744d47b6a",
   "metadata": {},
   "outputs": [
    {
     "name": "stdout",
     "output_type": "stream",
     "text": [
      "['Hello', 'World']\n",
      "['Line 1', 'Line 2', 'Line 3']\n",
      "['One', 'Two', 'Three']\n",
      "['Hello World']\n"
     ]
    }
   ],
   "source": [
    "text = \"Hello\\nWorld\"\n",
    "print(text.splitlines())  # Splits the string at line breaks and return into a list\n",
    "\n",
    "text = \"Line 1\\nLine 2\\nLine 3\"\n",
    "print(text.splitlines())\n",
    "\n",
    "text = \"One\\r\\nTwo\\r\\nThree\"\n",
    "print(text.splitlines())\n",
    "\n",
    "text = \"Hello World\"\n",
    "print(text.splitlines())"
   ]
  },
  {
   "cell_type": "code",
   "execution_count": 39,
   "id": "a653d8ca-2468-4b9f-9dd6-6305a4e99a86",
   "metadata": {},
   "outputs": [
    {
     "name": "stdout",
     "output_type": "stream",
     "text": [
      "True\n",
      "True\n",
      "True\n",
      "False\n"
     ]
    }
   ],
   "source": [
    "text = \"Hello World\"\n",
    "print(text.startswith(\"Hello\"))  # Returns True if the string starts with the specified prefix.\n",
    "\n",
    "text = \"Python programming\"\n",
    "print(text.startswith(\"Py\"))\n",
    "\n",
    "text = \"12345\"\n",
    "print(text.startswith(\"12\"))\n",
    "\n",
    "text = \"Goodbye\"\n",
    "print(text.startswith(\"Hello\"))"
   ]
  },
  {
   "cell_type": "code",
   "execution_count": 40,
   "id": "122b11dc-7322-4214-9217-c603b5ac9b3c",
   "metadata": {},
   "outputs": [
    {
     "name": "stdout",
     "output_type": "stream",
     "text": [
      "Hello World\n",
      "Python\n",
      "1234\n",
      "Hello\n"
     ]
    }
   ],
   "source": [
    "text = \"   Hello World   \"\n",
    "print(text.strip())  # Removes leading and trailing characters from the string.\n",
    "\n",
    "text = \"---Python---\"\n",
    "print(text.strip('-'))\n",
    "\n",
    "text = \"0001234000\"\n",
    "print(text.strip('0'))\n",
    "\n",
    "text = \"  Hello  \"\n",
    "print(text.strip())"
   ]
  },
  {
   "cell_type": "code",
   "execution_count": 41,
   "id": "16559ca1-e494-498c-ac37-ee1cbb72ca18",
   "metadata": {},
   "outputs": [
    {
     "name": "stdout",
     "output_type": "stream",
     "text": [
      "hELLO wORLD\n",
      "pYTHON3\n",
      "hello WORLD\n",
      "cOdE\n"
     ]
    }
   ],
   "source": [
    "text = \"Hello World\"\n",
    "print(text.swapcase())  # it wiil convert upper to lower, and lower to upper).\n",
    "\n",
    "text = \"Python3\"\n",
    "print(text.swapcase())\n",
    "\n",
    "text = \"HELLO world\"\n",
    "print(text.swapcase())\n",
    "\n",
    "text = \"CoDe\"\n",
    "print(text.swapcase())"
   ]
  },
  {
   "cell_type": "code",
   "execution_count": 42,
   "id": "db33ae1f-ef76-4f4d-b7dd-9bab2906bcf4",
   "metadata": {},
   "outputs": [
    {
     "name": "stdout",
     "output_type": "stream",
     "text": [
      "Hello World\n",
      "Python Programming\n",
      "123Hello 456World\n",
      "Good Morning\n"
     ]
    }
   ],
   "source": [
    "text = \"hello world\"\n",
    "print(text.title())  # Converts the first character of each word to uppercase and the rest to lowercase.\n",
    "\n",
    "text = \"PYTHON programming\"\n",
    "print(text.title())\n",
    "\n",
    "text = \"123hello 456world\"\n",
    "print(text.title())\n",
    "\n",
    "text = \"good morning\"\n",
    "print(text.title())"
   ]
  },
  {
   "cell_type": "code",
   "execution_count": 43,
   "id": "25bada33-99b7-4f23-b8e1-61e86f301064",
   "metadata": {},
   "outputs": [
    {
     "name": "stdout",
     "output_type": "stream",
     "text": [
      "h2ll4 w4rld\n",
      "bonono\n",
      "Hello World\n",
      "abc45\n"
     ]
    }
   ],
   "source": [
    "intab = \"aeiou\"\n",
    "outtab = \"12345\"\n",
    "transtab = str.maketrans(intab, outtab)\n",
    "print(\"hello world\".translate(transtab))  # Returns a string where some specified characters are replaced according to the translation table created by maketrans()\n",
    "\n",
    "text = \"banana\"\n",
    "transtab = str.maketrans(\"a\", \"o\")\n",
    "print(text.translate(transtab))  \n",
    "\n",
    "transtab = str.maketrans({'h': 'H', 'w': 'W'})\n",
    "print(\"hello world\".translate(transtab))\n",
    "\n",
    "table = str.maketrans('012', 'abc', '3')\n",
    "print(\"012345\".translate(table))"
   ]
  },
  {
   "cell_type": "code",
   "execution_count": 44,
   "id": "c0f4f99e-3cbe-4c1e-98c4-77b6b75fb5e1",
   "metadata": {},
   "outputs": [
    {
     "name": "stdout",
     "output_type": "stream",
     "text": [
      "HELLO\n",
      "PYTHON\n",
      "123ABC\n",
      "GOOD MORNING\n"
     ]
    }
   ],
   "source": [
    "text = \"hello\"\n",
    "print(text.upper())  # Converts all characters in the string to uppercase.\n",
    "\n",
    "text = \"Python\"\n",
    "print(text.upper())\n",
    "\n",
    "text = \"123abc\"\n",
    "print(text.upper())\n",
    "\n",
    "text = \"good morning\"\n",
    "print(text.upper())"
   ]
  },
  {
   "cell_type": "code",
   "execution_count": 45,
   "id": "0afebe45-1a68-4cbb-8839-8ccc20c5a6ab",
   "metadata": {},
   "outputs": [
    {
     "name": "stdout",
     "output_type": "stream",
     "text": [
      "00042\n",
      "-0042\n",
      "000123\n",
      "009\n"
     ]
    }
   ],
   "source": [
    "text = \"42\"\n",
    "print(text.zfill(5))  # Pads the string on the left with zeros until it reaches the specified width.\n",
    "\n",
    "text = \"-42\"\n",
    "print(text.zfill(5))\n",
    "\n",
    "text = \"123\"\n",
    "print(text.zfill(6))\n",
    "\n",
    "text = \"9\"\n",
    "print(text.zfill(3))"
   ]
  },
  {
   "cell_type": "code",
   "execution_count": null,
   "id": "1cdce30f-f247-4f32-8b26-54e2513c4ba5",
   "metadata": {},
   "outputs": [],
   "source": []
  }
 ],
 "metadata": {
  "kernelspec": {
   "display_name": "Python 3 (ipykernel)",
   "language": "python",
   "name": "python3"
  },
  "language_info": {
   "codemirror_mode": {
    "name": "ipython",
    "version": 3
   },
   "file_extension": ".py",
   "mimetype": "text/x-python",
   "name": "python",
   "nbconvert_exporter": "python",
   "pygments_lexer": "ipython3",
   "version": "3.12.4"
  }
 },
 "nbformat": 4,
 "nbformat_minor": 5
}
