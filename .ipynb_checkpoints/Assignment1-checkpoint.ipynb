{
 "cells": [
  {
   "cell_type": "markdown",
   "id": "29b6817c-a613-4a12-a338-e37d6a805f62",
   "metadata": {
    "editable": true,
    "slideshow": {
     "slide_type": ""
    },
    "tags": []
   },
   "source": [
    " #### 1. Take the input from the user for(Total number of people,Number of seats for bus. Based on two inputs dDecide how many number of buses required.\n",
    "   \r\n"
   ]
  },
  {
   "cell_type": "code",
   "execution_count": null,
   "id": "47e43822-6f4c-49fa-961c-60b82a9e70c9",
   "metadata": {
    "editable": true,
    "slideshow": {
     "slide_type": ""
    },
    "tags": []
   },
   "outputs": [],
   "source": [
    "total_people = int(input(\"Enter the total_number of people:\" ))\n",
    "seats_per_bus = int(input(\"Enter the number of seats per bus: \" ))\n",
    "if (total_people % seats_per_bus)==0:\n",
    "    no_of_buses_required = total_people // seats_per_bus\n",
    "else:\n",
    "    no_of_buses_required = (total_people // seats_per_bus)+1\n",
    "    \n",
    "print(no_of_buses_required)"
   ]
  },
  {
   "cell_type": "markdown",
   "id": "58228501-e9ff-4fcd-aedd-59aa8bf23c30",
   "metadata": {
    "editable": true,
    "slideshow": {
     "slide_type": ""
    },
    "tags": []
   },
   "source": [
    "#### 2.Take temperature from the user and convert foreign heat -> Celsius."
   ]
  },
  {
   "cell_type": "code",
   "execution_count": null,
   "id": "3dbb66c5-e6d3-4f45-b628-b51ee67eda79",
   "metadata": {
    "editable": true,
    "slideshow": {
     "slide_type": ""
    },
    "tags": []
   },
   "outputs": [],
   "source": [
    "fahrenheit = 98.6  \n",
    "celsius = (fahrenheit - 32) * 5 / 9\n",
    "print(\"Temperature in Celsius:\", celsius)\n",
    "\n"
   ]
  },
  {
   "cell_type": "markdown",
   "id": "8bbf8acd-a08e-4ceb-b2f3-09c41fcc68a4",
   "metadata": {
    "editable": true,
    "slideshow": {
     "slide_type": ""
    },
    "tags": []
   },
   "source": [
    "#### 3. Take temperature from the user and convert Celsius → foreign heat.\n"
   ]
  },
  {
   "cell_type": "code",
   "execution_count": null,
   "id": "d6005502-8a96-4784-8b67-1d2e04822947",
   "metadata": {
    "editable": true,
    "slideshow": {
     "slide_type": ""
    },
    "tags": []
   },
   "outputs": [],
   "source": [
    "celsius = 78.6  \n",
    "fahrenheit = (fahrenheit + 32) * 5 / 9\n",
    "print(\"Temperature in fahrenheit:\", fahrenheit)\n"
   ]
  },
  {
   "cell_type": "markdown",
   "id": "d5de1015-c912-480b-b85a-23244ec86751",
   "metadata": {
    "editable": true,
    "slideshow": {
     "slide_type": ""
    },
    "tags": []
   },
   "source": [
    "#### 4. Take four number from the user (variables name it as x1,x2,x3,x4)\n",
    "#### Do the below operations\n",
    " #### (x1+x2)**2, (x3+x4)**3\n",
    "#### variance\n",
    "#### standard deviation: sqrt(variance):  User math module. Math.sqrt(variance)\n",
    "#### Regression\n",
    "\t## y=mx+b\n",
    "          m=1.23\n",
    "          b=0.045\n",
    "          find out y\n",
    "          y=m*(x1+x2+x3+x4)+b\n",
    "#### Find the average of four numbers\n",
    "#### Find the sum of four numbers\n"
   ]
  },
  {
   "cell_type": "code",
   "execution_count": null,
   "id": "46d12434-8a8f-46aa-965f-a2f49c54569b",
   "metadata": {
    "editable": true,
    "slideshow": {
     "slide_type": ""
    },
    "tags": []
   },
   "outputs": [],
   "source": [
    "\n",
    "import math \n",
    "x1 = int(input(\"Enter the value of x1: \"))\n",
    "x2 = int(input(\"Enter the value of x2: \"))\n",
    "x3 = int(input(\"Enter the value of x3: \"))\n",
    "x4 = int(input(\"Enter the value of x4: \"))\n",
    "\n",
    "result1 = (x1 + x2) ** 2\n",
    "result2 = (x3 + x4) ** 3\n",
    "\n",
    "print(\"The result of (x1 + x2)^2 is:\", result1)\n",
    "print(\"The result of (x3 + x4)^3 is:\", result2)\n",
    " \n",
    "mean = (x1 + x2+ x3 + x4 )//4 \n",
    "print(mean)\n",
    "\n",
    "numbers = (x1 , x2, x3 , x4 )\n",
    "sum_sqd_numbers = 0\n",
    "sqd_numbers = []\n",
    "for i in numbers:\n",
    "    sqd = (i - mean) ** 2\n",
    "    sum_sqd_numbers += sqd\n",
    "    sqd_numbers.append(sqd)\n",
    "variance = sum_sqd_numbers/(4-1)\n",
    "print(\" variance : \",variance)    \n",
    "\n",
    "std_dev = math.sqrt(variance)\n",
    "#print(std_dev)\n",
    "## y=mx+b\n",
    "m=1.23\n",
    "b=0.045\n",
    "y  =  m * (x1+x2+x3+x4) +b\n",
    "print(\"regression : \", y)\n",
    "print(\"standard deviationRegression : \",std_dev)\n",
    "print(\"average of four numbers : \",mean)\n",
    "print(\"sum of 4 numbers : \",(x1+x2+x3+x4))\n",
    "\n"
   ]
  },
  {
   "cell_type": "markdown",
   "id": "83a2ebdb-aea0-47a5-b5e8-68c01cb3e6dc",
   "metadata": {
    "editable": true,
    "slideshow": {
     "slide_type": ""
    },
    "tags": []
   },
   "source": [
    "#### 5. Take the distance in km.Show that in cm, meters, in milli meters, cents, feets, yards\n"
   ]
  },
  {
   "cell_type": "code",
   "execution_count": null,
   "id": "d4cdd41f-946c-42d8-b98f-737146454390",
   "metadata": {
    "editable": true,
    "slideshow": {
     "slide_type": ""
    },
    "tags": []
   },
   "outputs": [],
   "source": [
    "km = float(input(\"Enter the distance in kilometers: \"))\n",
    "meters = km * 1000        \n",
    "centimeters = km * 100000 \n",
    "millimeters = km * 1e6    \n",
    "feet = km * 3280.84     \n",
    "yards = km * 1093.61 \n",
    "print(f\"\\nDistance in different units:\")\n",
    "print(f\"{km} kilometers = {centimeters} centimeters\")\n",
    "print(f\"{km} kilometers = {meters} meters\")\n",
    "print(f\"{km} kilometers = {millimeters} millimeters\")\n",
    "print(f\"{km} kilometers = {feet} feet\")\n",
    "print(f\"{km} kilometers = {yards} yards\")"
   ]
  },
  {
   "cell_type": "markdown",
   "id": "28f260d0-4b36-480f-9d21-269d74386360",
   "metadata": {
    "editable": true,
    "slideshow": {
     "slide_type": ""
    },
    "tags": []
   },
   "source": [
    "#### 6.Take the size of your hard disk in GB.Show that in MB, KB, TB, PB\n"
   ]
  },
  {
   "cell_type": "code",
   "execution_count": null,
   "id": "18c13735-301d-4ca1-bd6c-2795e7ed659f",
   "metadata": {
    "editable": true,
    "slideshow": {
     "slide_type": ""
    },
    "tags": []
   },
   "outputs": [],
   "source": [
    "gb = float(input(\"Enter the size of the hard disk in GB: \"))\n",
    "mb = gb * 1024           \n",
    "kb = gb * 1024 * 1024    \n",
    "tb = gb / 1024           \n",
    "pb = gb / (1024 * 1024)\n",
    "print(f\"\\nSize in different units:\")\n",
    "print(f\"{gb} GB = {mb} MB\")\n",
    "print(f\"{gb} GB = {kb} KB\")\n",
    "print(f\"{gb} GB = {tb} TB\")\n",
    "print(f\"{gb} GB = {pb} PB\")"
   ]
  },
  {
   "cell_type": "markdown",
   "id": "d0e2022c-6eb2-49fa-a5e1-87264d9b93f8",
   "metadata": {
    "editable": true,
    "slideshow": {
     "slide_type": ""
    },
    "tags": []
   },
   "source": [
    "#### 7. Take name, age, height from the user and print like below.The details of the person: Name:name of the person, Age:age of the person, Height:height of the person\n"
   ]
  },
  {
   "cell_type": "code",
   "execution_count": null,
   "id": "af7c905c-ad1f-4d26-b9fd-6a31e1e8fdfc",
   "metadata": {
    "editable": true,
    "slideshow": {
     "slide_type": ""
    },
    "tags": []
   },
   "outputs": [],
   "source": [
    "name = input(\"Enter your name: \")\n",
    "age = int(input(\"Enter your age: \"))\n",
    "height = float(input(\"Enter your height in meters: \"))\n",
    "print(f\"The details of the: Name:{name}, Age:{age}, Height:{height}\")\n"
   ]
  },
  {
   "cell_type": "markdown",
   "id": "5955f706-1748-4553-a157-240d22fbbac9",
   "metadata": {
    "editable": true,
    "slideshow": {
     "slide_type": ""
    },
    "tags": []
   },
   "source": [
    "#### 8. BMI calculation: take required parameters for BMI calculation from the user and calculate BMI of the person."
   ]
  },
  {
   "cell_type": "code",
   "execution_count": null,
   "id": "89470afb-88fc-4e7b-a7c4-99dcb823f740",
   "metadata": {
    "editable": true,
    "slideshow": {
     "slide_type": ""
    },
    "tags": []
   },
   "outputs": [],
   "source": [
    "weight = float(input(\"Enter your weight in kilograms: \"))\n",
    "height = float(input(\"Enter your height in meters: \"))\n",
    "bmi = weight / (height ** 2)\n",
    "print(f\"Your BMI is: {bmi:.2f}\")\n"
   ]
  },
  {
   "cell_type": "markdown",
   "id": "bb51747b-1505-47b2-a28a-95ed3b0dd9de",
   "metadata": {
    "editable": true,
    "slideshow": {
     "slide_type": ""
    },
    "tags": []
   },
   "source": [
    "#### 9. name=\"Jayaram\"\n",
    " age=1.6\n",
    " height=3.5356234\n",
    " weight=10.343856783\n",
    " By using above inputs print the output\n",
    " Name:Jayaram, Age:1.6, Height:3.54, Weight:10.344\n"
   ]
  },
  {
   "cell_type": "code",
   "execution_count": null,
   "id": "b25ea4d5-7801-4388-908d-8539cf770094",
   "metadata": {
    "editable": true,
    "slideshow": {
     "slide_type": ""
    },
    "tags": []
   },
   "outputs": [],
   "source": [
    "name = \"Jayaram\"\n",
    "age = 1.6\n",
    "height = 3.5356234\n",
    "weight = 10.343856783\n",
    "print(\"Name:%s, Age:%.1f, Height:%.2f, Weight:%.3f\" % (name, age, height, weight))\n"
   ]
  },
  {
   "cell_type": "markdown",
   "id": "0c9882ad-21d9-4a0a-90a2-3acbd30337c4",
   "metadata": {
    "editable": true,
    "slideshow": {
     "slide_type": ""
    },
    "tags": []
   },
   "source": [
    "####  10.Take three upper case letters from the user convert in to small case."
   ]
  },
  {
   "cell_type": "code",
   "execution_count": null,
   "id": "fdfefaf3-913e-4c7b-a36b-eafb993e3b47",
   "metadata": {
    "editable": true,
    "slideshow": {
     "slide_type": ""
    },
    "tags": []
   },
   "outputs": [],
   "source": [
    "letter1 = input(\"Enter the first uppercase letter: \")\n",
    "letter2 = input(\"Enter the second uppercase letter: \")\n",
    "letter3 = input(\"Enter the third uppercase letter: \")\n",
    "smallercase_letter1 = letter1.lower()\n",
    "smallercase_letter2 = letter2.lower()\n",
    "smallercase_letter3 = letter3.lower()\n",
    "print(f\"smallercase letters: {smallercase_letter1}, {smallercase_letter2}, {smallercase_letter3}\")\n"
   ]
  },
  {
   "cell_type": "markdown",
   "id": "6ba5c019-7cd6-4c7e-8a5b-2f137db7f189",
   "metadata": {
    "editable": true,
    "slideshow": {
     "slide_type": ""
    },
    "tags": []
   },
   "source": [
    "#### 11. Take base and exponent value from the user and print like in mathematics: example: base=2, exponent=3: 23\n"
   ]
  },
  {
   "cell_type": "code",
   "execution_count": null,
   "id": "b39a56d8-f6a8-4634-b6b7-9194d9803b4c",
   "metadata": {
    "editable": true,
    "slideshow": {
     "slide_type": ""
    },
    "tags": []
   },
   "outputs": [],
   "source": [
    "# Taking base and exponent as input\n",
    "base = int(input(\"Enter the base value: \"))\n",
    "exponent = int(input(\"Enter the exponent value: \"))\n",
    "if exponent == 2:\n",
    "    print(f\"{base}\\u00b2\")  \n",
    "elif exponent == 3:\n",
    "    print(f\"{base}\\u00b3\")  \n",
    "else:\n",
    "    print(f\"{base}^{exponent}\")  \n",
    "\n"
   ]
  },
  {
   "cell_type": "markdown",
   "id": "f3312634-61e8-432f-a166-d83d01adff39",
   "metadata": {
    "editable": true,
    "slideshow": {
     "slide_type": ""
    },
    "tags": []
   },
   "source": [
    "#### 12. Take some groceries cost prices and print total cost and average cost, what is the max cost, what is the minimum cost."
   ]
  },
  {
   "cell_type": "code",
   "execution_count": null,
   "id": "848084ee-8ea7-4ecc-858c-a9b141cf9f87",
   "metadata": {
    "editable": true,
    "slideshow": {
     "slide_type": ""
    },
    "tags": []
   },
   "outputs": [],
   "source": [
    "grocery_costs = [50, 30, 40, 60, 25]\n",
    "total_cost = sum(grocery_costs)\n",
    "average_cost = total_cost / len(grocery_costs)\n",
    "max_cost = max(grocery_costs)\n",
    "min_cost = min(grocery_costs)\n",
    "print(\"Total_Cost:\", total_cost)\n",
    "print(\"Average_Cost:\", average_cost)\n",
    "print(\"Maximum_Cost:\", max_cost)\n",
    "print(\"Minimum_Cost:\", min_cost)"
   ]
  },
  {
   "cell_type": "code",
   "execution_count": null,
   "id": "eb824b0d-9f35-4286-b74c-f987fd58acd2",
   "metadata": {},
   "outputs": [],
   "source": []
  },
  {
   "cell_type": "markdown",
   "id": "cf48e2ef-831a-452e-bab2-a9dc59d0415e",
   "metadata": {},
   "source": [
    "#### 13.Take the input from the user for(Total number of people, total number of buses, Number of seats for bus, adjust factor). Based on four input Decide whether there is sufficient buses or not and give solution for how many extra buses required.\n",
    "\n",
    "\n",
    "                    "
   ]
  },
  {
   "cell_type": "code",
   "execution_count": null,
   "id": "a535043f-59bd-4626-9f27-34ecbe07703b",
   "metadata": {},
   "outputs": [],
   "source": [
    "totalpeople = int(input(\"Enter total no of people:\"))\n",
    "totalbuses = int(input(\"Enter total no of buses:\"))\n",
    "seatsforbus = int(input(\"Enter total no of seats for bus:\"))\n",
    "adjustfactor = int(input(\"Enter adjust factor:\"))\n",
    "totalseats = totalbuses*seatsforbus*adjustfactor\n",
    "if totalseats >= totalpeople:\n",
    "   print(\"sufficient buses are available:\")\n",
    "else:\n",
    "     extrapeople = totalpeople - totalseats\n",
    "     extrabuses = (extrapeople + (seatsforbus - 1))\n",
    "     print(f\"sufficinet buses are not available.You need more buses.\")\n",
    "    "
   ]
  },
  {
   "cell_type": "markdown",
   "id": "25d13b83-b63c-40c3-b16a-259bfdf1dece",
   "metadata": {},
   "source": [
    "#### 14.Take number from the user decide whether it is even or odd."
   ]
  },
  {
   "cell_type": "code",
   "execution_count": null,
   "id": "ca48c6ad-be95-485e-967a-b9cfbdd21230",
   "metadata": {},
   "outputs": [],
   "source": [
    "num = int(input(\"Enter the Number:\"))\n",
    "if num % 2 == 0:\n",
    "    print(\"Number is even:\")\n",
    "else:\n",
    "    print(\"Number is odd:\")"
   ]
  },
  {
   "cell_type": "markdown",
   "id": "7713699e-a449-4a9d-a0a0-994074d4a807",
   "metadata": {},
   "source": [
    "#### 15.Take number from the user decide whether it is positive number or negative number."
   ]
  },
  {
   "cell_type": "code",
   "execution_count": null,
   "id": "f4d7fcec-d587-4cf1-9f82-0051429c2814",
   "metadata": {},
   "outputs": [],
   "source": [
    "num = int(input(\"Enter the Number:\"))\n",
    "if num > 0:\n",
    "    print(\"Number is positive:\")\n",
    "elif num < 0:\n",
    "    print(\"Number is Negative:\")\n",
    "else:\n",
    "    print(\"Number is Zero:\")"
   ]
  },
  {
   "cell_type": "markdown",
   "id": "f16f5234-76d0-423a-83f4-52037a95391d",
   "metadata": {},
   "source": [
    "#### 16.Take a string from the user print the length. if the user not given anything then show an error message"
   ]
  },
  {
   "cell_type": "code",
   "execution_count": null,
   "id": "6dac648c-778c-4bda-8fb3-cd478457d6b1",
   "metadata": {},
   "outputs": [],
   "source": [
    "userinput = input(\"Enter a string:\")\n",
    "if userinput:\n",
    "    print(\"The length is:({userinput})\")\n",
    "else:\n",
    "    print(\"Error\")"
   ]
  },
  {
   "cell_type": "markdown",
   "id": "b6f667ca-2443-4fea-afe9-56e9e6e167a5",
   "metadata": {},
   "source": [
    "#### 17.Take a string from the user print the length. if the user not given anything then show an error message"
   ]
  },
  {
   "cell_type": "code",
   "execution_count": null,
   "id": "ae67699c-db40-47a6-ad64-77a904d7b57c",
   "metadata": {},
   "outputs": [],
   "source": [
    "user_input = input(\"Enter a string:\")\n",
    "\n",
    "if user_input:\n",
    "        print(\"Length of the string:\",len(user_input))\n",
    "else:\n",
    "        print(\"Error:\")\n",
    "         \n",
    "\n",
    "        \n"
   ]
  },
  {
   "cell_type": "markdown",
   "id": "6ed056c6-d5c6-4264-9ae0-d1e52a8c4831",
   "metadata": {},
   "source": [
    "#### 18.code to perform mathematical operations. take two numbers from the user and show the below menu\n",
    "\t1. add,\n",
    "\t2. sub,\t\n",
    "\t3. mul,\n",
    " \t4.div, \n",
    "\t5.quit\n",
    "\tEnter an option:\n",
    "\t\tbased on the option need to perform an operations\n"
   ]
  },
  {
   "cell_type": "code",
   "execution_count": null,
   "id": "9d501e4d-a313-4217-abfe-0bf9582fd8eb",
   "metadata": {},
   "outputs": [],
   "source": [
    "num1=int(input(\"Enter First number:\"))\n",
    "num2=int(input(\"Enter second number:\"))\n",
    "options=int(input(\"1 for add\\n 2 for sub\\n 3 for mul\\n 4 for div\\n 5 for quit\\n:\"))\n",
    "if options==1:\n",
    "    print(num1+num2)\n",
    "if options==2:\n",
    "    print(num1-num2)\n",
    "if options==3:\n",
    "    print(num1*num2)\n",
    "if options==4:\n",
    "    print(num1/num2)\n",
    "if options==5:\n",
    "    print(\"quit\")\n",
    "    "
   ]
  },
  {
   "cell_type": "markdown",
   "id": "791ce85d-c212-47fa-a2f7-9ab2180f47a6",
   "metadata": {},
   "source": [
    "#### 22. Take an age  and gender from the user: and mention that what he/she can \tdo in india.\n",
    "\t\"\"\"\n",
    "\t\tconditions\n",
    "1. Theatre: 5 for men 7 for women\n",
    "    \t2. Voting system: 18 for men and women\n",
    "    \t3. Marriage in india: 23 for men and for women >21\n",
    "    \t4. For govt jobs: (min:18, max:32)  for men and (min:18, max:34) for \twomen\n",
    "   \t \t5. For driving licence: (min:18, max:60) for men and women\n",
    "\tEligibility:\n",
    "   \t\t1. theatre\n",
    "\t\t\t2.  Voting system\n",
    "\t\t\t3.  Marriage in india\n",
    "\t\t\t4.  For govt obs\n",
    "\t\t\t5. For driving licence:\n",
    "\tEnter an option:\n",
    "\t\tGender:\n",
    "\t\t\t1. men\n",
    "\t\t\t2. women\n",
    "\tEnter an option:\n",
    "\t\tEnter an age of person:\n",
    "   \t\n"
   ]
  },
  {
   "cell_type": "code",
   "execution_count": null,
   "id": "4da49746-48be-4684-88bd-c93c5379480c",
   "metadata": {},
   "outputs": [],
   "source": [
    "print(\"1.Men\\n2.Women\")\n",
    " \n",
    "gender = input(\"enter your gender\")\n",
    "age = input(\"enter an age:\")\n",
    "age = float(age)\n",
    "if age>=18:\n",
    "   print(\"He can apply for voting\")\n",
    "if 18<= age >= 60:\n",
    "   print(\"He can apply for driving licence\")\n",
    "if gender == \"1\":\n",
    "     if age>=5:\n",
    "        print(\"he can got to movie\")\n",
    "     if age>=23:\n",
    "        print(\"He can get married\")\n",
    "     if age>=18 and age<=34:\n",
    "       print(\"He can apply for govt gobs\")\n",
    "elif  gender == \"2\": \n",
    "    if age>=7:\n",
    "         print(\"she can got to movie\")\n",
    "    if age >= 18:\n",
    "        print(\"sHe can apply for voting\")\n",
    "    if age>=23:\n",
    "        print(\"sHe can get married\")\n",
    "    if age>=18 and age<=34:\n",
    "        print(\"sHe can apply for govt gobs\")\n"
   ]
  },
  {
   "cell_type": "markdown",
   "id": "37f75824-9bd3-4665-93e9-124781cbf687",
   "metadata": {},
   "source": [
    "#### 18.show the menu:\n",
    "   \t\t 1. kids\n",
    "    \t\t2. Men's\n",
    "   \t\t 3. Women's\n",
    "    \t\tShow the corresponding message based on the selection.\n",
    "\t\tOption:1: you are a kid\n",
    "                                           2: you are a gentlemen\n",
    "                                            3: you are a good women\n",
    "\n",
    " Mention error message if the option value >3.\n"
   ]
  },
  {
   "cell_type": "code",
   "execution_count": null,
   "id": "5ac47cb4-a028-4935-9c67-0fc64267073b",
   "metadata": {},
   "outputs": [],
   "source": [
    "menu=int(input(\"Enter 1 for kids\\n 2 for mens\\n 3 for women\\n:\"))\n",
    "if menu==1:\n",
    "    print(\"you are a kid\")\n",
    "if menu==2:\n",
    "    print(\"you are a gentleman\")\n",
    "if menu==3:\n",
    "    print(\"you are a good women\")\n",
    "if menu>3:\n",
    "    print(\"Error Message\")"
   ]
  },
  {
   "cell_type": "markdown",
   "id": "32d39667-521f-494d-b125-14ebe0ec8703",
   "metadata": {},
   "source": [
    "#### 19.write a program to chcek given substring is there in actual string or not?\n",
    "example: act=\"python is a pure object oriented programing language\"\n",
    "check whether “pure” is there in act or not.\n",
    "Note: Use in operator\n"
   ]
  },
  {
   "cell_type": "code",
   "execution_count": null,
   "id": "e06306e2-75b1-4d78-948a-25a532fd8bc3",
   "metadata": {},
   "outputs": [],
   "source": [
    "act = input(\"python is a pure object oriented programming language:\")\n",
    "substring =input(\"pure\")\n",
    "if substring in act:\n",
    "    print(\"substring is present in actual string:\")\n",
    "else:\n",
    "    print(\"substring is not present in actual string:\")"
   ]
  },
  {
   "cell_type": "markdown",
   "id": "2df48f34-70d4-433a-8294-2777eca367c1",
   "metadata": {},
   "source": [
    "#### 20.Take three numbers from the user and decide which is big"
   ]
  },
  {
   "cell_type": "code",
   "execution_count": null,
   "id": "8104571c-14b8-448b-9155-d682901a09be",
   "metadata": {},
   "outputs": [],
   "source": [
    "num1=10\n",
    "num2=20\n",
    "num3=30\n",
    "if num1 > num2 and num1 > num3:\n",
    "    print(\"The largest number is: {num1}\")\n",
    "elif num2 > num1 and num2 > num3:\n",
    "    print(\"The largest number is: {num2}\")\n",
    "else:\n",
    "    print(\"The largest number is: {num3}\")"
   ]
  },
  {
   "cell_type": "markdown",
   "id": "1bcd50ce-9aaf-4956-9ba1-f2145db5eebf",
   "metadata": {},
   "source": [
    "#### 21.Take age and gender from the user and decide whether he is eligible for \tmarriage in India or not.\n",
    "Age criteria: men age>24, women>21\n"
   ]
  },
  {
   "cell_type": "code",
   "execution_count": null,
   "id": "1c842905-36dd-4793-b985-396ca2b26a52",
   "metadata": {},
   "outputs": [],
   "source": [
    "age = int(input(\"Enter your age:\"))\n",
    "gender = input(\"Enter your gender (men/women):\")\n",
    "if gender == \"men\" and age > 24:\n",
    "    print(\"You are eligible for marriage in India:\")\n",
    "elif gender == \"women\" and age > 21:\n",
    "    print(\"You are eligible for marriage in India:\")\n",
    "else:\n",
    "    print(\"You are not eligible for marriage in India:\")\n",
    "        "
   ]
  },
  {
   "cell_type": "markdown",
   "id": "64f3720e-ed5b-461d-9b70-3c74f6b4f5d7",
   "metadata": {},
   "source": [
    "#### 23.operating systems:\n",
    "\t1.windows\n",
    "\t2.android\n",
    "\t3.mac\n",
    "Enter an option:\n",
    "\n",
    "If the user enters 1 then show \"Goto first floor and buy windows laptop or mobile\"\n",
    "If the user enters 2 then show \"Goto second floor and buy adroid mobiles\"\n",
    "If the user enters 3 then show \"Goto third floor and buy mac laptop or iphones\"\n",
    "If the user enters other than 1 or 2 or 3 then show \"There is only three floors, please select 1 or 2 or 3\"\n"
   ]
  },
  {
   "cell_type": "code",
   "execution_count": null,
   "id": "d8699308-ddbe-4a0d-9bcb-a63d500bc1b9",
   "metadata": {},
   "outputs": [],
   "source": [
    "print(\"Operating systems:\")\n",
    "print(\"1. Windows\")\n",
    "print(\"2. Android\")\n",
    "print(\"3. Mac\")\n",
    "option = int(input(\"Enter an option: \"))\n",
    "if option == 1:\n",
    "    print(\"Goto first floor and buy windows laptop or mobile\")\n",
    "elif option == 2:\n",
    "    print(\"Goto second floor and buy android mobiles\")\n",
    "elif option == 3:\n",
    "    print(\"Goto third floor and buy mac laptop or iPhones\")\n",
    "else:\n",
    "    print(\"There is only three floors, please select 1 or 2 or 3\")"
   ]
  },
  {
   "cell_type": "markdown",
   "id": "a1df1066-67ad-4a18-b10a-196b5d0f49ad",
   "metadata": {},
   "source": [
    "\n",
    "#### 24.Given an age, figure out whether someone's a baby, toddler, child, teenager, adult or old codger."
   ]
  },
  {
   "cell_type": "code",
   "execution_count": null,
   "id": "f060d5b9-ec0c-4472-bf77-03f2c9137e0b",
   "metadata": {},
   "outputs": [],
   "source": [
    "age = int(input(\"Enter your age: \"))\n",
    "if age < 2:\n",
    "    print(\"You are a baby.\")\n",
    "elif age >= 2 and age < 4:\n",
    "    print(\"You are a toddler.\")\n",
    "elif age >= 4 and age < 13:\n",
    "    print(\"You are a child.\")\n",
    "elif age >= 13 and age < 20:\n",
    "    print(\"You are a teenager.\")\n",
    "elif age >= 20 and age < 60:\n",
    "    print(\"You are an adult.\")\n",
    "else:\n",
    "    print(\"You are an old codger.\")"
   ]
  },
  {
   "cell_type": "markdown",
   "id": "27a63c82-995c-4293-b800-b735f90218c4",
   "metadata": {},
   "source": [
    "#### 25.Take two number a,b from the user and check whether a is divisible by b or not"
   ]
  },
  {
   "cell_type": "code",
   "execution_count": null,
   "id": "140c3ca5-8ec0-4853-a241-4eb00311695c",
   "metadata": {},
   "outputs": [],
   "source": [
    "a = float(input(\"Enter the first number (a): \"))\n",
    "b = float(input(\"Enter the second number (b): \"))\n",
    "if b == 0:\n",
    "    print(\"Division by zero is not allowed.\")\n",
    "elif a % b == 0:\n",
    "    print(\"{a} is divisible by {b}.\")\n",
    "else:\n",
    "    print(\"{a} is not divisible by {b}.\")"
   ]
  },
  {
   "cell_type": "markdown",
   "id": "49f7759a-2f61-44bd-99d7-f90518347336",
   "metadata": {},
   "source": [
    "#### 26.Take a letter from the user and print that letter belongs to which category I.e is it a small letter or capital letter or number or special symbol"
   ]
  },
  {
   "cell_type": "code",
   "execution_count": null,
   "id": "c173f7ec-b400-4eb2-bbee-84aec4e95d01",
   "metadata": {},
   "outputs": [],
   "source": [
    "# Taking a single character input from the user\n",
    "char = input(\"Enter a single character: \")\n",
    "# Checking if the input is a single character\n",
    "if len(char) != 1:\n",
    "    print(\"Please enter only one character:\")\n",
    "else:\n",
    "    ascii_value = ord(char)\n",
    "if 65 <= ascii_value <= 90:\n",
    "    print(\"The character is a capital letter:\")\n",
    "elif 97 <= ascii_value <= 122:\n",
    "    print(\"The character is a small letter:\")\n",
    "elif 48 <= ascii_value <= 57:\n",
    "    print(\"The character is a number:\")\n",
    "else:\n",
    "    print(\"The character is a special symbol:\")\n"
   ]
  },
  {
   "cell_type": "markdown",
   "id": "8260b9ad-484a-4be1-bda5-11af0fcc8ba8",
   "metadata": {},
   "source": [
    "#### 27.Take a number from the user and check whether it is prime?"
   ]
  },
  {
   "cell_type": "code",
   "execution_count": null,
   "id": "d5ae11a5-3c6d-4636-bc61-a889dd8c8ac0",
   "metadata": {},
   "outputs": [],
   "source": [
    "num = int(input(\"Enter the number to be checked: \"))\n",
    "if num > 1:\n",
    "    for i in range(2, int(num/2)+1):\n",
    "        if (num % i) == 0:\n",
    "            print(num, \"is not a prime number\")\n",
    "            break\n",
    "        else:\n",
    "            print(num, \"is a prime number\")\n",
    "else:\n",
    "    print(num, \"is not a prime number\")\n"
   ]
  },
  {
   "cell_type": "markdown",
   "id": "7e05b87c-a6f7-43be-9e9e-edbbd14a4719",
   "metadata": {},
   "source": [
    "#### 28.Take a string from the user and check contains only digits or not?"
   ]
  },
  {
   "cell_type": "code",
   "execution_count": null,
   "id": "c01e2939-7caa-45f8-a029-2bb33261952f",
   "metadata": {},
   "outputs": [],
   "source": [
    "input_str = input(\"Enter a string:\")\n",
    "if input_str.isdigit():\n",
    "    print(\"The string contains only digits:\")\n",
    "else:\n",
    "    print(\"The string does not contains only digits:\")"
   ]
  },
  {
   "cell_type": "markdown",
   "id": "b28b9d7d-37b9-4a28-9540-fd94e1a4f6ae",
   "metadata": {},
   "source": [
    " #### 29.Take a string from the user and check contains only  alphabets or not?"
   ]
  },
  {
   "cell_type": "code",
   "execution_count": null,
   "id": "cf481024-f949-4c82-8279-8d22aefd9b33",
   "metadata": {},
   "outputs": [],
   "source": [
    "input_str = input(\"Enter an alphabets:\")\n",
    "if input_str.isalpha():\n",
    "    print(\"The string contains only alphabets:\")\n",
    "else:\n",
    "    print(\"The string does not contains alphabets:\")"
   ]
  },
  {
   "cell_type": "markdown",
   "id": "bb4e1577-7a56-4ee4-84a0-6c3999e12b61",
   "metadata": {},
   "source": [
    "#### 30.Take a string from the user and check contains only  special chars or not?"
   ]
  },
  {
   "cell_type": "code",
   "execution_count": null,
   "id": "c4d31f29-9e17-4713-9a09-2b951f588351",
   "metadata": {},
   "outputs": [],
   "source": [
    "string = input(\"Enter a string: \")\n",
    " \n",
    "for char in string:\n",
    "    if ('a' <= char <= 'z') or ('A' <= char <= 'Z') or ('0' <= char <= '9'):\n",
    "        print(\"The string contains non-special characters.\")\n",
    "        break\n",
    "else:\n",
    "    print(\"The string contains only special characters.\")\n",
    "\n",
    "    "
   ]
  },
  {
   "cell_type": "markdown",
   "id": "917e7491-3396-4cbe-a928-502264f4578c",
   "metadata": {},
   "source": [
    "#### 31.Take a string from the user and check contains only  capital letters or not?"
   ]
  },
  {
   "cell_type": "code",
   "execution_count": null,
   "id": "ba782ed9-03c9-4b57-926d-e90050e05f10",
   "metadata": {},
   "outputs": [],
   "source": [
    "string = input(\"Enter a string: \")\n",
    "\n",
    "for char in string:\n",
    "    if not ('A' <= char <= 'Z'):\n",
    "        print(\"The string contains non-capital letters.\")\n",
    "        break\n",
    "else:\n",
    "    print(\"The string contains only capital letters.\")"
   ]
  },
  {
   "cell_type": "markdown",
   "id": "de55ecab-17d0-4f88-98af-bc73143b23ea",
   "metadata": {},
   "source": [
    "#### 32.Take a string from the user and check contains only  small letters or not?"
   ]
  },
  {
   "cell_type": "code",
   "execution_count": null,
   "id": "a8ef04d1-d502-4c59-9ac6-f563640681af",
   "metadata": {},
   "outputs": [],
   "source": [
    "string = input(\"Enter a string: \")\n",
    "\n",
    "for char in string:\n",
    "    if not ('a' <= char <= 'z'):\n",
    "        print(\"The string  does not contains small letters.\")\n",
    "        break\n",
    "else:\n",
    "    print(\"The string contains only small letters.\")"
   ]
  },
  {
   "cell_type": "markdown",
   "id": "028afb05-d9a4-46e9-b51e-51fd9386b683",
   "metadata": {},
   "source": [
    "#### 33. WAP to replace last n occurrence of give string.\n",
    "For example:”apple,orange,apple,grape,orange,apple,apple,orange”\n",
    "source: “apple”\n",
    "last occurrences: 2\n",
    "replace with: APPLE\n",
    "output:”apple,orange,apple,grape,orange,APPLE,APPLE,orange”\n",
    "\n"
   ]
  },
  {
   "cell_type": "code",
   "execution_count": null,
   "id": "71e44bab-0d9c-478e-9883-f2b4b2eb3694",
   "metadata": {},
   "outputs": [],
   "source": [
    "s = \"apple,orange,apple,grape,orange,apple,apple,orange\"\n",
    "\"APPLE\".join(s.rsplit(\"apple\",2))"
   ]
  },
  {
   "cell_type": "markdown",
   "id": "b8561db3-cf22-4e4f-9640-1d055ebcb94d",
   "metadata": {},
   "source": [
    "#### 34.WAP to check given string contains numbers or not. it should consider float numbers also?"
   ]
  },
  {
   "cell_type": "code",
   "execution_count": null,
   "id": "af1129a5-4052-44be-9cfd-3c89516fd412",
   "metadata": {},
   "outputs": [],
   "source": [
    "user_input = input(\"Enter a string it contains numbers and float values:\")\n",
    "for i in user_input:\n",
    "    if(i >= \"0\" and i <= \"9\"):\n",
    "        print(\"contains numbers\")\n",
    "        break\n",
    "    else:\n",
    "        print(\"not contains numbers\")"
   ]
  },
  {
   "cell_type": "markdown",
   "id": "3c9cf303-697d-4b0b-b2f5-fb4dc9bf701c",
   "metadata": {},
   "source": [
    "#### 35.Convert the total string in to lower case. Without using lower() function?"
   ]
  },
  {
   "cell_type": "code",
   "execution_count": 1,
   "id": "3feb5490-be63-4ecc-8377-d6a8325f5126",
   "metadata": {},
   "outputs": [
    {
     "name": "stdin",
     "output_type": "stream",
     "text": [
      "Enter a word with alphabets :  ABCabc\n"
     ]
    },
    {
     "name": "stdout",
     "output_type": "stream",
     "text": [
      "abcabc\n"
     ]
    }
   ],
   "source": [
    "user_input = input(\"Enter a word with alphabets : \")\n",
    "user_input = list(user_input)\n",
    "for i in range(0, len(user_input)):\n",
    "    if ((user_input[i] >= \"A\" and user_input[i] <= \"Z\")) :\n",
    "        user_input[i] = chr(ord(user_input[i]) + 32)\n",
    "\n",
    "print(\"\".join(user_input))"
   ]
  },
  {
   "cell_type": "markdown",
   "id": "056f28fa-dea7-442c-9ba8-266da6786e95",
   "metadata": {},
   "source": [
    "#### 36.Convert the total string in to upper case. Without using upper() function?"
   ]
  },
  {
   "cell_type": "code",
   "execution_count": 2,
   "id": "aba3ffea-5b73-4c4d-90da-e88bae94fd69",
   "metadata": {},
   "outputs": [
    {
     "name": "stdin",
     "output_type": "stream",
     "text": [
      "Enter a word with alphabets: ABCabc\n"
     ]
    },
    {
     "name": "stdout",
     "output_type": "stream",
     "text": [
      "ABCABC\n"
     ]
    }
   ],
   "source": [
    "user_input = input(\"Enter a word with alphabets:\")\n",
    "user_input = list(user_input)\n",
    "for i in range(0, len(user_input)):\n",
    "    if ((user_input[i] >= \"a\" and user_input[i] <= \"z\")):\n",
    "        user_input[i] = chr(ord(user_input[i]) - 32)\n",
    "print(\"\" .join(user_input))"
   ]
  },
  {
   "cell_type": "markdown",
   "id": "3a48cb68-d1dd-4ece-9dce-c9b72680e965",
   "metadata": {},
   "source": [
    " #### 37.Show the below menu to the user until and until user select quit and display corresponding os message\n",
    "\t\n",
    "'''\n",
    "Menu:\n",
    "1. windows\n",
    "2. Linux\n",
    "3. Mac\n",
    "4. quit\n"
   ]
  },
  {
   "cell_type": "code",
   "execution_count": 3,
   "id": "ac0a49d4-930b-446e-8101-9efd4fc378c7",
   "metadata": {},
   "outputs": [
    {
     "name": "stdout",
     "output_type": "stream",
     "text": [
      "Menu: \n",
      "1. windows \n",
      "2. Linux \n",
      "3. Mac \n",
      "4. quit\n"
     ]
    },
    {
     "name": "stdin",
     "output_type": "stream",
     "text": [
      "Select a number from above options :  3\n"
     ]
    },
    {
     "name": "stdout",
     "output_type": "stream",
     "text": [
      "You selected Mac\n",
      "Menu: \n",
      "1. windows \n",
      "2. Linux \n",
      "3. Mac \n",
      "4. quit\n"
     ]
    },
    {
     "name": "stdin",
     "output_type": "stream",
     "text": [
      "Select a number from above options :  2\n"
     ]
    },
    {
     "name": "stdout",
     "output_type": "stream",
     "text": [
      "You selected Linux\n",
      "Menu: \n",
      "1. windows \n",
      "2. Linux \n",
      "3. Mac \n",
      "4. quit\n"
     ]
    },
    {
     "name": "stdin",
     "output_type": "stream",
     "text": [
      "Select a number from above options :  1\n"
     ]
    },
    {
     "name": "stdout",
     "output_type": "stream",
     "text": [
      " You selected Windows \n",
      "Menu: \n",
      "1. windows \n",
      "2. Linux \n",
      "3. Mac \n",
      "4. quit\n"
     ]
    },
    {
     "name": "stdin",
     "output_type": "stream",
     "text": [
      "Select a number from above options :  4\n"
     ]
    },
    {
     "name": "stdout",
     "output_type": "stream",
     "text": [
      "Thank You!\n"
     ]
    }
   ],
   "source": [
    "condition = True\n",
    "while condition:\n",
    "    a = \"Menu: \\n1. windows \\n2. Linux \\n3. Mac \\n4. quit\"\n",
    "    print(a)\n",
    "    user_input = input(\"Select a number from above options : \")\n",
    "    if \"1\" == user_input:\n",
    "        print(\" You selected Windows \")\n",
    "        condition = True\n",
    "    elif \"2\" == user_input:\n",
    "        print(\"You selected Linux\")\n",
    "        condition = True\n",
    "    elif \"3\" == user_input:\n",
    "        print(\"You selected Mac\")\n",
    "        condition = True\n",
    "    elif \"4\" == user_input:\n",
    "        print(\"Thank You!\")\n",
    "        condition = False\n",
    "    else:\n",
    "        print(\"===>  Select from given options please  <===\")\n",
    "        condition = True"
   ]
  },
  {
   "cell_type": "markdown",
   "id": "c0b31eb6-488d-4c2d-aa05-50e1e360db02",
   "metadata": {},
   "source": [
    " #### 38.Take a string from the user and check contains at least one digit or not?"
   ]
  },
  {
   "cell_type": "code",
   "execution_count": 9,
   "id": "83fc16e5-03af-4ffe-b97a-1bf95d601c1e",
   "metadata": {},
   "outputs": [
    {
     "name": "stdin",
     "output_type": "stream",
     "text": [
      "Enter a string it contains numbers: 12345\n"
     ]
    },
    {
     "name": "stdout",
     "output_type": "stream",
     "text": [
      "contains numbers\n"
     ]
    }
   ],
   "source": [
    "user_input = input(\"Enter a string it contains numbers:\")\n",
    "for i in user_input:\n",
    "    if (i >= \"0\" and i <= \"9\"):\n",
    "        print(\"contains numbers\")\n",
    "        break\n",
    "    else:\n",
    "        print(\"not contains numbers\")"
   ]
  },
  {
   "cell_type": "markdown",
   "id": "c86d6dc6-8ae8-442d-9624-20a20f960a2e",
   "metadata": {},
   "source": [
    "#### 39.Take a string from the user and check contains at least one alphabets or not?"
   ]
  },
  {
   "cell_type": "code",
   "execution_count": 11,
   "id": "01741ec7-52bf-44df-90ba-28a6bbc03f5e",
   "metadata": {},
   "outputs": [
    {
     "name": "stdin",
     "output_type": "stream",
     "text": [
      "Enter a string it contains alphabets: 1245A\n"
     ]
    },
    {
     "name": "stdout",
     "output_type": "stream",
     "text": [
      "Not contains alphabets\n",
      "Not contains alphabets\n",
      "Not contains alphabets\n",
      "Not contains alphabets\n",
      "contains alphabets\n"
     ]
    }
   ],
   "source": [
    "user_input = input(\"Enter a string it contains alphabets:\")\n",
    "for i in user_input:\n",
    "    if(i >= \"A\" and i <= \"Z\") or (i >= \"a\" and i <= \"z\"):\n",
    "        print(\"contains alphabets\")\n",
    "        break\n",
    "    else:\n",
    "        print(\"Not contains alphabets\")"
   ]
  },
  {
   "cell_type": "markdown",
   "id": "73d2a38e-24f0-4d75-b574-c4951917f287",
   "metadata": {},
   "source": [
    "#### 40.Take a string from the user and check contains at least one chars or not?"
   ]
  },
  {
   "cell_type": "code",
   "execution_count": 13,
   "id": "8345882d-310c-4ef5-bc6f-11611672022f",
   "metadata": {},
   "outputs": [
    {
     "name": "stdin",
     "output_type": "stream",
     "text": [
      "Enter a string it contains char: sfgs@\n"
     ]
    },
    {
     "name": "stdout",
     "output_type": "stream",
     "text": [
      "not contains chars\n",
      "not contains chars\n",
      "not contains chars\n",
      "not contains chars\n",
      "contains chars\n"
     ]
    }
   ],
   "source": [
    "user_input = input(\"Enter a string it contains char:\")\n",
    "for i in user_input:\n",
    "    if not((i >= \"A\" and i <= \"Z\") or (i >= \"a\" and i <= \"z\") or (i >= \"0\" and i <= \"9\")):\n",
    "        print(\"contains chars\")\n",
    "        break\n",
    "    else:\n",
    "        print(\"not contains chars\")"
   ]
  },
  {
   "cell_type": "markdown",
   "id": "c8571895-950a-466a-b304-a07b8538c24f",
   "metadata": {},
   "source": [
    "#### 41.Take a string from the user and check contains at least one capital letter or not?"
   ]
  },
  {
   "cell_type": "code",
   "execution_count": 14,
   "id": "9fa71866-decd-4a9a-ad28-8207cd3fd268",
   "metadata": {},
   "outputs": [
    {
     "name": "stdin",
     "output_type": "stream",
     "text": [
      "Enter a string it contains capital letters: abcdegH\n"
     ]
    },
    {
     "name": "stdout",
     "output_type": "stream",
     "text": [
      "not contains capital letters\n",
      "not contains capital letters\n",
      "not contains capital letters\n",
      "not contains capital letters\n",
      "not contains capital letters\n",
      "not contains capital letters\n",
      "contains capital letters\n"
     ]
    }
   ],
   "source": [
    "user_input = input(\"Enter a string it contains capital letters:\")\n",
    "for i in user_input:\n",
    "    if(i >= \"A\" and i <= \"Z\"):\n",
    "        print(\"contains capital letters\")\n",
    "        break\n",
    "    else:\n",
    "        print(\"not contains capital letters\")"
   ]
  },
  {
   "cell_type": "markdown",
   "id": "2633645c-64d9-4e7f-a876-4efa5f3c3233",
   "metadata": {},
   "source": [
    " #### 42 Take a string from the user and check contains at least one small letter or not?"
   ]
  },
  {
   "cell_type": "code",
   "execution_count": 16,
   "id": "7c99f53b-aded-4891-9aed-0c964c86c482",
   "metadata": {},
   "outputs": [
    {
     "name": "stdin",
     "output_type": "stream",
     "text": [
      "Enter a string it contains small letters: ABCDEF\n"
     ]
    },
    {
     "name": "stdout",
     "output_type": "stream",
     "text": [
      "not contains small letters\n",
      "not contains small letters\n",
      "not contains small letters\n",
      "not contains small letters\n",
      "not contains small letters\n",
      "not contains small letters\n"
     ]
    }
   ],
   "source": [
    "user_input = input(\"Enter a string it contains small letters:\")\n",
    "for i in user_input:\n",
    "    if(i >= \"a\" and i <= \"z\"):\n",
    "        print(\"contains small letters\")\n",
    "        break\n",
    "    else:\n",
    "        print(\"not contains small letters\")"
   ]
  },
  {
   "cell_type": "markdown",
   "id": "3bd6cdae-f3dc-46ba-83e0-3122bda3e84c",
   "metadata": {},
   "source": [
    "#### 43.Print the first 100 odd numbers?"
   ]
  },
  {
   "cell_type": "code",
   "execution_count": 19,
   "id": "bfdad8e0-db9f-4cbb-8fec-ba5c2398a894",
   "metadata": {},
   "outputs": [
    {
     "name": "stdout",
     "output_type": "stream",
     "text": [
      "1,3,5,7,9,11,13,15,17,19,21,23,25,27,29,31,33,35,37,39,41,43,45,47,49,51,53,55,57,59,61,63,65,67,69,71,73,75,77,79,81,83,85,87,89,91,93,95,97,99,101,103,105,107,109,111,113,115,117,119,121,123,125,127,129,131,133,135,137,139,141,143,145,147,149,151,153,155,157,159,161,163,165,167,169,171,173,175,177,179,181,183,185,187,189,191,193,195,197,199,"
     ]
    }
   ],
   "source": [
    "for i in range(1, 200):\n",
    "    if i % 2 != 0:\n",
    "        print(i, end=\",\")\n"
   ]
  },
  {
   "cell_type": "markdown",
   "id": "a7a44f86-8436-488f-8038-f205f6ce1b83",
   "metadata": {},
   "source": [
    "#### 44.Determine the factors of a number entered  by the user?"
   ]
  },
  {
   "cell_type": "code",
   "execution_count": 20,
   "id": "102efe64-b012-4a79-83d8-af1ecafb0e21",
   "metadata": {},
   "outputs": [
    {
     "name": "stdin",
     "output_type": "stream",
     "text": [
      "enter a number :  40\n"
     ]
    },
    {
     "name": "stdout",
     "output_type": "stream",
     "text": [
      "1 2 4 5 8 10 20 40 "
     ]
    }
   ],
   "source": [
    "user_input = input(\"enter a number : \")\n",
    "user_input = int(user_input)\n",
    "\n",
    "for i in range(1, user_input+1):\n",
    "    if user_input % i == 0:\n",
    "        print(i, end= \" \")\n"
   ]
  },
  {
   "cell_type": "markdown",
   "id": "74f7d45e-6cb2-48c4-9fdd-abf5e3475b18",
   "metadata": {},
   "source": [
    "#### 45.Play a number guessing game (User enters a guess, you print YES or Higher or Lower). This should continue until and until user gives a correct number or want to quit in the middle.\n",
    "Get a hidden number by using random.randint(1,100)\n"
   ]
  },
  {
   "cell_type": "code",
   "execution_count": 27,
   "id": "8eb7aebb-b092-4f16-8a8a-080461963d9b",
   "metadata": {},
   "outputs": [
    {
     "name": "stdin",
     "output_type": "stream",
     "text": [
      "enter a number for guess :  90\n"
     ]
    },
    {
     "name": "stdout",
     "output_type": "stream",
     "text": [
      "Lower\n"
     ]
    },
    {
     "name": "stdin",
     "output_type": "stream",
     "text": [
      "enter a number for guess :  10\n"
     ]
    },
    {
     "name": "stdout",
     "output_type": "stream",
     "text": [
      "Lower\n"
     ]
    },
    {
     "name": "stdin",
     "output_type": "stream",
     "text": [
      "enter a number for guess :  50\n"
     ]
    },
    {
     "name": "stdout",
     "output_type": "stream",
     "text": [
      "Lower\n"
     ]
    },
    {
     "name": "stdin",
     "output_type": "stream",
     "text": [
      "enter a number for guess :  85\n"
     ]
    },
    {
     "name": "stdout",
     "output_type": "stream",
     "text": [
      "Lower\n"
     ]
    },
    {
     "name": "stdin",
     "output_type": "stream",
     "text": [
      "enter a number for guess :  88\n"
     ]
    },
    {
     "name": "stdout",
     "output_type": "stream",
     "text": [
      "Lower\n"
     ]
    },
    {
     "name": "stdin",
     "output_type": "stream",
     "text": [
      "enter a number for guess :  86\n"
     ]
    },
    {
     "name": "stdout",
     "output_type": "stream",
     "text": [
      "Lower\n"
     ]
    },
    {
     "name": "stdin",
     "output_type": "stream",
     "text": [
      "enter a number for guess :  87\n"
     ]
    },
    {
     "name": "stdout",
     "output_type": "stream",
     "text": [
      "Lower\n"
     ]
    },
    {
     "name": "stdin",
     "output_type": "stream",
     "text": [
      "enter a number for guess :  89\n"
     ]
    },
    {
     "name": "stdout",
     "output_type": "stream",
     "text": [
      "Lower\n"
     ]
    },
    {
     "name": "stdin",
     "output_type": "stream",
     "text": [
      "enter a number for guess :  86\n"
     ]
    },
    {
     "name": "stdout",
     "output_type": "stream",
     "text": [
      "Lower\n"
     ]
    },
    {
     "name": "stdin",
     "output_type": "stream",
     "text": [
      "enter a number for guess :  88\n"
     ]
    },
    {
     "name": "stdout",
     "output_type": "stream",
     "text": [
      "Lower\n"
     ]
    },
    {
     "name": "stdin",
     "output_type": "stream",
     "text": [
      "enter a number for guess :  90\n"
     ]
    },
    {
     "name": "stdout",
     "output_type": "stream",
     "text": [
      "Lower\n"
     ]
    },
    {
     "name": "stdin",
     "output_type": "stream",
     "text": [
      "enter a number for guess :  75\n"
     ]
    },
    {
     "name": "stdout",
     "output_type": "stream",
     "text": [
      "Lower\n"
     ]
    },
    {
     "name": "stdin",
     "output_type": "stream",
     "text": [
      "enter a number for guess :  76\n"
     ]
    },
    {
     "name": "stdout",
     "output_type": "stream",
     "text": [
      "Lower\n"
     ]
    },
    {
     "name": "stdin",
     "output_type": "stream",
     "text": [
      "enter a number for guess :  77\n"
     ]
    },
    {
     "name": "stdout",
     "output_type": "stream",
     "text": [
      "Lower\n"
     ]
    },
    {
     "name": "stdin",
     "output_type": "stream",
     "text": [
      "enter a number for guess :  60\n"
     ]
    },
    {
     "name": "stdout",
     "output_type": "stream",
     "text": [
      "Lower\n"
     ]
    },
    {
     "name": "stdin",
     "output_type": "stream",
     "text": [
      "enter a number for guess :  55\n"
     ]
    },
    {
     "name": "stdout",
     "output_type": "stream",
     "text": [
      "Lower\n"
     ]
    },
    {
     "name": "stdin",
     "output_type": "stream",
     "text": [
      "enter a number for guess :  45\n"
     ]
    },
    {
     "name": "stdout",
     "output_type": "stream",
     "text": [
      "Lower\n"
     ]
    },
    {
     "name": "stdin",
     "output_type": "stream",
     "text": [
      "enter a number for guess :  78\n"
     ]
    },
    {
     "name": "stdout",
     "output_type": "stream",
     "text": [
      "Lower\n"
     ]
    },
    {
     "name": "stdin",
     "output_type": "stream",
     "text": [
      "enter a number for guess :  70\n"
     ]
    },
    {
     "name": "stdout",
     "output_type": "stream",
     "text": [
      "Lower\n"
     ]
    },
    {
     "name": "stdin",
     "output_type": "stream",
     "text": [
      "enter a number for guess :  55\n"
     ]
    },
    {
     "name": "stdout",
     "output_type": "stream",
     "text": [
      "Lower\n"
     ]
    },
    {
     "name": "stdin",
     "output_type": "stream",
     "text": [
      "enter a number for guess :  78\n"
     ]
    },
    {
     "name": "stdout",
     "output_type": "stream",
     "text": [
      "Lower\n"
     ]
    },
    {
     "name": "stdin",
     "output_type": "stream",
     "text": [
      "enter a number for guess :  95\n"
     ]
    },
    {
     "name": "stdout",
     "output_type": "stream",
     "text": [
      "YES\n"
     ]
    }
   ],
   "source": [
    "import random\n",
    "number = random.randint(1, 100)\n",
    "# print(number)\n",
    "condition = True\n",
    "while condition:\n",
    "    user_input = input(\"enter a number for guess : \")\n",
    "    user_input = int(user_input)\n",
    "    if number == user_input:\n",
    "        print(\"YES\")\n",
    "        condition = False\n",
    "    elif number > user_input:\n",
    "        print(\"Lower\")\n",
    "        condition = True\n",
    "    else:\n",
    "        print(\"Higher\")\n",
    "        condition = True"
   ]
  },
  {
   "cell_type": "markdown",
   "id": "afe5c013-966a-480e-96c2-1b7f6237de5d",
   "metadata": {},
   "source": [
    "#### 45.Take two numbers from the user a,b check whether a is divisible by b or not?"
   ]
  },
  {
   "cell_type": "code",
   "execution_count": 28,
   "id": "89f5a950-72f4-4c3a-873b-8650c93d3568",
   "metadata": {},
   "outputs": [
    {
     "name": "stdin",
     "output_type": "stream",
     "text": [
      "Enter a number 14\n",
      "Enter a number 2\n"
     ]
    },
    {
     "name": "stdout",
     "output_type": "stream",
     "text": [
      "0\n",
      "a is divisible by b\n"
     ]
    }
   ],
   "source": [
    "a = input(\"Enter a number\")\n",
    "a = int(a)\n",
    "b = input(\"Enter a number\")\n",
    "b = int(b)\n",
    "print(a % b)\n",
    "if a % b == 0:\n",
    "    print(\"a is divisible by b\")\n",
    "else:\n",
    "    print(\" a is not divisible by b\")"
   ]
  },
  {
   "cell_type": "markdown",
   "id": "f71927bb-2cdb-4dda-80c6-b7c148c3b396",
   "metadata": {},
   "source": [
    " #### 46.Find the sum of all the multiples of 3 or 5 below 1000?"
   ]
  },
  {
   "cell_type": "code",
   "execution_count": 53,
   "id": "ac5a8ed0-292d-470f-90ef-0907475c881e",
   "metadata": {},
   "outputs": [
    {
     "name": "stdout",
     "output_type": "stream",
     "text": [
      "sum of multiples of 3 is 166833\n",
      "sum of multiples of 5 is 99500\n"
     ]
    }
   ],
   "source": [
    "sum_of_3 = 0\n",
    "sum_of_5 = 0\n",
    "for i in range(1, 1000):\n",
    "    if i % 3 == 0:\n",
    "        sum_of_3 += i\n",
    "    if i % 5 == 0:\n",
    "        sum_of_5 += i\n",
    "print(\"sum of multiples of 3 is\", sum_of_3)\n",
    "print(\"sum of multiples of 5 is\", sum_of_5)\n",
    "         \n"
   ]
  },
  {
   "cell_type": "markdown",
   "id": "832b35a7-24de-4701-b6eb-7ea6757f5eaf",
   "metadata": {},
   "source": [
    "#### 47.Write a program to find out big of two numbers?"
   ]
  },
  {
   "cell_type": "code",
   "execution_count": 30,
   "id": "e65440db-f42d-4b9d-a0ec-a85ebb3e04a1",
   "metadata": {},
   "outputs": [
    {
     "name": "stdin",
     "output_type": "stream",
     "text": [
      "Enter a number: 20\n",
      "Enter a number: 30\n"
     ]
    },
    {
     "name": "stdout",
     "output_type": "stream",
     "text": [
      "Big number is 30\n"
     ]
    }
   ],
   "source": [
    "user_input = input(\"Enter a number:\")\n",
    "user_input2 = input(\"Enter a number:\")\n",
    "user_input = float(user_input)\n",
    "user_input2 = float(user_input2)\n",
    "if user_input > user_input2:\n",
    "    print(\"Big number is\", int(user_input))\n",
    "else:\n",
    "    print(\"Big number is\", int(user_input2))\n",
    "    \n",
    "                   "
   ]
  },
  {
   "cell_type": "markdown",
   "id": "a2d1faf5-b640-4fa1-a832-36768f555ddb",
   "metadata": {},
   "source": [
    "#### 48.Write a program to find out biggest number in the given numbers?"
   ]
  },
  {
   "cell_type": "code",
   "execution_count": 31,
   "id": "cf2fadd7-9a6e-445b-9199-5022d1689ddc",
   "metadata": {},
   "outputs": [
    {
     "name": "stdin",
     "output_type": "stream",
     "text": [
      "Enter a Number : 125321\n"
     ]
    },
    {
     "name": "stdout",
     "output_type": "stream",
     "text": [
      "5\n"
     ]
    }
   ],
   "source": [
    "user_input = input(\"Enter a Number :\")\n",
    "user_input = list(user_input)\n",
    "big = int(user_input[0])\n",
    "for i in user_input:\n",
    "    if int(i) >= big:\n",
    "        big = int(i)\n",
    "print(big)\n"
   ]
  },
  {
   "cell_type": "markdown",
   "id": "cdced378-509f-4efd-93c5-d46b9f44adae",
   "metadata": {},
   "source": [
    "#### 49.find out the index of  third occurrence of given substring?"
   ]
  },
  {
   "cell_type": "code",
   "execution_count": 34,
   "id": "f2e313dd-b524-43b4-b419-4c9e6025d3d8",
   "metadata": {},
   "outputs": [
    {
     "name": "stdin",
     "output_type": "stream",
     "text": [
      "Enter a Number: 12456\n"
     ]
    },
    {
     "name": "stdout",
     "output_type": "stream",
     "text": [
      "6\n"
     ]
    }
   ],
   "source": [
    "user_input = input(\"Enter a Number:\")\n",
    "user_input = list(user_input)\n",
    "big = int(user_input[0])\n",
    "for i in user_input:\n",
    "    if int(i) >= big:\n",
    "        big = int(i)\n",
    "print(big)"
   ]
  },
  {
   "cell_type": "markdown",
   "id": "195037e5-4acc-4488-a4ad-30902fae3598",
   "metadata": {},
   "source": [
    "#### 50.find out the index nth occurrence of given substring?"
   ]
  },
  {
   "cell_type": "code",
   "execution_count": 36,
   "id": "157d6029-59f9-48e7-aeb0-30e234b06a27",
   "metadata": {},
   "outputs": [
    {
     "name": "stdin",
     "output_type": "stream",
     "text": [
      "Enter a String  teja p 2 teja 2 teja\n",
      "Enter a sub string teja\n"
     ]
    },
    {
     "name": "stdout",
     "output_type": "stream",
     "text": [
      "14\n"
     ]
    }
   ],
   "source": [
    "user_input = input(\"Enter a String \")\n",
    "user_input_2 = input(\"Enter a sub string\")\n",
    "count = 0\n",
    "length = 0\n",
    "list_words = user_input.split(\" \")\n",
    "for i in range(0, len(list_words)):\n",
    "    if list_words[i] == user_input_2:\n",
    "        count += 1\n",
    "        if count == 3:\n",
    "            break\n",
    "        length += len(list_words[i])\n",
    "    else:\n",
    "        length += len(list_words[i])\n",
    "user_input = \" \".join(list_words)\n",
    "if count == 3:\n",
    "    print(length+count)"
   ]
  },
  {
   "cell_type": "markdown",
   "id": "b1cc14e3-d81a-40dd-8841-e9ffc09c3620",
   "metadata": {},
   "source": [
    "#### 51.find out the index nth occurrence of given substring?"
   ]
  },
  {
   "cell_type": "code",
   "execution_count": 37,
   "id": "01704d3c-b53a-4fe9-99f5-03964a665521",
   "metadata": {},
   "outputs": [
    {
     "name": "stdin",
     "output_type": "stream",
     "text": [
      "Enter a String  teju teju teju\n",
      "Enter a sub string teju\n"
     ]
    },
    {
     "name": "stdout",
     "output_type": "stream",
     "text": [
      "15\n"
     ]
    }
   ],
   "source": [
    "user_input = input(\"Enter a String \")\n",
    "user_input_2 = input(\"Enter a sub string\")\n",
    "count = 0\n",
    "length = 0\n",
    "list_words = user_input.split(\" \")\n",
    "for i in range(0, len(list_words)):\n",
    "    if list_words[i] == user_input_2:\n",
    "        count += 1\n",
    "        length += len(list_words[i])\n",
    "    else:\n",
    "        length += len(list_words[i])\n",
    "user_input = \" \".join(list_words)\n",
    "\n",
    "print(length+count)"
   ]
  },
  {
   "cell_type": "markdown",
   "id": "05231d44-ea51-468b-a42a-d82762f983fe",
   "metadata": {},
   "source": [
    "#### 51.Take some single digit numbers from the user and findout min, maximum, sum, average?"
   ]
  },
  {
   "cell_type": "code",
   "execution_count": 39,
   "id": "191f7cea-1c34-468b-a180-8c28501a718a",
   "metadata": {},
   "outputs": [
    {
     "name": "stdin",
     "output_type": "stream",
     "text": [
      "enter a number for no of inputs :  3\n",
      " enter a number  30\n",
      " enter a number  40\n",
      " enter a number  20\n"
     ]
    },
    {
     "name": "stdout",
     "output_type": "stream",
     "text": [
      "mimimunm of a given numbers  20\n",
      "Maximum of a given numbers  40\n",
      "sum of given numbers  90\n",
      "Average of given numbers 30.0\n"
     ]
    }
   ],
   "source": [
    "n = input(\"enter a number for no of inputs : \")\n",
    "n = int(n)\n",
    "list_a = []\n",
    "for i in range(n):\n",
    "    user_input = input(\" enter a number \")\n",
    "    list_a.append(int(user_input))\n",
    "min_of = list_a[0]\n",
    "max_of = list_a[0]\n",
    "sum_of = 0\n",
    "for i in list_a:\n",
    "    sum_of += i\n",
    "    if min_of >= i:\n",
    "        min_of = i\n",
    "    if max_of  <= i:\n",
    "        max_of = i\n",
    "print(\"mimimunm of a given numbers \", min_of)\n",
    "print(\"Maximum of a given numbers \", max_of)\n",
    "print(\"sum of given numbers \", sum_of)\n",
    "print(\"Average of given numbers\", (sum_of / n))"
   ]
  },
  {
   "cell_type": "markdown",
   "id": "f104f1d4-4d5f-4121-82cd-cbe81e69e60f",
   "metadata": {},
   "source": [
    " #### 52.print the number in proper mathematical way?\n",
    "\tConsider that we have 6 digit numbers.\n",
    "Number format  WAP> 10 -> 000010\n",
    "       \t\t100 ->  000100\n",
    "      \t\t1000 ->  001000\n",
    " \t\t 2345678  ->  2345678\n",
    "\tIf the number has more than 6 digits then print as it is.\n"
   ]
  },
  {
   "cell_type": "code",
   "execution_count": 40,
   "id": "e6630b7e-6451-4850-a745-9105236513bf",
   "metadata": {},
   "outputs": [
    {
     "name": "stdin",
     "output_type": "stream",
     "text": [
      "enter a number  321\n"
     ]
    },
    {
     "name": "stdout",
     "output_type": "stream",
     "text": [
      "000321\n"
     ]
    }
   ],
   "source": [
    "user_input = input(\"enter a number \")\n",
    "length = len(user_input)\n",
    "if length < 7:\n",
    "    print(\"0\" * (6- length) + user_input) "
   ]
  },
  {
   "cell_type": "markdown",
   "id": "27118e92-aa34-463b-b5cc-eac49774666a",
   "metadata": {},
   "source": [
    " #### 53.names  =\"emp1,emp2,emp3,emp4\" iterate through the employee names?"
   ]
  },
  {
   "cell_type": "code",
   "execution_count": 41,
   "id": "7c0f780e-2e24-429d-b471-7838d9981115",
   "metadata": {},
   "outputs": [
    {
     "name": "stdin",
     "output_type": "stream",
     "text": [
      "enter emp name  123\n"
     ]
    },
    {
     "name": "stdout",
     "output_type": "stream",
     "text": [
      "emp1 123\n"
     ]
    },
    {
     "name": "stdin",
     "output_type": "stream",
     "text": [
      "enter emp name  456\n"
     ]
    },
    {
     "name": "stdout",
     "output_type": "stream",
     "text": [
      "emp2 456\n"
     ]
    },
    {
     "name": "stdin",
     "output_type": "stream",
     "text": [
      "enter emp name  79\n"
     ]
    },
    {
     "name": "stdout",
     "output_type": "stream",
     "text": [
      "emp3 79\n"
     ]
    },
    {
     "name": "stdin",
     "output_type": "stream",
     "text": [
      "enter emp name  125\n"
     ]
    },
    {
     "name": "stdout",
     "output_type": "stream",
     "text": [
      "emp4 125\n"
     ]
    }
   ],
   "source": [
    "names =\"emp1,emp2,emp3,emp4\"\n",
    "for i in names.split(\",\"):\n",
    "    print(i, input(\"enter emp name \" ))"
   ]
  },
  {
   "cell_type": "markdown",
   "id": "6f97d7cc-2afa-4137-99af-3f8cac1438c9",
   "metadata": {},
   "source": [
    " #### 54.Take actual string, source string, destination string. replce first nth occurrences of source string with destination string of actual string?"
   ]
  },
  {
   "cell_type": "code",
   "execution_count": 42,
   "id": "1da07f45-b1c9-45eb-99c9-868064072118",
   "metadata": {},
   "outputs": [
    {
     "name": "stdin",
     "output_type": "stream",
     "text": [
      "Enter a sentence  teju p teju p teju p\n"
     ]
    },
    {
     "name": "stdout",
     "output_type": "stream",
     "text": [
      "['teju', 'p', 'teju', 'p', 'teju', 'p']\n"
     ]
    },
    {
     "name": "stdin",
     "output_type": "stream",
     "text": [
      "enter a sub string p\n",
      "enter a occurances of numbers  2\n",
      "enter a string to change pilly\n"
     ]
    },
    {
     "name": "stdout",
     "output_type": "stream",
     "text": [
      "teju\n",
      "p\n",
      "teju\n",
      "p\n",
      "teju pilly teju pilly teju p\n"
     ]
    }
   ],
   "source": [
    "user_input = input(\"Enter a sentence \")\n",
    "list_a = user_input.split()\n",
    "print(list_a)\n",
    "source = input(\"enter a sub string\")\n",
    "n = input(\"enter a occurances of numbers \")\n",
    "n = int(n)\n",
    "destination = input(\"enter a string to change\")\n",
    "count = 0\n",
    "for i in range(0, len(list_a)):\n",
    "    print(list_a[i])\n",
    "    if list_a[i] == source :\n",
    "        list_a[i] = destination\n",
    "        count += 1\n",
    "        if count == n:\n",
    "            break\n",
    "print(\" \".join(list_a))"
   ]
  },
  {
   "cell_type": "markdown",
   "id": "29cdb621-9176-4b93-906b-c63f5472df13",
   "metadata": {},
   "source": [
    " #### 55. Take a two numbers from the user and do below menu driven operations\n",
    " 1. addition\n",
    " 2. multiples\n",
    " 3.division\n",
    " 4.sqrt\n",
    " 5. pow    a**b\n",
    " 6.subtraction\n",
    " After selection do the corresponding operation.\n",
    " Note: user may give int, or float numbers. You should check whether it is proper digits    or not. \n",
    " I.e the user given string should be in the position to convert to float. \n",
    " Other wise show the “inproper string given” Error.\n"
   ]
  },
  {
   "cell_type": "code",
   "execution_count": 44,
   "id": "71ef6dd2-afda-49b1-835c-78172b03941b",
   "metadata": {},
   "outputs": [
    {
     "name": "stdin",
     "output_type": "stream",
     "text": [
      "enter a number : 3\n",
      "enter a number : 4\n"
     ]
    },
    {
     "name": "stdout",
     "output_type": "stream",
     "text": [
      "1. addition \n",
      "2. multiples \n",
      "3.division \n",
      "4.sqrt \n",
      "5. pow a**b \n",
      "6.subtraction\n"
     ]
    },
    {
     "name": "stdin",
     "output_type": "stream",
     "text": [
      "select from above options :  2\n"
     ]
    },
    {
     "name": "stdout",
     "output_type": "stream",
     "text": [
      "multiples  of : 12.0\n"
     ]
    }
   ],
   "source": [
    "user_input = input(\"enter a number :\")\n",
    "user_input = float(user_input)\n",
    "user_input_1 = input(\"enter a number :\")\n",
    "user_input_1 = float(user_input_1)\n",
    "\n",
    "print(\"1. addition \\n2. multiples \\n3.division \\n4.sqrt \\n5. pow a**b \\n6.subtraction\")\n",
    "select = input(\"select from above options : \")\n",
    "if select == \"1\":\n",
    "    print(\"addition of :\", user_input + user_input_1)\n",
    "elif select == \"2\":\n",
    "    print(\"multiples  of :\", user_input * user_input_1)\n",
    "elif select == \"3\":\n",
    "    print(\"division   of :\", user_input / user_input_1)\n",
    "elif select == \"4\":\n",
    "    print(\"sqrt of :\", user_input **2,  user_input_1**2 )\n",
    "elif select == \"5\":\n",
    "    print(\"pow a**b  of :\", user_input ** user_input_1 )\n",
    "elif select == \"6\":\n",
    "    print(\"subtraction  of :\", user_input - user_input_1)\n",
    "else:\n",
    "    print(\"selected inproper option\")\n",
    "    \n",
    "\n"
   ]
  },
  {
   "cell_type": "markdown",
   "id": "a7d62f06-7222-4649-a63f-b516df92bd68",
   "metadata": {},
   "source": [
    " #### 56.Take numbers from the user and find out min, maximum, sum, average?"
   ]
  },
  {
   "cell_type": "code",
   "execution_count": 45,
   "id": "a8ee0c69-ce3a-49b8-9f16-2020427fe646",
   "metadata": {},
   "outputs": [
    {
     "name": "stdin",
     "output_type": "stream",
     "text": [
      "enter a number for no of inputs :  4\n",
      " enter a number  6\n",
      " enter a number  9\n",
      " enter a number  8\n",
      " enter a number  5\n"
     ]
    },
    {
     "name": "stdout",
     "output_type": "stream",
     "text": [
      "mimimunm of a given numbers  5\n",
      "Maximum of a given numbers  9\n",
      "sum of given numbers  28\n",
      "Average of given numbers 7.0\n"
     ]
    }
   ],
   "source": [
    "\n",
    "n = input(\"enter a number for no of inputs : \")\n",
    "n = int(n)\n",
    "list_a = []\n",
    "for i in range(n):\n",
    "    user_input = input(\" enter a number \")\n",
    "    list_a.append(int(user_input))\n",
    "min_of = list_a[0]\n",
    "max_of = list_a[0]\n",
    "sum_of = 0\n",
    "for i in list_a:\n",
    "    sum_of += i\n",
    "    if min_of >= i:\n",
    "        min_of = i\n",
    "    if max_of  <= i:\n",
    "        max_of = i\n",
    "print(\"mimimunm of a given numbers \", min_of)\n",
    "print(\"Maximum of a given numbers \", max_of)\n",
    "print(\"sum of given numbers \", sum_of)\n",
    "print(\"Average of given numbers\", (sum_of / n))"
   ]
  },
  {
   "cell_type": "markdown",
   "id": "65eff5da-60a3-46ea-ab7f-91a2c3a043e5",
   "metadata": {},
   "source": [
    "#### 57. l=[1,2,3,5,7,8,9,10,11,12,13,20,22,23,24,25,26,27,20,21,22,4] find out how many even numbers are there and how many odd numbers are there and how many positive numbers are there and how many negative numbers are there and how many prime numbers are there and how many perfect numbers are there and how many Armstrong numbers are there and how many palindrome numbers are there."
   ]
  },
  {
   "cell_type": "code",
   "execution_count": 47,
   "id": "57cdbae3-f7a1-4153-9e91-98f1a38b46e1",
   "metadata": {},
   "outputs": [
    {
     "name": "stdout",
     "output_type": "stream",
     "text": [
      "Even numbers: 11\n",
      "Odd numbers: 11\n",
      "Positive numbers: 22\n",
      "Negative numbers: 0\n",
      "Prime numbers: 7\n",
      "Perfect numbers: 0\n",
      "Armstrong numbers: 8\n",
      "Palindrome numbers: 11\n"
     ]
    }
   ],
   "source": [
    "ve_no = 0\n",
    "ne_no = 0\n",
    "even_no = 0\n",
    "odd_no = 0\n",
    "prime_no = 0\n",
    "perfect_no = 0\n",
    "armstrong_no = 0\n",
    "palindrome_no = 0\n",
    "\n",
    "l=[1,2,3,5,7,8,9,10,11,12,13,20,22,23,24,25,26,27,20,21,22,4]\n",
    "for i in l:\n",
    "    if i >=0:\n",
    "        ve_no += 1\n",
    "    else:\n",
    "        ne_no += 1\n",
    "    if i % 2 == 0:\n",
    "        even_no += 1\n",
    "    else:\n",
    "        odd_no += 1\n",
    "    if i <= 1:\n",
    "        prime_no += 0\n",
    "    else:\n",
    "        count = 0\n",
    "        for j in range(2, i+1):\n",
    "            if i % j == 0:\n",
    "                count += 1\n",
    "        if count == 1:\n",
    "            prime_no += 1\n",
    "    if i <= 1:\n",
    "        perfect_no += 0\n",
    "    else:\n",
    "        sum = 1\n",
    "        for j in range(2, i+1):\n",
    "            if i % j == 0:\n",
    "                sum += j\n",
    "                if i // j != j:\n",
    "                    sum += i // j\n",
    "        if sum == i:\n",
    "            perfect_no += 1\n",
    "    num_str = str(i)\n",
    "    num_digits = len(num_str)\n",
    "    sum_of_powers = 0\n",
    "    \n",
    "    for j in num_str:\n",
    "        sum_of_powers += (int(j) ** num_digits)\n",
    "\n",
    "    if sum_of_powers == i:\n",
    "        armstrong_no += 1\n",
    "    if str(i) == str(i)[::-1]:\n",
    "        palindrome_no += 1\n",
    "\n",
    "print(\"Even numbers:\", even_no)\n",
    "print(\"Odd numbers:\", odd_no)\n",
    "print(\"Positive numbers:\", ve_no)\n",
    "print(\"Negative numbers:\", ne_no)\n",
    "print(\"Prime numbers:\", prime_no)\n",
    "print(\"Perfect numbers:\", perfect_no)\n",
    "print(\"Armstrong numbers:\", armstrong_no)\n",
    "print(\"Palindrome numbers:\", palindrome_no)"
   ]
  },
  {
   "cell_type": "markdown",
   "id": "38f12dfe-7226-4af0-a922-5425ec69c38c",
   "metadata": {},
   "source": [
    "#### 58. Take a string from the user and find out how many digits are there, how many special symbols are there, how many small letters are there, how many caps are there?"
   ]
  },
  {
   "cell_type": "code",
   "execution_count": 48,
   "id": "9784bfaa-338f-42ce-9c61-1a72d1c95b34",
   "metadata": {},
   "outputs": [
    {
     "name": "stdin",
     "output_type": "stream",
     "text": [
      "Enter a string :  Hello teja 123 @ aja %5vhjghjg\n"
     ]
    },
    {
     "name": "stdout",
     "output_type": "stream",
     "text": [
      "Digits: 4\n",
      "Special symbols: 26\n",
      "Small letters: 18\n",
      "Capital letters: 1\n"
     ]
    }
   ],
   "source": [
    "user_input = input(\"Enter a string : \")\n",
    "digit_count = 0\n",
    "symbol_count = 0\n",
    "small_letter = 0\n",
    "captial_count = 0\n",
    "for i in user_input:\n",
    "    if (i >= \"a\" and i <= \"z\"):\n",
    "        small_letter += 1\n",
    "    if (i >= \"A\" and i <= \"Z\"):\n",
    "        captial_count += 1\n",
    "    if (i >= \"0\" and i <= \"9\"):\n",
    "        digit_count += 1\n",
    "    else:\n",
    "        symbol_count += 1\n",
    "print(\"Digits:\", digit_count)\n",
    "print(\"Special symbols:\", symbol_count)\n",
    "print(\"Small letters:\", small_letter)\n",
    "print(\"Capital letters:\", captial_count)\n"
   ]
  },
  {
   "cell_type": "markdown",
   "id": "e9724bc9-b1ac-4360-b595-ae98d47d4c32",
   "metadata": {},
   "source": [
    "#### 59. Take a char from the user and find out how many number of occurrences are there in given string?"
   ]
  },
  {
   "cell_type": "code",
   "execution_count": 50,
   "id": "9d159d62-549a-408c-8766-5c2f6ba4f8f6",
   "metadata": {},
   "outputs": [
    {
     "name": "stdin",
     "output_type": "stream",
     "text": [
      "Enter a string : rtyfyfyuf hhiuhuih\n",
      "Enter a char : h\n"
     ]
    },
    {
     "name": "stdout",
     "output_type": "stream",
     "text": [
      "no of occurances are :  4\n"
     ]
    }
   ],
   "source": [
    "user_input = input(\"Enter a string :\")\n",
    "user_input_1 = input(\"Enter a char :\")\n",
    "count = 0\n",
    "for i in user_input:\n",
    "    if i == user_input_1:\n",
    "        count += 1\n",
    "\n",
    "print(\"no of occurances are : \", count)"
   ]
  },
  {
   "cell_type": "markdown",
   "id": "a617cc91-1be8-4f7e-9940-27c0b11ea660",
   "metadata": {},
   "source": [
    " #### 60.Take a element from the user and find out how many times the  element occurred in given list?"
   ]
  },
  {
   "cell_type": "code",
   "execution_count": 51,
   "id": "1a527b7d-eec4-48ac-9ec1-9fa9e210ce51",
   "metadata": {},
   "outputs": [
    {
     "name": "stdin",
     "output_type": "stream",
     "text": [
      "Enter a number : 5\n"
     ]
    },
    {
     "name": "stdout",
     "output_type": "stream",
     "text": [
      "no of  occurances are  4\n"
     ]
    }
   ],
   "source": [
    "list_a = [1,2,3,4,5,2,5,2,6,1,2,5,2,1,5,4,3,8,9,2]\n",
    "user_input = input(\"Enter a number :\")\n",
    "user_input = int(user_input)\n",
    "count = 0\n",
    "for i in list_a:\n",
    "    if i == user_input:\n",
    "        count += 1\n",
    "print(\"no of  occurances are \", count)"
   ]
  },
  {
   "cell_type": "markdown",
   "id": "db03011a-2956-409c-9537-3907dfd97b40",
   "metadata": {},
   "source": [
    "#### 61.Take an element from the user and find out how many number of occurrences are there in given tuple?"
   ]
  },
  {
   "cell_type": "code",
   "execution_count": 52,
   "id": "94d7f34f-b145-4c0e-9233-d1b26b1b51b3",
   "metadata": {},
   "outputs": [
    {
     "name": "stdin",
     "output_type": "stream",
     "text": [
      "Enter a number : 3\n"
     ]
    },
    {
     "name": "stdout",
     "output_type": "stream",
     "text": [
      "no of  occurances are  2\n"
     ]
    }
   ],
   "source": [
    "list_a = (1,2,3,4,5,2,5,2,6,1,2,5,2,1,5,4,3,8,9,2)\n",
    "user_input = input(\"Enter a number :\")\n",
    "user_input = int(user_input)\n",
    "count = 0\n",
    "for i in list_a:\n",
    "    if i == user_input:\n",
    "        count += 1\n",
    "print(\"no of  occurances are \", count)"
   ]
  },
  {
   "cell_type": "markdown",
   "id": "ade6c523-e147-4fbf-b46f-8ac99a56e52f",
   "metadata": {},
   "source": [
    "#### 62.Reverse the string without effecting the special symbols. It involves three variations. Write code for three variations.\r\n",
    "         .Input: abc123,#$45def6%$^789$%^, output: $%^987%$^6fed54,#$321cba\r\n",
    "        3.Input: abc123,#$45def6%$^789$%^, output: 9876fe,#$d54321%$^cba$%^\r\n",
    "\t\r\n",
    "      64.Inout: \"123,#$456%$^789$%^\", Output: 321,#$654%$^987$%^\r\n",
    "\t\tOnly numbers has to reverse.\r\n",
    "\r\n"
   ]
  },
  {
   "cell_type": "code",
   "execution_count": null,
   "id": "0bb6a6d1-f288-4b94-a5d6-2ef396390662",
   "metadata": {},
   "outputs": [],
   "source": []
  }
 ],
 "metadata": {
  "kernelspec": {
   "display_name": "Python 3 (ipykernel)",
   "language": "python",
   "name": "python3"
  },
  "language_info": {
   "codemirror_mode": {
    "name": "ipython",
    "version": 3
   },
   "file_extension": ".py",
   "mimetype": "text/x-python",
   "name": "python",
   "nbconvert_exporter": "python",
   "pygments_lexer": "ipython3",
   "version": "3.12.4"
  }
 },
 "nbformat": 4,
 "nbformat_minor": 5
}
