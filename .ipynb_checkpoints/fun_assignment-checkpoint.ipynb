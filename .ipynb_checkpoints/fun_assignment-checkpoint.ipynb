{
 "cells": [
  {
   "cell_type": "markdown",
   "id": "ed0ba1a6-1486-4741-a50d-150c453a1374",
   "metadata": {},
   "source": [
    "# Assignments on variables expressions and statements"
   ]
  },
  {
   "cell_type": "markdown",
   "id": "45a26842-bacc-4878-ae5e-72d37a35fb69",
   "metadata": {},
   "source": [
    "####     1. Take the input from the user for(Total number of people,Number of seats for bus. Based on two inputs Decide how many number of buses required "
   ]
  },
  {
   "cell_type": "code",
   "execution_count": 6,
   "id": "1cf33728-a2b2-4cf2-9596-6ec728ca3923",
   "metadata": {},
   "outputs": [
    {
     "name": "stdin",
     "output_type": "stream",
     "text": [
      "Enter Total number of people : 54\n",
      "Enter Total Number of seats for bus: 10\n"
     ]
    },
    {
     "name": "stdout",
     "output_type": "stream",
     "text": [
      "number of buses required¶  :  5\n"
     ]
    }
   ],
   "source": [
    "no_ppl = input(\"Enter Total number of people :\")\n",
    "no_seats = input(\"Enter Total Number of seats for bus:\")\n",
    "def buses(no_ppl, no_seats):\n",
    "    buses_need = (int(no_ppl) //  int(no_seats))\n",
    "    return buses_need\n",
    "bus_needed =  buses(no_ppl, no_seats) \n",
    "print(\"number of buses required¶  : \",bus_needed)"
   ]
  },
  {
   "cell_type": "markdown",
   "id": "1ade4cfe-b45a-4eda-98b2-a389a84572ae",
   "metadata": {},
   "source": [
    "####  2.take temperature from the user and convert foreign heat -> Celsius."
   ]
  },
  {
   "cell_type": "code",
   "execution_count": 11,
   "id": "a771239a-206a-47ed-86fc-d9fb7e52e088",
   "metadata": {},
   "outputs": [
    {
     "name": "stdin",
     "output_type": "stream",
     "text": [
      "Enter temperature : 54\n"
     ]
    },
    {
     "name": "stdout",
     "output_type": "stream",
     "text": [
      "54°F is equal to 12.22°C\n"
     ]
    }
   ],
   "source": [
    "temperature = input(\"Enter temperature :\")\n",
    "def temp(temperature):\n",
    "    celsius = (float(temperature) - 32) * 5/9\n",
    "    return celsius\n",
    "celsius = temp(temperature)\n",
    "print(f\"{temperature}°F is equal to {celsius:.2f}°C\")"
   ]
  },
  {
   "cell_type": "markdown",
   "id": "822e8bab-e75a-4e0c-8683-44f82267a25a",
   "metadata": {},
   "source": [
    "#### 3.take temperature from the user and convert Celsius → foreign heat."
   ]
  },
  {
   "cell_type": "code",
   "execution_count": 13,
   "id": "e8060f56-e345-4e40-a44a-d4f0ce58b3fb",
   "metadata": {},
   "outputs": [
    {
     "name": "stdin",
     "output_type": "stream",
     "text": [
      "Enter temperature : 54\n"
     ]
    },
    {
     "name": "stdout",
     "output_type": "stream",
     "text": [
      "54°C is equal to 129.2°F\n"
     ]
    }
   ],
   "source": [
    "temperature = input(\"Enter temperature :\")\n",
    "def temp(temperature):\n",
    "    foreign_heat = (float(temperature) * 9/5) + 32\n",
    "    return foreign_heat\n",
    "foreign_heat = temp(temperature)\n",
    "print(f\"{temperature}°C is equal to {foreign_heat}°F\")"
   ]
  },
  {
   "cell_type": "markdown",
   "id": "8ed220dc-faca-4a7e-838f-7799b6a49909",
   "metadata": {},
   "source": [
    "#### 4.take four number from the user (variables name it as x1,x2,x3,x4)\n",
    "##### Mathematical Operations\n",
    "\n",
    "1. **Square of Sum**\n",
    "   \\[\n",
    "   (x_1 + x_2)^2\n",
    "   \\]\n",
    "\n",
    "2. **Cube of Sum**\n",
    "   \\[\n",
    "   (x_3 + x_4)^3\n",
    "   \\]\n",
    "\n",
    "3. **Variance and Standard Deviation**\n",
    "   ```python\n",
    "   import math\n",
    "\n",
    "   # Assuming variance is known or calculated\n",
    "   variance = ...  # replace with the actual variance value\n",
    "   standard_deviation = math.sqrt(variance)\n",
    "\n"
   ]
  },
  {
   "cell_type": "code",
   "execution_count": 20,
   "id": "ec325949-1786-47a5-9486-24610e48a16b",
   "metadata": {},
   "outputs": [
    {
     "name": "stdin",
     "output_type": "stream",
     "text": [
      "Enter the value of x1:  2\n",
      "Enter the value of x2:  4\n",
      "Enter the value of x3:  6\n",
      "Enter the value of x4:  8\n"
     ]
    },
    {
     "name": "stdout",
     "output_type": "stream",
     "text": [
      "Mean of four numbers: 5.0\n",
      "Variance: 5.0\n",
      "Standard Deviation: 2.23606797749979\n",
      "Regression result: 24.645000000000003\n",
      "sum_of_four_numbers : 20\n"
     ]
    }
   ],
   "source": [
    "import math\n",
    "\n",
    "# User input\n",
    "x1 = int(input(\"Enter the value of x1: \"))\n",
    "x2 = int(input(\"Enter the value of x2: \"))\n",
    "x3 = int(input(\"Enter the value of x3: \"))\n",
    "x4 = int(input(\"Enter the value of x4: \"))\n",
    "\n",
    "def strd(x1, x2, x3, x4):\n",
    "    m = 1.23\n",
    "    b = 0.045\n",
    "    \n",
    "    # Square of Sum\n",
    "    result1 = (x1 + x2) ** 2\n",
    "    \n",
    "    # Cube of Sum\n",
    "    result2 = (x3 + x4) ** 3\n",
    "    \n",
    "    # Mean value\n",
    "    mean = (x1 + x2 + x3 + x4) / 4\n",
    "    \n",
    "    # Variance calculation\n",
    "    variance = ((x1 - mean) ** 2 + (x2 - mean) ** 2 + (x3 - mean) ** 2 + (x4 - mean) ** 2) / 4\n",
    "    \n",
    "    # Standard Deviation calculation\n",
    "    standard_deviation = math.sqrt(variance)\n",
    "    \n",
    "    # Regression calculation\n",
    "    regression = m * (x1 + x2 + x3 + x4) + b\n",
    "    \n",
    "    # sum of four numbers\n",
    "    sum_of_four_numbers = (x1 + x2 + x3 + x4)\n",
    "    \n",
    "    return mean, variance, standard_deviation, regression, sum_of_four_numbers\n",
    "\n",
    "# Calculate results\n",
    "mean, variance, standard_deviation, regression, sum_of_four_numbers= strd(x1, x2, x3, x4)\n",
    "\n",
    "# Print results\n",
    "print(f\"Mean of four numbers: {mean}\")\n",
    "print(f\"Variance: {variance}\")\n",
    "print(f\"Standard Deviation: {standard_deviation}\")\n",
    "print(f\"Regression result: {regression}\")\n",
    "print(f\"sum_of_four_numbers : {sum_of_four_numbers}\")\n"
   ]
  },
  {
   "cell_type": "markdown",
   "id": "c09667ed-d5cc-4db9-814f-82134531a60c",
   "metadata": {},
   "source": [
    "####  5.Take the distance in km Show that in cm, meters, in milli meters, cents, feets, yards"
   ]
  },
  {
   "cell_type": "code",
   "execution_count": 22,
   "id": "3c10c155-4c33-4aa4-a729-34116365f6c1",
   "metadata": {},
   "outputs": [
    {
     "name": "stdin",
     "output_type": "stream",
     "text": [
      "Enter distance in km:  122\n"
     ]
    },
    {
     "name": "stdout",
     "output_type": "stream",
     "text": [
      "Distance: 122 kilometers\n",
      "  Meters: 122000 m\n",
      "  Centimeters: 12200000 cm\n",
      "  Millimeters: 122000000 mm\n",
      "  Feet: 400262.48000000004 ft\n",
      "  Yards: 133420.41999999998 yd\n",
      "  Square Feet: 160210036440.00 sq ft\n",
      "  Cents: 367825411.98 cent\n"
     ]
    }
   ],
   "source": [
    "km = int(input(\"Enter distance in km: \"))\n",
    "def distance(km):\n",
    "    # Conversions\n",
    "    meters = km * 1000\n",
    "    centimeters = km * 100000\n",
    "    millimeters = km * 1000000\n",
    "    feet = km * 3280.84\n",
    "    yards = km * 1093.61\n",
    "    # Convert km to square feet (assuming 1 km² = 10,763,910 square feet)\n",
    "    square_feet = (km ** 2) * 10763910\n",
    "    cents = square_feet / 435.56\n",
    "    return meters, centimeters, millimeters, feet, yards,square_feet,cents\n",
    "meters, centimeters, millimeters, feet, yards,square_feet,cents = distance(km)\n",
    "print(f\"Distance: {km} kilometers\")\n",
    "print(f\"  Meters: {meters} m\")\n",
    "print(f\"  Centimeters: {centimeters} cm\")\n",
    "print(f\"  Millimeters: {millimeters} mm\")\n",
    "print(f\"  Feet: {feet} ft\")\n",
    "print(f\"  Yards: {yards} yd\")\n",
    "print(f\"  Square Feet: {square_feet:.2f} sq ft\")\n",
    "print(f\"  Cents: {cents:.2f} cent\")\n"
   ]
  },
  {
   "cell_type": "markdown",
   "id": "c47f8bd9-e52b-433d-99e9-8487bee9588c",
   "metadata": {},
   "source": [
    "#### 6.Take the size of your hard disk in GB Show that in MB, KB, TB, PB"
   ]
  },
  {
   "cell_type": "code",
   "execution_count": 29,
   "id": "69641dca-b8d3-42ab-9d32-b2e41ba38adc",
   "metadata": {},
   "outputs": [
    {
     "name": "stdin",
     "output_type": "stream",
     "text": [
      "Enter size of the disk : 54\n"
     ]
    },
    {
     "name": "stdout",
     "output_type": "stream",
     "text": [
      "Size: 54 GB\n",
      "  Megabytes: 55296 MB\n",
      "  Kilobytes: 56623104 KB\n",
      "  Terabytes: 0.052734375 TB\n",
      "  Petabytes: 5.14984130859375e-05 PB\n"
     ]
    }
   ],
   "source": [
    "size_gb = int(input(\"Enter size of the disk :\"))\n",
    "def strg(size_gb):\n",
    "    mb = size_gb * 1024\n",
    "    kb = size_gb * 1024 * 1024\n",
    "    tb = size_gb / 1024\n",
    "    pb = size_gb / (1024 * 1024)\n",
    "    return mb,kb,tb,pb\n",
    "\n",
    "\n",
    "mb,kb,tb,pb = strg(size_gb)\n",
    "# Print the results\n",
    "print(f\"Size: {size_gb} GB\")\n",
    "print(f\"  Megabytes: {mb} MB\")\n",
    "print(f\"  Kilobytes: {kb} KB\")\n",
    "print(f\"  Terabytes: {tb} TB\")\n",
    "print(f\"  Petabytes: {pb} PB\")\n"
   ]
  },
  {
   "cell_type": "markdown",
   "id": "b72a8c85-399e-43b1-bacd-a3569c773eb3",
   "metadata": {},
   "source": [
    "####    7.  Take name, age, height from the user and print like below\n",
    "***The details of the person: Name:name of the person, Age:age of the person, Height:height of the person\n",
    "Note: make sure that no space between : and a value and should be space after “COMA”***"
   ]
  },
  {
   "cell_type": "code",
   "execution_count": 28,
   "id": "5c5d49ef-f496-4067-92a4-2a533b7722f4",
   "metadata": {},
   "outputs": [
    {
     "name": "stdin",
     "output_type": "stream",
     "text": [
      "Enter your name:  naresh\n",
      "Enter your age:  25\n",
      "Enter your height (in cm):  176\n"
     ]
    },
    {
     "name": "stdout",
     "output_type": "stream",
     "text": [
      "The details of the person: Name:naresh, Age:25, Height:176\n"
     ]
    }
   ],
   "source": [
    "name = input(\"Enter your name: \")\n",
    "age = input(\"Enter your age: \")\n",
    "height = input(\"Enter your height (in cm): \")\n",
    "\n",
    "def details(name,age,height):\n",
    "    return name,age,height\n",
    "\n",
    "name,age,height = details(name,age,height)\n",
    "# Print the details in the specified format\n",
    "print(f\"The details of the person: Name:{name}, Age:{age}, Height:{height}\")\n"
   ]
  },
  {
   "cell_type": "markdown",
   "id": "cde366f3-a667-4380-8a67-181c7092db1e",
   "metadata": {},
   "source": [
    "#### 8. BMI calculation: take required parameters for BMI calculation from the user and calculate BMI of the person."
   ]
  },
  {
   "cell_type": "code",
   "execution_count": 32,
   "id": "f4d0a1ff-af65-44b9-9c79-8552ace8792e",
   "metadata": {},
   "outputs": [
    {
     "name": "stdin",
     "output_type": "stream",
     "text": [
      "Enter your weight in kilograms:  54\n",
      "Enter your height in meters:  1.2\n"
     ]
    },
    {
     "name": "stdout",
     "output_type": "stream",
     "text": [
      "Your BMI is: 37.5\n"
     ]
    }
   ],
   "source": [
    "weight_kg = float(input(\"Enter your weight in kilograms: \"))\n",
    "height_m = float(input(\"Enter your height in meters: \"))\n",
    "def bmi_cal(weight_kg,height_m):\n",
    "    bmi = weight_kg / (height_m ** 2)\n",
    "    return bmi\n",
    "\n",
    "bmi = bmi_cal(weight_kg,height_m)\n",
    "print(\"Your BMI is:\", bmi)"
   ]
  },
  {
   "cell_type": "markdown",
   "id": "ef30149a-abef-4888-a3c0-9524a9694fd6",
   "metadata": {},
   "source": [
    "### 9.Problem Statement\n",
    "\n",
    "Given the following inputs:\n",
    "\n",
    "- **Name**: \"Jayaram\"\n",
    "- **Age**: 1.6\n",
    "- **Height**: 3.5356234\n",
    "- **Weight**: 10.343856783\n",
    "\n",
    "Print the output in the format:\n",
    "\n"
   ]
  },
  {
   "cell_type": "code",
   "execution_count": 35,
   "id": "83155162-7187-40d2-b616-69be842b3fef",
   "metadata": {},
   "outputs": [
    {
     "name": "stdout",
     "output_type": "stream",
     "text": [
      "Name: Jayaram, Age: 1.6, Height: 3.54, Weight: 10.344\n"
     ]
    }
   ],
   "source": [
    "name = \"Jayaram\"\n",
    "age = 1.6\n",
    "height = 3.5356234\n",
    "weight = 10.343856783\n",
    "def fun(name,age,height,weight):\n",
    "    print(\"Name: %s, Age: %.1f, Height: %.2f, Weight: %.3f\" % (name, age, height, weight))\n",
    "call = fun(name,age,height,weight)\n",
    "\n"
   ]
  },
  {
   "cell_type": "markdown",
   "id": "501aeeae-70cf-47b4-84c1-a3f0bf810652",
   "metadata": {},
   "source": [
    "#### 10. Take three upper case letters from the user convert in to small case."
   ]
  },
  {
   "cell_type": "code",
   "execution_count": 38,
   "id": "1766c17d-09e3-4e3a-9a08-2be1d83cc12c",
   "metadata": {},
   "outputs": [
    {
     "name": "stdin",
     "output_type": "stream",
     "text": [
      "Enter the first uppercase letter:  A\n",
      "Enter the second uppercase letter:  D\n",
      "Enter the third uppercase letter:  E\n"
     ]
    },
    {
     "name": "stdout",
     "output_type": "stream",
     "text": [
      "Lowercase letters: a, d, e\n"
     ]
    }
   ],
   "source": [
    "letter1 = input(\"Enter the first uppercase letter: \")\n",
    "letter2 = input(\"Enter the second uppercase letter: \")\n",
    "letter3 = input(\"Enter the third uppercase letter: \")\n",
    "def up_low(letter1,letter2,letter3):\n",
    "    lowercase1 = chr(ord(letter1) + 32)\n",
    "    lowercase2 = chr(ord(letter2) + 32)\n",
    "    lowercase3 = chr(ord(letter3) + 32)\n",
    "    return lowercase1,lowercase2,lowercase3\n",
    "\n",
    "lowercase1,lowercase2,lowercase3 =up_low(letter1,letter2,letter3)\n",
    "print(f\"Lowercase letters: {lowercase1}, {lowercase2}, {lowercase3}\")\n"
   ]
  },
  {
   "cell_type": "markdown",
   "id": "b3a22829-dd7c-4169-a944-8856fec9fd4f",
   "metadata": {},
   "source": [
    "#### 11. take base and exponent value from the user and print like in mathematics: example: base=2, exponent=3: 23\n"
   ]
  },
  {
   "cell_type": "code",
   "execution_count": 50,
   "id": "d0a1a548-0fde-470f-a75a-4a8ad7b419f0",
   "metadata": {},
   "outputs": [
    {
     "name": "stdin",
     "output_type": "stream",
     "text": [
      "Enter the base:  8\n",
      "Enter the exponent:  8\n"
     ]
    },
    {
     "name": "stdout",
     "output_type": "stream",
     "text": [
      "8⁸\n"
     ]
    }
   ],
   "source": [
    "# Example of using Unicode characters in Python\n",
    "\n",
    "\n",
    "base = int(input(\"Enter the base: \"))\n",
    "exponent = int(input(\"Enter the exponent: \"))\n",
    "\n",
    "# Convert exponent to superscript using Unicode\n",
    "def exponent_string(base,exponent):\n",
    "    superscripts = {\n",
    "        '0': '\\u2070',  # ⁰\n",
    "        '1': '\\u00b9',  # ¹\n",
    "        '2': '\\u00b2',  # ²\n",
    "        '3': '\\u00b3',  # ³\n",
    "        '4': '\\u2074',  # ⁴\n",
    "        '5': '\\u2075',  # ⁵\n",
    "        '6': '\\u2076',  # \n",
    "        '7': '\\u2077',  # ⁷\n",
    "        '8': '\\u2078',  # ⁸\n",
    "        '9': '\\u2079'   # ⁹\n",
    "        }\n",
    "    exponent_str = ''.join(superscripts[digit] for digit in str(exponent))\n",
    "    return exponent_str\n",
    "r =exponent_string(base,exponent)\n",
    "print(f\"{base}{exponent_str}\")\n",
    "\n"
   ]
  },
  {
   "cell_type": "markdown",
   "id": "41f80d5f-71c9-4481-a948-05ce26dc5888",
   "metadata": {},
   "source": [
    "####  12. Take some groceries cost prices and print total cost and average cost, what is the max cost, what is the minimum cost."
   ]
  },
  {
   "cell_type": "code",
   "execution_count": 57,
   "id": "3e10bdbf-8aae-4063-9198-7422f277436a",
   "metadata": {},
   "outputs": [
    {
     "name": "stdout",
     "output_type": "stream",
     "text": [
      " Total cost for groceries: 325.90\n",
      " Average cost for groceries: 81.48\n",
      " Maximum cost for groceries: 200\n",
      " Minimum cost for groceries: 35\n"
     ]
    }
   ],
   "source": [
    "#costs = input(\"Enter the cost prices of groceries (comma-separated): \")\n",
    "def grs():\n",
    "    groceries = [35,45.3,200,45.6]\n",
    "    total = sum(groceries)\n",
    "    avg_cost = total/len(groceries)\n",
    "    max_cost = max(groceries)\n",
    "    min_cost = min(groceries)\n",
    "    print(f\" Total cost for groceries: {total:.2f}\")\n",
    "    print(f\" Average cost for groceries: {avg_cost:.2f}\")\n",
    "    print(f\" Maximum cost for groceries: {max_cost}\")\n",
    "    print(f\" Minimum cost for groceries: {min_cost}\") \n",
    "d =grs()\n"
   ]
  },
  {
   "cell_type": "markdown",
   "id": "a5cebcb7-d128-4d27-8190-9b4bd740f94c",
   "metadata": {},
   "source": [
    "# Variable Assignments :"
   ]
  },
  {
   "cell_type": "markdown",
   "id": "ad8941c9-b063-48d4-a752-43c8e6c74482",
   "metadata": {},
   "source": [
    "#### 13. Assign “ten” value to variable it is 10 otherwise assign “Not ten” \n",
    "    Note: write two versions of program\n",
    "\tVersion1: use and operator\n",
    "\tVersion2: use or operator ```"
   ]
  },
  {
   "cell_type": "code",
   "execution_count": 58,
   "id": "4821ac9a-6f85-4399-b1c4-128da9c7262c",
   "metadata": {},
   "outputs": [
    {
     "name": "stdout",
     "output_type": "stream",
     "text": [
      "Not ten\n"
     ]
    }
   ],
   "source": [
    "def using_and():\n",
    "    # using AND operator\n",
    "    number = 10\n",
    "\n",
    "    if number == 10 and number != 10:\n",
    "        result = \"ten\"\n",
    "    else:\n",
    "        result = \"Not ten\"\n",
    "\n",
    "    print(result)\n",
    "df=using_and()"
   ]
  },
  {
   "cell_type": "code",
   "execution_count": 59,
   "id": "6ece3915-308d-4587-9bb3-60f824276d29",
   "metadata": {},
   "outputs": [
    {
     "name": "stdout",
     "output_type": "stream",
     "text": [
      "ten\n"
     ]
    }
   ],
   "source": [
    "def using_or():\n",
    "    # using AND operator\n",
    "    number = 10\n",
    "\n",
    "    if number == 10 or number != 10:\n",
    "        result = \"ten\"\n",
    "    else:\n",
    "        result = \"Not ten\"\n",
    "\n",
    "    print(result)\n",
    "df=using_or()"
   ]
  },
  {
   "cell_type": "markdown",
   "id": "8f4bb8f4-2b0d-4f41-a73a-1676cd8e739c",
   "metadata": {},
   "source": [
    "# Conditional statements"
   ]
  },
  {
   "cell_type": "markdown",
   "id": "7bbfa67a-6ed1-4964-ba5a-dd9f417ad88f",
   "metadata": {},
   "source": [
    "#### 14. Take the input from the user for(Total number of people, total number of buses, Number of seats for bus, adjust factor). Based on four input Decide whether there is sufficient buses or not and give solution for how many extra buses required."
   ]
  },
  {
   "cell_type": "code",
   "execution_count": 65,
   "id": "039bb7aa-f66f-4a2e-997e-c43564eef4d6",
   "metadata": {},
   "outputs": [
    {
     "name": "stdin",
     "output_type": "stream",
     "text": [
      "How many people are there?  547\n",
      "How many buses are there?  85\n",
      "How many seats are there in each bus?  8\n",
      "Enter the adjust factor (e.g., 0.8 for 20% spacing):  0.3\n"
     ]
    },
    {
     "name": "stdout",
     "output_type": "stream",
     "text": [
      "There are not enough buses. You need 143 more bus(es).\n"
     ]
    }
   ],
   "source": [
    "# Get user input\n",
    "people = int(input(\"How many people are there? \"))\n",
    "buses = int(input(\"How many buses are there? \"))\n",
    "seats = int(input(\"How many seats are there in each bus? \"))\n",
    "adjust = float(input(\"Enter the adjust factor (e.g., 0.8 for 20% spacing): \"))\n",
    "\n",
    "def e_buses(people, buses, seats, adjust):\n",
    "    total_capacity = buses * seats * adjust\n",
    "    # Calculate the required number of buses\n",
    "    required_buses = people / (seats * adjust)\n",
    "    \n",
    "    # Round up to the nearest whole bus\n",
    "    required_buses = int(required_buses) if required_buses.is_integer() else int(required_buses) + 1\n",
    "    \n",
    "    extra_buses = required_buses - buses\n",
    "    \n",
    "    if extra_buses > 0:\n",
    "        print(f\"There are not enough buses. You need {extra_buses} more bus(es).\")\n",
    "    elif extra_buses == 0:\n",
    "        print(\"There are sufficient buses.\")\n",
    "    else:\n",
    "        print(\"There are extra buses available.\")\n",
    "\n",
    "# Call the function\n",
    "e_buses(people, buses, seats, adjust)\n"
   ]
  },
  {
   "cell_type": "markdown",
   "id": "884a3e0d-2484-446d-be89-fc33cc8144be",
   "metadata": {},
   "source": [
    "#### 14.Take number from the user decide whether it is even or odd."
   ]
  },
  {
   "cell_type": "code",
   "execution_count": 71,
   "id": "01584747-f0fb-4cfb-8fae-511888911a13",
   "metadata": {},
   "outputs": [
    {
     "name": "stdin",
     "output_type": "stream",
     "text": [
      "Enter any number :  5\n"
     ]
    },
    {
     "name": "stdout",
     "output_type": "stream",
     "text": [
      "the number is odd \n"
     ]
    }
   ],
   "source": [
    "user_input= int(input(\"Enter any number : \"))\n",
    "def ev_od(user_input):\n",
    "    if user_input % 2 == 0 :\n",
    "        return \"the number is even\"\n",
    "    else :\n",
    "        return \"the number is odd \"\n",
    "f_cl = ev_od(user_input)\n",
    "print(f_cl)"
   ]
  },
  {
   "cell_type": "markdown",
   "id": "304a7e20-55e5-45b5-83b2-ace7013c5f9d",
   "metadata": {},
   "source": [
    "#### 15.take number from the user decide whether it is positive number or negative number"
   ]
  },
  {
   "cell_type": "code",
   "execution_count": 73,
   "id": "551a48c0-62d6-4568-9952-7ab56b8d925f",
   "metadata": {},
   "outputs": [
    {
     "name": "stdin",
     "output_type": "stream",
     "text": [
      "Enter any number :  -75\n"
     ]
    },
    {
     "name": "stdout",
     "output_type": "stream",
     "text": [
      "the number is neitive \n"
     ]
    }
   ],
   "source": [
    "user_input= int(input(\"Enter any number : \"))\n",
    "def ev_od(user_input):\n",
    "    if user_input >= 0 :\n",
    "        return \"the number is positive\"\n",
    "    else :\n",
    "        return \"the number is neitive \"\n",
    "f_cl = ev_od(user_input)\n",
    "print(f_cl)"
   ]
  },
  {
   "cell_type": "markdown",
   "id": "80d7e0ca-1c0b-4d9f-b338-cd29409271b0",
   "metadata": {},
   "source": [
    "#### 16.take a string from the user print the length. if the user not given anything then show an error message"
   ]
  },
  {
   "cell_type": "code",
   "execution_count": 5,
   "id": "eb842cc6-573b-4335-9495-f21f07c7b8dd",
   "metadata": {},
   "outputs": [
    {
     "name": "stdin",
     "output_type": "stream",
     "text": [
      "Enter anything:  enjr\n"
     ]
    },
    {
     "name": "stdout",
     "output_type": "stream",
     "text": [
      "value is : 4\n"
     ]
    }
   ],
   "source": [
    "value = input('Enter anything: ')\n",
    "def data(value):\n",
    "    len_str = len(value)\n",
    "    if len_str > 0:\n",
    "        return f\"value is : {len_str}\"\n",
    "    else:\n",
    "        print(\"enter a valid input\")\n",
    "res=data(value)\n",
    "print(res)"
   ]
  },
  {
   "cell_type": "markdown",
   "id": "90a7771f-122f-4137-b998-e946db39e974",
   "metadata": {},
   "source": [
    "#### 17.code to perform mathematical operations. take two numbers from the user and show the below menu\n",
    "\t1. add,\n",
    "\t2. sub,\t\n",
    "\t3. mul,\n",
    " \t4.div, \n",
    "\t5.quit\n",
    "\tEnter an option:\n",
    "\tbased on the option need to perform an operations"
   ]
  },
  {
   "cell_type": "code",
   "execution_count": 17,
   "id": "03bbf7de-2a57-4560-80e5-fb3c91166bf2",
   "metadata": {},
   "outputs": [
    {
     "name": "stdin",
     "output_type": "stream",
     "text": [
      "Enter any number 1 :  54\n",
      "Enter any number 2 :  96\n"
     ]
    },
    {
     "name": "stdout",
     "output_type": "stream",
     "text": [
      "1. add\n",
      "2. sub\n",
      "3. mul\n",
      "4.div\n",
      "5.quit\n"
     ]
    },
    {
     "name": "stdin",
     "output_type": "stream",
     "text": [
      "Enter an option :  5\n"
     ]
    },
    {
     "name": "stdout",
     "output_type": "stream",
     "text": [
      "THANK YOU ...\n"
     ]
    }
   ],
   "source": [
    "user_input1= int(input(\"Enter any number 1 : \"))\n",
    "user_input2= int(input(\"Enter any number 2 : \"))\n",
    "print('1. add\\n2. sub\\n3. mul\\n4.div\\n5.quit')\n",
    "    \n",
    "#Enter an option:\n",
    "def maths(user_input1,user_input2):\n",
    "    user_input3= input(\"Enter an option : \")\n",
    "    if user_input3 == '1':\n",
    "        add = user_input1+user_input2\n",
    "        return add\n",
    "    elif user_input3 == '2':\n",
    "        sub = user_input1-user_input2\n",
    "        return sub\n",
    "    elif user_input3 == '3':\n",
    "        mul = user_input1*user_input2\n",
    "        return mul\n",
    "    elif user_input3 == '4':\n",
    "        div = user_input1/user_input2\n",
    "        return div\n",
    "    elif user_input3 == '5':\n",
    "        return \"THANK YOU ...\"\n",
    "        \n",
    "    \n",
    "    else :\n",
    "        return \"Please Enter a Valid number \"\n",
    "\n",
    "call = maths(user_input1,user_input2)\n",
    "print(call)\n",
    "    "
   ]
  },
  {
   "cell_type": "markdown",
   "id": "e079b26b-b024-45c1-804f-7e12760127d8",
   "metadata": {},
   "source": [
    "#### 18. show the menu:\n",
    "   \t\t 1. kids\n",
    "        \t2. Men's\n",
    "   \t\t 3. Women's\n",
    "    \t\tShow the corresponding message based on the selection.\n",
    "\t\tOption:1: you are a kid\n",
    "               2: you are a gentlemen\n",
    "               3: you are a good women"
   ]
  },
  {
   "cell_type": "code",
   "execution_count": 23,
   "id": "49668d1a-547b-48db-b61b-7471672107b8",
   "metadata": {},
   "outputs": [
    {
     "name": "stdout",
     "output_type": "stream",
     "text": [
      "1. kids\n",
      "2. Men's\n",
      "3. Women's\n"
     ]
    },
    {
     "name": "stdin",
     "output_type": "stream",
     "text": [
      "choose one :  5\n"
     ]
    },
    {
     "name": "stdout",
     "output_type": "stream",
     "text": [
      "Please Enter a Valid number \n"
     ]
    }
   ],
   "source": [
    "def menu():\n",
    "    print(\"1. kids\\n2. Men's\\n3. Women's\")\n",
    "    inp = input(\"choose one : \")\n",
    "    if inp == '1':\n",
    "        return \" you are a kid\"\n",
    "    elif inp == '2':\n",
    "        return \" you are a gentlemen\"\n",
    "    elif inp == '3':\n",
    "        return \" you are a good women\"\n",
    "    else :\n",
    "        return \"Please Enter a Valid number \"\n",
    "        \n",
    "        \n",
    "res = menu()\n",
    "print(res)"
   ]
  },
  {
   "cell_type": "markdown",
   "id": "354f4d90-c230-4141-a26c-f76d051ad4a9",
   "metadata": {},
   "source": [
    "#### 19. write a program to chcek given substring is there in actual string or not?\n",
    "***example: act=\"python is a pure object oriented programing language\"***\n",
    "- check whether “pure” is there in act or not.\n",
    "- Note: Use in operator"
   ]
  },
  {
   "cell_type": "code",
   "execution_count": 27,
   "id": "2555fd80-de47-44a4-a60e-31858aa9cefc",
   "metadata": {},
   "outputs": [
    {
     "name": "stdout",
     "output_type": "stream",
     "text": [
      "string is there in the given i/p \n"
     ]
    }
   ],
   "source": [
    "act=\"python is a pure   object oriented programing language\"\n",
    "def str_chck(act):\n",
    "    if \"pure\" in act:\n",
    "        print(\"string is there in the given i/p \")\n",
    "    else :\n",
    "        print(\"it is not there\")\n",
    "res =str_chck(act)\n",
    "    "
   ]
  },
  {
   "cell_type": "markdown",
   "id": "d6447014-6dac-48b6-a2b6-76ea2448fbbd",
   "metadata": {},
   "source": [
    "#### 20. Take three numbers from the user and decide which is big"
   ]
  },
  {
   "cell_type": "code",
   "execution_count": 30,
   "id": "b0b23d66-8ccf-4f99-b2f8-b6299bcba53e",
   "metadata": {},
   "outputs": [
    {
     "name": "stdin",
     "output_type": "stream",
     "text": [
      "Enter the  number:  78\n",
      "Enter the  number:  5\n",
      "Enter the  number:  6\n"
     ]
    },
    {
     "name": "stdout",
     "output_type": "stream",
     "text": [
      "78\n"
     ]
    }
   ],
   "source": [
    "def big():\n",
    "    num = 0\n",
    "    for i in range(3):\n",
    "        num1 = float(input(\"Enter the  number: \"))\n",
    "        if num1 > num:\n",
    "            num = int(num1)\n",
    "    return num\n",
    "res = big()\n",
    "print(res)\n",
    "            "
   ]
  },
  {
   "cell_type": "markdown",
   "id": "0024988f-b81f-4f0f-b8fa-71868a025fbb",
   "metadata": {},
   "source": [
    " #### 21. Take age and gender from the user and decide whether he is eligible for \tmarriage in India or not.\n",
    "- Age criteria: men age>24, women>21"
   ]
  },
  {
   "cell_type": "code",
   "execution_count": 45,
   "id": "6004704c-613c-4552-b884-53fa26dbe5e4",
   "metadata": {},
   "outputs": [
    {
     "name": "stdout",
     "output_type": "stream",
     "text": [
      "coose one option \n",
      "1.men\n",
      "2.women\n"
     ]
    },
    {
     "name": "stdin",
     "output_type": "stream",
     "text": [
      "plese enter :  5\n",
      "enter age :  7\n"
     ]
    },
    {
     "name": "stdout",
     "output_type": "stream",
     "text": [
      "as per indian eligibility you are age is not enough to mariege \n"
     ]
    }
   ],
   "source": [
    "def mrg_eligibility():\n",
    "    print(\"coose one option \\n1.men\\n2.women\")\n",
    "    gender =  input(\"plese enter : \")\n",
    "    age =  input(\"enter age : \")\n",
    "    age=float(age)\n",
    "    if gender == '1'  and age > 24:\n",
    "        return \" hey boy you are eligible for marriege \"\n",
    "    if gender == '2'  and age >21:\n",
    "        return \" hey girl you are eligible for marriege \"\n",
    "    else :\n",
    "        return \"as per indian eligibility you are age is not enough to mariege \"\n",
    "\n",
    "the = mrg_eligibility()\n",
    "print(the)\n"
   ]
  },
  {
   "cell_type": "markdown",
   "id": "e01b1c54-089f-4700-aed3-4b501ae03c48",
   "metadata": {},
   "source": [
    "### Question 22: Activities Based on Age and Gender\n",
    "\n",
    "Write a Python program to determine what a person can do in India based on their age and gender. The program should:\n",
    "\n",
    "1. **Prompt the user to select their gender:**\n",
    "    - 1. Men\n",
    "    - 2. Women\n",
    "\n",
    "2. **Take the selected option and the age of the user as input.**\n",
    "\n",
    "3. **Check the following conditions and print what the user can do based on the criteria:**\n",
    "\n",
    "    - **Theatre:** \n",
    "        - Men: Age must be 5 or older.\n",
    "        - Women: Age must be 7 or older.\n",
    "\n",
    "    - **Voting System:** \n",
    "        - Both men and women must be 18 or older.\n",
    "\n",
    "    - **Marriage in India:** \n",
    "        - Men: Age must be 23 or older.\n",
    "        - Women: Age must be 21 or older.\n",
    "\n",
    "    - **Government Jobs:**\n",
    "        - Men: Age must be between 18 and 32.\n",
    "        - Women: Age must be between 18 and 34.\n",
    "\n",
    "    - **Driving License:**\n",
    "        - Both men and women must be between 18 and 60 years old.\n",
    "\n",
    "**Eligibility to be checked:**\n",
    "\n",
    "1. Theatre\n",
    "2. Voting System\n",
    "3. Marriage in India\n",
    "4. Government Jobs\n",
    "5. Driving License\n",
    "\n"
   ]
  },
  {
   "cell_type": "code",
   "execution_count": 56,
   "id": "763e23cc-5845-480d-ac01-a06fb90a8c86",
   "metadata": {},
   "outputs": [
    {
     "name": "stdout",
     "output_type": "stream",
     "text": [
      "1. Men\n",
      "2.Women\n"
     ]
    },
    {
     "name": "stdin",
     "output_type": "stream",
     "text": [
      "Ente a your option  :  1\n",
      "enter your age :  4\n"
     ]
    },
    {
     "name": "stdout",
     "output_type": "stream",
     "text": [
      "you are pilla bacha \n"
     ]
    }
   ],
   "source": [
    "def func():\n",
    "    print(\"1. Men\\n2.Women\")\n",
    "    gender = input(\"Ente a your option  : \")\n",
    "    age = float(input(\"enter your age : \"))\n",
    "    if ( age > 5 and gender =='1') or (age > 7 and gender =='2'):\n",
    "        print(\"you are eligible for thater\")\n",
    "        if age > 18:\n",
    "            print(\"you are eligible for voting\")\n",
    "            if 60 >age >18 :\n",
    "                print(\"you are eligible for driving licence \")\n",
    "                \n",
    "    if ( age > 23 and gender =='1') or (age > 21 and gender =='2'):\n",
    "        print(\"you are eligible for marriege\")\n",
    "        if ( (18< age <32) and gender =='1') or ((18< age <34) and gender =='2'):\n",
    "            print(\"you are eligible for Government Jobs\")\n",
    "    else :\n",
    "        print(\"you are pilla bacha \")\n",
    "res = func()"
   ]
  },
  {
   "cell_type": "markdown",
   "id": "3aca8c12-2b39-4ebf-9372-e6de121d76bf",
   "metadata": {},
   "source": [
    "### Question 23: Operating Systems Selection\n",
    "\n",
    "Write a Python program to display a message based on the user's choice of operating system. The program should:\n",
    "\n",
    "1. **Prompt the user to select an operating system:**\n",
    "    - 1. Windows\n",
    "    - 2. Android\n",
    "    - 3. Mac\n",
    "\n",
    "2. **Display the corresponding message based on the user's choice:**\n",
    "    - If the user enters `1`, show: \"Go to the first floor and buy a Windows laptop or mobile.\"\n",
    "    - If the user enters `2`, show: \"Go to the second floor and buy Android mobiles.\"\n",
    "    - If the user enters `3`, show: \"Go to the third floor and buy a Mac laptop or iPhones.\"\n",
    "    - If the user enters any other number, show: \"There are only three floors. Please select 1, 2, or 3.\"\n",
    "\n",
    "\n",
    "\n"
   ]
  },
  {
   "cell_type": "code",
   "execution_count": 8,
   "id": "0158bf96-ce3f-463f-876d-d4efa7be69af",
   "metadata": {},
   "outputs": [
    {
     "name": "stdout",
     "output_type": "stream",
     "text": [
      "choose a option\n",
      "1.windows\n",
      "2.android\n",
      "3.mac\n"
     ]
    },
    {
     "name": "stdin",
     "output_type": "stream",
     "text": [
      "enter your option| 45\n"
     ]
    },
    {
     "name": "stdout",
     "output_type": "stream",
     "text": [
      "There are only three floors. Please select 1, 2, or 3\n"
     ]
    }
   ],
   "source": [
    "def func():\n",
    "    print(\"choose a option\\n1.windows\\n2.android\\n3.mac\")\n",
    "    opt = input(\"enter your option|\")\n",
    "    if opt == '1':\n",
    "        print(\"Go to the first floor and buy a Windows laptop or mobile.\")\n",
    "    elif opt == '2':\n",
    "        print(\"Go to the second floor and buy Android mobiles.\")\n",
    "    elif opt == '3':\n",
    "        print(\"Go to the third floor and buy a Mac laptop or iPhones\")\n",
    "    else :\n",
    "        print(\"There are only three floors. Please select 1, 2, or 3\")\n",
    "         \n",
    "res =func()\n"
   ]
  },
  {
   "cell_type": "markdown",
   "id": "93f80d80-a14e-4b97-b9e7-0fb0d1093a1c",
   "metadata": {},
   "source": [
    "#### 24.Given an age, figure out whether someone's a baby, toddler, child, teenager, adult or old codger."
   ]
  },
  {
   "cell_type": "code",
   "execution_count": 11,
   "id": "f73cce45-3a1a-4b4d-981b-ec707ea02d2c",
   "metadata": {},
   "outputs": [
    {
     "name": "stdin",
     "output_type": "stream",
     "text": [
      "Enter the age:  45\n"
     ]
    },
    {
     "name": "stdout",
     "output_type": "stream",
     "text": [
      "You are an adult.\n"
     ]
    }
   ],
   "source": [
    "def func():\n",
    "    age = int(input(\"Enter the age: \"))\n",
    "    if age <= 2:\n",
    "        print(\"You are a baby.\")\n",
    "    elif 3 <= age <= 5:\n",
    "        print(\"You are a toddler.\")\n",
    "    elif 6 <= age <= 12:\n",
    "        print(\"You are a child.\")\n",
    "    elif 13 <= age <= 19:\n",
    "        print(\"You are a teenager.\")\n",
    "    elif 20 <= age <= 64:\n",
    "        print(\"You are an adult.\")\n",
    "    else:\n",
    "        print(\"You are an old codger.\")\n",
    "    \n",
    "\n",
    "res = func() "
   ]
  },
  {
   "cell_type": "markdown",
   "id": "34339854-d8f7-4afc-8f71-0b5ff489386e",
   "metadata": {},
   "source": [
    "#### 25.Take two number a,b from the user and check whether a is divisible by b or not"
   ]
  },
  {
   "cell_type": "code",
   "execution_count": 14,
   "id": "4b94d172-3838-4ee0-b1f1-c7d1d4c43798",
   "metadata": {},
   "outputs": [
    {
     "name": "stdin",
     "output_type": "stream",
     "text": [
      "enter a value : 15\n",
      "enter b value : 41\n"
     ]
    },
    {
     "name": "stdout",
     "output_type": "stream",
     "text": [
      "a is not greate then b\n"
     ]
    }
   ],
   "source": [
    "def func():\n",
    "    ip_1=int(input(\"enter a value :\"))\n",
    "    ip_2=int(input(\"enter b value :\"))\n",
    "    if ip_1 > ip_2:\n",
    "        print(\"a is greater than b\")\n",
    "    else :\n",
    "        print(\"a is not greate then b\")\n",
    "res = func()"
   ]
  },
  {
   "cell_type": "markdown",
   "id": "3e9f2bf2-6de7-40ba-a13f-bd6d8cebabdb",
   "metadata": {},
   "source": [
    "#### 26. Take a letter from the user and print that letter belongs to which category I.e is it a small letter or capital letter or number or special symbol"
   ]
  },
  {
   "cell_type": "code",
   "execution_count": 15,
   "id": "fcd1bb7b-a088-4cf6-87f0-9ab66f90297b",
   "metadata": {},
   "outputs": [
    {
     "name": "stdin",
     "output_type": "stream",
     "text": [
      "Enter a letter:  A\n"
     ]
    },
    {
     "name": "stdout",
     "output_type": "stream",
     "text": [
      "The letter is a capital letter.\n"
     ]
    }
   ],
   "source": [
    "def func():\n",
    "    letter = input(\"Enter a letter: \")\n",
    "    \n",
    "    if len(letter) != 1:\n",
    "        print(\"Please enter exactly one character.\")\n",
    "    else:\n",
    "        if 'a' <= letter <= 'z':\n",
    "            print(\"The letter is a small letter.\")\n",
    "        elif 'A' <= letter <= 'Z':\n",
    "            print(\"The letter is a capital letter.\")\n",
    "        elif '0' <= letter <= '9':\n",
    "            print(\"The letter is a number.\")\n",
    "        else:\n",
    "            print(\"The letter is a special symbol.\")\n",
    "res = func()"
   ]
  },
  {
   "cell_type": "markdown",
   "id": "f67b14a2-1241-459d-b864-95cae84296e1",
   "metadata": {},
   "source": [
    "#### 27. take a number from the user and check whether it is prime?"
   ]
  },
  {
   "cell_type": "code",
   "execution_count": 18,
   "id": "7ee3ee75-9221-4ae7-b7f8-b93dc3932f48",
   "metadata": {},
   "outputs": [
    {
     "name": "stdin",
     "output_type": "stream",
     "text": [
      "Enter a number:  9\n"
     ]
    },
    {
     "name": "stdout",
     "output_type": "stream",
     "text": [
      "9 is not a prime number\n"
     ]
    }
   ],
   "source": [
    "def func():\n",
    "    num= int(input(\"Enter a number: \"))\n",
    "\n",
    "    # Negative numbers, 0 and 1 are not primes\n",
    "    if num > 1:\n",
    "      \n",
    "        # Iterate from 2 to n // 2\n",
    "        for i in range(2, (num//2)+1):\n",
    "          \n",
    "            # If num is divisible by any number between\n",
    "            # 2 and n / 2, it is not prime\n",
    "            if (num % i) == 0:\n",
    "                print(num, \"is not a prime number\")\n",
    "                break\n",
    "        else:\n",
    "            print(num, \"is a prime number\")\n",
    "    else:\n",
    "        print(num, \"is not a prime number\")\n",
    "res = func()"
   ]
  },
  {
   "cell_type": "markdown",
   "id": "dfedd5c2-ca07-41cb-bde3-de754d0b187b",
   "metadata": {},
   "source": [
    "#### 28. take a string from the user and check contains only digits or not?"
   ]
  },
  {
   "cell_type": "code",
   "execution_count": 19,
   "id": "925c8fc5-f74b-4ae5-8874-ae41bca5ab7b",
   "metadata": {},
   "outputs": [
    {
     "name": "stdin",
     "output_type": "stream",
     "text": [
      "Enter a string:  54\n"
     ]
    },
    {
     "name": "stdout",
     "output_type": "stream",
     "text": [
      "The string contains only digits.\n"
     ]
    }
   ],
   "source": [
    "def func():\n",
    "    string = input(\"Enter a string: \")\n",
    "\n",
    "    for char in string:\n",
    "        if not ('0' <= char <= '9'):\n",
    "            print(\"The string contains non-digit characters.\")\n",
    "            break\n",
    "    else:\n",
    "        print(\"The string contains only digits.\")\n",
    "res = func()"
   ]
  },
  {
   "cell_type": "markdown",
   "id": "9d985983-7e54-4229-afe9-d85180b7ac6c",
   "metadata": {},
   "source": [
    "#### 29. take a string from the user and check contains only  alphabets or not?"
   ]
  },
  {
   "cell_type": "code",
   "execution_count": 20,
   "id": "a804b672-80ed-4e32-8da4-28a475bcce3d",
   "metadata": {},
   "outputs": [
    {
     "name": "stdin",
     "output_type": "stream",
     "text": [
      "Enter a string:  4kn\n"
     ]
    },
    {
     "name": "stdout",
     "output_type": "stream",
     "text": [
      "The string contains non-alphabetic characters.\n"
     ]
    }
   ],
   "source": [
    "def func():\n",
    "    string = input(\"Enter a string: \")\n",
    "\n",
    "    for char in string:\n",
    "        if not ('a' <= char <= 'z' or 'A' <= char <= 'Z'):\n",
    "            print(\"The string contains non-alphabetic characters.\")\n",
    "            break\n",
    "    else:\n",
    "        print(\"The string contains only alphabets.\")\n",
    "res = func()"
   ]
  },
  {
   "cell_type": "markdown",
   "id": "22f173b7-a1b0-4488-a681-0fab693a2c05",
   "metadata": {},
   "source": [
    "#### 30. take a string from the user and check contains only  special chars or not?"
   ]
  },
  {
   "cell_type": "code",
   "execution_count": 21,
   "id": "cacf2ad9-fffa-42ea-8272-1538ad1c2f88",
   "metadata": {},
   "outputs": [
    {
     "name": "stdin",
     "output_type": "stream",
     "text": [
      "Enter a string:  54n8sj\n"
     ]
    },
    {
     "name": "stdout",
     "output_type": "stream",
     "text": [
      "The string contains non-special characters.\n"
     ]
    }
   ],
   "source": [
    "def func():\n",
    "    string = input(\"Enter a string: \")\n",
    "\n",
    "    for char in string:\n",
    "        if ('a' <= char <= 'z') or ('A' <= char <= 'Z') or ('0' <= char <= '9'):\n",
    "            print(\"The string contains non-special characters.\")\n",
    "            break\n",
    "    else:\n",
    "        print(\"The string contains only special characters.\")\n",
    "res =func()"
   ]
  },
  {
   "cell_type": "markdown",
   "id": "a4ee3549-dec4-4bfd-81f3-f1d82cef8344",
   "metadata": {},
   "source": [
    "#### 31. take a string from the user and check contains only  capital letters or not?"
   ]
  },
  {
   "cell_type": "code",
   "execution_count": 22,
   "id": "3f7c9d48-bd0c-4a6d-9f36-fc55d9a77f73",
   "metadata": {},
   "outputs": [
    {
     "name": "stdin",
     "output_type": "stream",
     "text": [
      "Enter a string:  ghitgu23s7a \n"
     ]
    },
    {
     "name": "stdout",
     "output_type": "stream",
     "text": [
      "The string contains non-capital letters.\n"
     ]
    }
   ],
   "source": [
    "def func():\n",
    "    string = input(\"Enter a string: \")\n",
    "    \n",
    "    for char in string:\n",
    "        if not ('A' <= char <= 'Z'):\n",
    "            print(\"The string contains non-capital letters.\")\n",
    "            break\n",
    "    else:\n",
    "        print(\"The string contains capital letters.\")\n",
    "res = func()"
   ]
  },
  {
   "cell_type": "markdown",
   "id": "6604c4fc-b518-4182-983d-c933a9ec67a3",
   "metadata": {},
   "source": [
    "#### 32. .take a string from the user and check contains only  small letters or not?"
   ]
  },
  {
   "cell_type": "code",
   "execution_count": 23,
   "id": "d27af6eb-abcc-4e28-84f1-af40ab0a6472",
   "metadata": {},
   "outputs": [
    {
     "name": "stdin",
     "output_type": "stream",
     "text": [
      "Enter a string:  faksopijhnol\n"
     ]
    },
    {
     "name": "stdout",
     "output_type": "stream",
     "text": [
      "The string contains non-capital letters.\n"
     ]
    }
   ],
   "source": [
    "def func():\n",
    "    string = input(\"Enter a string: \")\n",
    "\n",
    "    for char in string:\n",
    "        if not ('A' <= char <= 'Z'):\n",
    "            print(\"The string contains non-capital letters.\")\n",
    "            break\n",
    "    else:\n",
    "        print(\"The string contains only capital letters.\")\n",
    "res = func()"
   ]
  },
  {
   "cell_type": "markdown",
   "id": "cf81a683-59d8-4d17-835b-67363c3072e4",
   "metadata": {},
   "source": [
    "#### 33. WAP to replace last n occurrence of give string.\n",
    "- For example:”apple,orange,apple,grape,orange,apple,apple,orange”\n",
    "- source: “apple”\n",
    "- last occurrences: 2\n",
    "- replace with: APPLE\n",
    "**output:”apple,orange,apple,grape,orange,APPLE,APPLE,orange”**"
   ]
  },
  {
   "cell_type": "code",
   "execution_count": 16,
   "id": "ac262fa4-e9cf-4fec-8f87-f836c24bc83d",
   "metadata": {},
   "outputs": [
    {
     "name": "stdin",
     "output_type": "stream",
     "text": [
      " 4\n"
     ]
    },
    {
     "name": "stdout",
     "output_type": "stream",
     "text": [
      "APPLE,orange,APPLE,grape,orange,APPLE,APPLE,orange\n"
     ]
    }
   ],
   "source": [
    "def func():\n",
    "    s = 'apple,orange,apple,grape,orange,apple,apple,orange'\n",
    "    source = 'apple'\n",
    "    replace_with = 'APPLE'\n",
    "    n =int(input())\n",
    "    \n",
    "    # Split the string by commas\n",
    "    str_list = s.split(\",\")\n",
    "    \n",
    "    # Reverse the list to work from the last occurrence\n",
    "    str_list.reverse()\n",
    "    \n",
    "    # Count and replace the last `n` occurrences\n",
    "    count = 0\n",
    "    for i in range(len(str_list)):\n",
    "        if str_list[i] == source and count < n:\n",
    "            str_list[i] = replace_with\n",
    "            count += 1\n",
    "    \n",
    "    # Reverse the list back to original order\n",
    "    str_list.reverse()\n",
    "    \n",
    "    # Join the list back into a string\n",
    "    return \",\".join(str_list)\n",
    "\n",
    "# Test the function\n",
    "res = func()\n",
    "print(res)\n"
   ]
  },
  {
   "cell_type": "markdown",
   "id": "18c50874-549d-42fe-bf8f-d4d9de959fb2",
   "metadata": {},
   "source": [
    "#### 34. Convert the total string in to upper case. Without using upper() function."
   ]
  },
  {
   "cell_type": "code",
   "execution_count": 29,
   "id": "beedd6d7-9e9b-4a36-8cbb-cda1089fa5cf",
   "metadata": {},
   "outputs": [
    {
     "name": "stdin",
     "output_type": "stream",
     "text": [
      "enter the string hsikjhdf\n"
     ]
    },
    {
     "name": "stdout",
     "output_type": "stream",
     "text": [
      "HSIKJHDF\n"
     ]
    }
   ],
   "source": [
    "def func():\n",
    "    str = input(\"enter the string\")\n",
    "    str1 = ''\n",
    "    for i in str:\n",
    "        #print(ord(i))\n",
    "        i = ord(i)-32\n",
    "        i = chr(i)\n",
    "        str1 = str1+i\n",
    "    return str1\n",
    "res = func()\n",
    "print(res)"
   ]
  },
  {
   "cell_type": "markdown",
   "id": "28498e7c-baad-4aa8-82eb-a8e92cc88266",
   "metadata": {},
   "source": [
    "#### 35.Problem Statement\n",
    "\n",
    "Show the following menu to the user repeatedly until the user selects \"quit\", and display the corresponding OS message.\n",
    "\n",
    "***Menu:***\n",
    " 1. Windows\n",
    " 2. Linux\n",
    " 3. Mac\n",
    " 4. Quit"
   ]
  },
  {
   "cell_type": "code",
   "execution_count": 33,
   "id": "9e9ef65c-6562-4a53-9b5d-17ce92e72fd7",
   "metadata": {},
   "outputs": [
    {
     "name": "stdout",
     "output_type": "stream",
     "text": [
      "Choose option\n",
      "1.Windows\n",
      "2.Linux\n",
      "3.Mac\n",
      "4.Quit\n"
     ]
    },
    {
     "name": "stdin",
     "output_type": "stream",
     "text": [
      "enter option :  2\n"
     ]
    },
    {
     "name": "stdout",
     "output_type": "stream",
     "text": [
      "You selected Linux.\n"
     ]
    }
   ],
   "source": [
    "def func():\n",
    "    print(\"Choose option\\n1.Windows\\n2.Linux\\n3.Mac\\n4.Quit\")\n",
    "    opt = input(\"enter option : \")\n",
    "    if opt == \"1\":\n",
    "        print(\"You selected Windows.\")\n",
    "    if opt == \"2\":\n",
    "        print(\"You selected Linux.\")\n",
    "    if opt == \"3\":\n",
    "        print(\"You selected Mac.\")\n",
    "    if opt == \"4\":\n",
    "        print(\" Thank you \")\n",
    "res = func()   "
   ]
  },
  {
   "cell_type": "markdown",
   "id": "4915d166-e82f-486a-84c1-7ef263d57277",
   "metadata": {},
   "source": [
    "#### 36. take a string from the user and check contains at least one digit or not?"
   ]
  },
  {
   "cell_type": "code",
   "execution_count": 40,
   "id": "c219fe1f-74b3-48e4-befd-91266e5e0bc0",
   "metadata": {},
   "outputs": [
    {
     "name": "stdin",
     "output_type": "stream",
     "text": [
      "Enter string:  jdkjshjh8763\n"
     ]
    },
    {
     "name": "stdout",
     "output_type": "stream",
     "text": [
      "string has  one digit\n"
     ]
    }
   ],
   "source": [
    "def func():\n",
    "    str_input = input(\"Enter string: \")\n",
    "    for i in str_input:\n",
    "        if \"0\" <= i <= \"9\":  \n",
    "            print(\"string has  digit\")\n",
    "            break\n",
    "    else:\n",
    "        print(\"the string has no single digit\")\n",
    "\n",
    "res = func()\n",
    "\n"
   ]
  },
  {
   "cell_type": "markdown",
   "id": "18d1c950-a817-4806-9d89-0e08b2964ad1",
   "metadata": {},
   "source": [
    "#### 37. take a string from the user and check contains at least one alphabets or not?"
   ]
  },
  {
   "cell_type": "code",
   "execution_count": 43,
   "id": "74d1b78c-899c-43a5-a691-c514919fd1ac",
   "metadata": {},
   "outputs": [
    {
     "name": "stdin",
     "output_type": "stream",
     "text": [
      "Enter string:  +874654685765468574\n"
     ]
    },
    {
     "name": "stdout",
     "output_type": "stream",
     "text": [
      "the string has no alphabit\n"
     ]
    }
   ],
   "source": [
    "def func():\n",
    "    str_input = input(\"Enter string: \")\n",
    "    for i in str_input:\n",
    "        if (\"A\" <= i <= \"Z\")  or (\"a\" <= i <= \"z\"):  \n",
    "            print(\"string has alphabit \")\n",
    "            break\n",
    "    else:\n",
    "        print(\"the string has no alphabit\")\n",
    "\n",
    "res = func()\n",
    "\n"
   ]
  },
  {
   "cell_type": "markdown",
   "id": "0cc42296-8310-46c3-bb12-2ddaf1bcf0d5",
   "metadata": {},
   "source": [
    "#### 38. take a string from the user and check contains at least one chars or not?"
   ]
  },
  {
   "cell_type": "markdown",
   "id": "65527542-599b-49d0-a83d-21cc1f194857",
   "metadata": {},
   "source": [
    "#### 41. Print the first 100 odd numbers"
   ]
  },
  {
   "cell_type": "code",
   "execution_count": 46,
   "id": "e593ce0b-8db1-4e15-903f-c9d23071e9c1",
   "metadata": {},
   "outputs": [
    {
     "name": "stdin",
     "output_type": "stream",
     "text": [
      "enter the number  :  54\n"
     ]
    },
    {
     "name": "stdout",
     "output_type": "stream",
     "text": [
      "[1, 3, 5, 7, 9, 11, 13, 15, 17, 19, 21, 23, 25, 27, 29, 31, 33, 35, 37, 39, 41, 43, 45, 47, 49, 51, 53]\n"
     ]
    }
   ],
   "source": [
    "def func():\n",
    "    inp_op = int(input(\"enter the number  : \"))\n",
    "    l = []\n",
    "    for  i in range(1,inp_op+1):\n",
    "        if i % 2 != 0 :\n",
    "            l.append(i)\n",
    "    return(l)\n",
    "res = func()\n",
    "print(res)"
   ]
  },
  {
   "cell_type": "code",
   "execution_count": null,
   "id": "5949b395-dffe-40a5-8201-9f529703bf66",
   "metadata": {},
   "outputs": [],
   "source": []
  },
  {
   "cell_type": "code",
   "execution_count": null,
   "id": "b728b428-a7c7-4437-83aa-76600b4e38e1",
   "metadata": {},
   "outputs": [],
   "source": []
  }
 ],
 "metadata": {
  "kernelspec": {
   "display_name": "Python 3 (ipykernel)",
   "language": "python",
   "name": "python3"
  },
  "language_info": {
   "codemirror_mode": {
    "name": "ipython",
    "version": 3
   },
   "file_extension": ".py",
   "mimetype": "text/x-python",
   "name": "python",
   "nbconvert_exporter": "python",
   "pygments_lexer": "ipython3",
   "version": "3.12.4"
  }
 },
 "nbformat": 4,
 "nbformat_minor": 5
}
