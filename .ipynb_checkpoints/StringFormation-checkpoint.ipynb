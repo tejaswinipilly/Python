{
  "metadata": {
    "kernelspec": {
      "name": "python",
      "display_name": "Python (Pyodide)",
      "language": "python"
    },
    "language_info": {
      "codemirror_mode": {
        "name": "python",
        "version": 3
      },
      "file_extension": ".py",
      "mimetype": "text/x-python",
      "name": "python",
      "nbconvert_exporter": "python",
      "pygments_lexer": "ipython3",
      "version": "3.8"
    }
  },
  "nbformat_minor": 4,
  "nbformat": 4,
  "cells": [
    {
      "cell_type": "code",
      "source": "a=1000\nb=\"pthon\"\nc=[1,2,3,4]\nd=(10,20,3,40)\ne={78,35,45,60,}\nprint(a,b,c,d,e)",
      "metadata": {
        "trusted": true
      },
      "outputs": [],
      "execution_count": null
    },
    {
      "cell_type": "code",
      "source": "a=1000\nb=\"pthon\"\nc=[1,2,3,4]\nd=(10,20,3,40)\ne={78,35,45,60,}\nprint(a,b,c,d,e,sep='#')",
      "metadata": {
        "trusted": true
      },
      "outputs": [],
      "execution_count": null
    },
    {
      "cell_type": "code",
      "source": "a=1000\nb=\"pthon\"\nc=[1,2,3,4]\nd=(10,20,3,40)\ne={78,35,45,60,}\nprint(a,b,c,d,e,sep=\"#$\")",
      "metadata": {
        "trusted": true
      },
      "outputs": [],
      "execution_count": null
    },
    {
      "cell_type": "code",
      "source": "a=1000\nb=\"pthon\"\nc=[1,2,3,4]\nd=(10,20,3,40)\ne={78,35,45,60,}\nprint(a,b,c,d,e,sep=\"\\n\")",
      "metadata": {
        "trusted": true
      },
      "outputs": [],
      "execution_count": null
    },
    {
      "cell_type": "code",
      "source": "a=1000\nb=\"pthon\"\nc=[1,2,3,4]\nd=(10,20,3,40)\ne={78,35,45,60,}\nprint(a,b,c,d,e,sep=\"/n\")",
      "metadata": {
        "trusted": true
      },
      "outputs": [],
      "execution_count": null
    },
    {
      "cell_type": "code",
      "source": "s=\"hello\"\nprint(len(s))",
      "metadata": {
        "trusted": true
      },
      "outputs": [],
      "execution_count": null
    },
    {
      "cell_type": "code",
      "source": "s=\"\\n\"\nprint(len(s))",
      "metadata": {
        "trusted": true
      },
      "outputs": [],
      "execution_count": null
    },
    {
      "cell_type": "code",
      "source": "s=\"/n\"\nprint(len(s))",
      "metadata": {
        "trusted": true
      },
      "outputs": [],
      "execution_count": null
    },
    {
      "cell_type": "code",
      "source": "a=1000\nb=\"pthon\"\nc=[1,2,3,4]\nd=(10,20,3,40)\ne={78,35,45,60,}\nprint(a)\nprint(b)\nprint(c)\nprint(d)\nprint(e)",
      "metadata": {
        "trusted": true
      },
      "outputs": [],
      "execution_count": null
    },
    {
      "cell_type": "code",
      "source": "a=1000\nb=\"pthon\"\nc=[1,2,3,4]\nd=(10,20,3,40)\ne={78,35,45,60,}\nprint(a, end=\",\")\nprint(b)\nprint(c)\nprint(d)\nprint(e)",
      "metadata": {
        "trusted": true
      },
      "outputs": [],
      "execution_count": null
    },
    {
      "cell_type": "code",
      "source": "a=1000\nb=\"pthon\"\nc=[1,2,3,4]\nd=(10,20,3,40)\ne={78,35,45,60,}\nprint(a, end=\",\")\nprint(b)\nprint(c, end=\"$\")\nprint(d)\nprint(e)",
      "metadata": {
        "trusted": true
      },
      "outputs": [],
      "execution_count": null
    },
    {
      "cell_type": "code",
      "source": "a=1000\nb=\"pthon\"\nc=[1,2,3,4]\nd=(10,20,3,40)\ne={78,35,45,60,}\nprint(a, end=\",\")\nprint(b, end=\"*\")\nprint(c)\nprint(d)\nprint(e)",
      "metadata": {
        "trusted": true
      },
      "outputs": [],
      "execution_count": null
    },
    {
      "cell_type": "code",
      "source": "a=1000\nb=\"pthon\"\nc=[1,2,3,4]\nd=(10,20,3,40)\ne={78,35,45,60,}\nprint(a, end=\",\")\nprint(b)\nprint(c)\nprint(d, end=\"%\")\nprint(e)",
      "metadata": {
        "trusted": true
      },
      "outputs": [],
      "execution_count": null
    },
    {
      "cell_type": "code",
      "source": "a=1000\nb=\"pthon\"\nc=[1,2,3,4]\nd=(10,20,3,40)\ne={78,35,45,60,}\nprint(a, end=\",\")\nprint(b, end=\"#\")\nprint(c, end=\"^\")\nprint(d, end=\"%\")\nprint(e)",
      "metadata": {
        "trusted": true
      },
      "outputs": [],
      "execution_count": null
    },
    {
      "cell_type": "code",
      "source": "\ns=\"APPLE\"\ns1=\"Banana\"\nprint(s+s1)",
      "metadata": {
        "trusted": true
      },
      "outputs": [],
      "execution_count": null
    },
    {
      "cell_type": "code",
      "source": "s=\"APPLE\"\ns1=\"Banana\"\nprint(s+s1)",
      "metadata": {
        "trusted": true
      },
      "outputs": [],
      "execution_count": null
    },
    {
      "cell_type": "code",
      "source": "# The Anil kumar is a very good customer, bought 3045 sales order from our portal.We got 20000 profit because of Anil kumar.\ncustomer_name=input(\"Enter customer name:\")\n#number_of_sales_order=input(\"Enter sales order:\")\n#profit = input(\"Enter Profit\")\ns=\"The",
      "metadata": {
        "trusted": true
      },
      "outputs": [],
      "execution_count": null
    },
    {
      "cell_type": "code",
      "source": "# The Anil kumar is a very good customer, bought 3045 sales order from our portal.We got 20000 profit because of Anil kumar.\ncustomer_name=input(\"Enter customer name:\")\n#number_of_sales_order=input(\"Enter sales order:\")\n#profit = input(\"Enter Profit\")\ns=\"The\"+customer_name\nprint(s)",
      "metadata": {
        "trusted": true
      },
      "outputs": [
        {
          "ename": "<class 'TypeError'>",
          "evalue": "can only concatenate str (not \"PyodideFuture\") to str",
          "traceback": [
            "\u001b[0;31m---------------------------------------------------------------------------\u001b[0m",
            "\u001b[0;31mTypeError\u001b[0m                                 Traceback (most recent call last)",
            "Cell \u001b[0;32mIn[2], line 5\u001b[0m\n\u001b[1;32m      2\u001b[0m customer_name\u001b[38;5;241m=\u001b[39m\u001b[38;5;28minput\u001b[39m(\u001b[38;5;124m\"\u001b[39m\u001b[38;5;124mEnter customer name:\u001b[39m\u001b[38;5;124m\"\u001b[39m)\n\u001b[1;32m      3\u001b[0m \u001b[38;5;66;03m#number_of_sales_order=input(\"Enter sales order:\")\u001b[39;00m\n\u001b[1;32m      4\u001b[0m \u001b[38;5;66;03m#profit = input(\"Enter Profit\")\u001b[39;00m\n\u001b[0;32m----> 5\u001b[0m s\u001b[38;5;241m=\u001b[39m\u001b[38;5;124;43m\"\u001b[39;49m\u001b[38;5;124;43mThe\u001b[39;49m\u001b[38;5;124;43m\"\u001b[39;49m\u001b[38;5;241;43m+\u001b[39;49m\u001b[43mcustomer_name\u001b[49m\n\u001b[1;32m      6\u001b[0m \u001b[38;5;28mprint\u001b[39m(s)\n",
            "\u001b[0;31mTypeError\u001b[0m: can only concatenate str (not \"PyodideFuture\") to str"
          ],
          "output_type": "error"
        }
      ],
      "execution_count": 2
    },
    {
      "cell_type": "code",
      "source": "# The Anil kumar is a very good customer, bought 3045 sales order from our portal.We got 20000 profit because of Anil kumar.\ncustomer_name=input(\"Enter customer name:\")\n#number_of_sales_order=input(\"Enter sales order:\")\n#profit = input(\"Enter Profit\")\ns=\"The\"+customer_name+\"is a very good customer\",bought\"\nprint(s)",
      "metadata": {
        "trusted": true
      },
      "outputs": [],
      "execution_count": null
    },
    {
      "cell_type": "code",
      "source": "",
      "metadata": {
        "trusted": true
      },
      "outputs": [],
      "execution_count": null
    }
  ]
}