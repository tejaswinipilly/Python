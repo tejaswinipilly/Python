{
 "cells": [
  {
   "cell_type": "markdown",
   "id": "b9ba9cd1-21dc-4f4f-af87-1e62b6e04253",
   "metadata": {},
   "source": [
    "#### 1. Take the input from the user for(Total number of people,Number of seats for bus. Based on two inputs dDecide how many number of buses required.\n",
    "\n"
   ]
  },
  {
   "cell_type": "code",
   "execution_count": null,
   "id": "20b446dd-8b70-4803-8329-035f318d2200",
   "metadata": {},
   "outputs": [],
   "source": [
    "def calculate_buses_required(total_people, seats_per_bus):\n",
    "    if (total_people % seats_per_bus) == 0:\n",
    "       no_of_buses_required = total_people // seats_per_bus\n",
    "    else:\n",
    "        no_of_buses_required = (total_people // seats_per_bus) + 1\n",
    "        return no_of_buses_required\n",
    "total_people = int(input(\"Enter the total number of people: \"))\n",
    "seats_per_bus = int(input(\"Enter the number of seats per bus: \"))\n",
    "result = calculate_buses_required(total_people, seats_per_bus)\n",
    "print(\"Number of buses required:\", result)\n"
   ]
  },
  {
   "cell_type": "markdown",
   "id": "f2fbb6d6-fdf8-4e00-be27-158a661d7e96",
   "metadata": {},
   "source": [
    "#### 2.Take temperature from the user and convert foreign heat -> Celsius."
   ]
  },
  {
   "cell_type": "code",
   "execution_count": 2,
   "id": "53317ba9-227a-46a4-807b-0013697347b9",
   "metadata": {},
   "outputs": [
    {
     "name": "stdout",
     "output_type": "stream",
     "text": [
      "Temperature in Celsius: 37.0\n"
     ]
    }
   ],
   "source": [
    "def fahrenheit_to_celsius(fahrenheit):\n",
    "    celsius = (fahrenheit - 32) * 5 / 9\n",
    "    return celsius\n",
    "fahrenheit = 98.6\n",
    "celsius = fahrenheit_to_celsius(fahrenheit)\n",
    "print(\"Temperature in Celsius:\", celsius)\n"
   ]
  },
  {
   "cell_type": "markdown",
   "id": "4938de7c-6836-47af-afd6-99455aa61cca",
   "metadata": {},
   "source": [
    "#### 3. Take temperature from the user and convert Celsius → foreign heat.\n"
   ]
  },
  {
   "cell_type": "code",
   "execution_count": 3,
   "id": "0b3d0754-d53d-463a-9c42-425217e1e11e",
   "metadata": {},
   "outputs": [
    {
     "name": "stdout",
     "output_type": "stream",
     "text": [
      "Temperature in Fahrenheit: 173.48\n"
     ]
    }
   ],
   "source": [
    "def celsius_to_fahrenheit(celsius):\n",
    "    fahrenheit = (celsius * 9 / 5) + 32\n",
    "    return fahrenheit\n",
    "celsius = 78.6\n",
    "fahrenheit = celsius_to_fahrenheit(celsius)\n",
    "print(\"Temperature in Fahrenheit:\", fahrenheit)\n"
   ]
  },
  {
   "cell_type": "markdown",
   "id": "7104ccb6-64b7-4ba0-8ce6-1ae3f3472189",
   "metadata": {},
   "source": [
    "#### 4. Take four number from the user (variables name it as x1,x2,x3,x4)\n",
    "#### Do the below operations\n",
    " #### (x1+x2)**2, (x3+x4)**3\n",
    "#### variance\n",
    "#### standard deviation: sqrt(variance):  User math module. Math.sqrt(variance)\n",
    "#### Regression\n",
    "\t## y=mx+b\n",
    "          m=1.23\n",
    "          b=0.045\n",
    "          find out y\n",
    "          y=m*(x1+x2+x3+x4)+b\n",
    "#### Find the average of four numbers\n",
    "#### Find the sum of four numbers\n"
   ]
  },
  {
   "cell_type": "code",
   "execution_count": 6,
   "id": "9a64335a-efbb-42bc-bb17-cddd01348c45",
   "metadata": {},
   "outputs": [
    {
     "name": "stdin",
     "output_type": "stream",
     "text": [
      "Enter the value of x1:  5\n",
      "Enter the value of x2:  6\n",
      "Enter the value of x3:  8\n",
      "Enter the value of x4:  9\n"
     ]
    },
    {
     "name": "stdout",
     "output_type": "stream",
     "text": [
      "Mean of four numbers: 7.0\n",
      "Variance: 2.5\n",
      "Standard Deviation: 1.5811388300841898\n",
      "Regression result: 34.485\n",
      "sum_of_four_numbers : 28\n"
     ]
    }
   ],
   "source": [
    "import math\n",
    "\n",
    "# User input\n",
    "x1 = int(input(\"Enter the value of x1: \"))\n",
    "x2 = int(input(\"Enter the value of x2: \"))\n",
    "x3 = int(input(\"Enter the value of x3: \"))\n",
    "x4 = int(input(\"Enter the value of x4: \"))\n",
    "\n",
    "def strd(x1, x2, x3, x4):\n",
    "    m = 1.23\n",
    "    b = 0.045\n",
    "    \n",
    "    # Square of Sum\n",
    "    result1 = (x1 + x2) ** 2\n",
    "    \n",
    "    # Cube of Sum\n",
    "    result2 = (x3 + x4) ** 3\n",
    "    \n",
    "    # Mean value\n",
    "    mean = (x1 + x2 + x3 + x4) / 4\n",
    "    \n",
    "    # Variance calculation\n",
    "    variance = ((x1 - mean) ** 2 + (x2 - mean) ** 2 + (x3 - mean) ** 2 + (x4 - mean) ** 2) / 4\n",
    "    \n",
    "    # Standard Deviation calculation\n",
    "    standard_deviation = math.sqrt(variance)\n",
    "    \n",
    "    # Regression calculation\n",
    "    regression = m * (x1 + x2 + x3 + x4) + b\n",
    "    \n",
    "    # sum of four numbers\n",
    "    sum_of_four_numbers = (x1 + x2 + x3 + x4)\n",
    "    \n",
    "    return mean, variance, standard_deviation, regression, sum_of_four_numbers\n",
    "\n",
    "# Calculate results\n",
    "mean, variance, standard_deviation, regression, sum_of_four_numbers= strd(x1, x2, x3, x4)\n",
    "\n",
    "# Print results\n",
    "print(f\"Mean of four numbers: {mean}\")\n",
    "print(f\"Variance: {variance}\")\n",
    "print(f\"Standard Deviation: {standard_deviation}\")\n",
    "print(f\"Regression result: {regression}\")\n",
    "print(f\"sum_of_four_numbers : {sum_of_four_numbers}\")\n"
   ]
  },
  {
   "cell_type": "markdown",
   "id": "93c5fb57-2b36-429a-848d-10bcd595601a",
   "metadata": {},
   "source": [
    " #### 5. Take the distance in km.Show that in cm, meters, in milli meters, cents, feets, yards\n"
   ]
  },
  {
   "cell_type": "code",
   "execution_count": 8,
   "id": "b24ed4c2-4671-463d-88f5-a52089cd4178",
   "metadata": {},
   "outputs": [
    {
     "name": "stdin",
     "output_type": "stream",
     "text": [
      "Enter distance in km:  122\n"
     ]
    },
    {
     "name": "stdout",
     "output_type": "stream",
     "text": [
      "Distance: 122 kilometers\n",
      "  Meters: 122000 m\n",
      "  Centimeters: 12200000 cm\n",
      "  Millimeters: 122000000 mm\n",
      "  Feet: 400262.48000000004 ft\n",
      "  Yards: 133420.41999999998 yd\n",
      "  Square Feet: 160210036440.00 sq ft\n",
      "  Cents: 367825411.98 cent\n"
     ]
    }
   ],
   "source": [
    "km = int(input(\"Enter distance in km: \"))\n",
    "def distance(km):\n",
    "    # Conversions\n",
    "    meters = km * 1000\n",
    "    centimeters = km * 100000\n",
    "    millimeters = km * 1000000\n",
    "    feet = km * 3280.84\n",
    "    yards = km * 1093.61\n",
    "    # Convert km to square feet (assuming 1 km² = 10,763,910 square feet)\n",
    "    square_feet = (km ** 2) * 10763910\n",
    "    cents = square_feet / 435.56\n",
    "    return meters, centimeters, millimeters, feet, yards,square_feet,cents\n",
    "meters, centimeters, millimeters, feet, yards,square_feet,cents = distance(km)\n",
    "print(f\"Distance: {km} kilometers\")\n",
    "print(f\"  Meters: {meters} m\")\n",
    "print(f\"  Centimeters: {centimeters} cm\")\n",
    "print(f\"  Millimeters: {millimeters} mm\")\n",
    "print(f\"  Feet: {feet} ft\")\n",
    "print(f\"  Yards: {yards} yd\")\n",
    "print(f\"  Square Feet: {square_feet:.2f} sq ft\")\n",
    "print(f\"  Cents: {cents:.2f} cent\")"
   ]
  },
  {
   "cell_type": "markdown",
   "id": "cc494c6d-8e05-46d6-8528-7736eef72da8",
   "metadata": {},
   "source": [
    "#### 6.Take the size of your hard disk in GB.Show that in MB, KB, TB, PB\n"
   ]
  },
  {
   "cell_type": "code",
   "execution_count": 9,
   "id": "2ca5de78-742c-47f5-a1fa-61a45c973e66",
   "metadata": {},
   "outputs": [
    {
     "name": "stdin",
     "output_type": "stream",
     "text": [
      "Enter size of the disk : 20\n"
     ]
    },
    {
     "name": "stdout",
     "output_type": "stream",
     "text": [
      "Size: 20 GB\n",
      "  Megabytes: 20480 MB\n",
      "  Kilobytes: 20971520 KB\n",
      "  Terabytes: 0.01953125 TB\n",
      "  Petabytes: 1.9073486328125e-05 PB\n"
     ]
    }
   ],
   "source": [
    "size_gb = int(input(\"Enter size of the disk :\"))\n",
    "def strg(size_gb):\n",
    "    mb = size_gb * 1024\n",
    "    kb = size_gb * 1024 * 1024\n",
    "    tb = size_gb / 1024\n",
    "    pb = size_gb / (1024 * 1024)\n",
    "    return mb,kb,tb,pb\n",
    "mb,kb,tb,pb = strg(size_gb)\n",
    "# Print the results\n",
    "print(f\"Size: {size_gb} GB\")\n",
    "print(f\"  Megabytes: {mb} MB\")\n",
    "print(f\"  Kilobytes: {kb} KB\")\n",
    "print(f\"  Terabytes: {tb} TB\")\n",
    "print(f\"  Petabytes: {pb} PB\")"
   ]
  },
  {
   "cell_type": "markdown",
   "id": "df72fd78-0738-46e5-9dd1-944bd732e2a7",
   "metadata": {},
   "source": [
    "#### 7. Take name, age, height from the user and print like below.The details of the person: Name:name of the person, Age:age of the person, Height:height of the person"
   ]
  },
  {
   "cell_type": "code",
   "execution_count": 10,
   "id": "53a5408e-c7e3-4b82-b015-db32b651223f",
   "metadata": {},
   "outputs": [
    {
     "name": "stdin",
     "output_type": "stream",
     "text": [
      "Enter your name:  tejaswini\n",
      "Enter your age:  33\n",
      "Enter your height (in cm):  5\n"
     ]
    },
    {
     "name": "stdout",
     "output_type": "stream",
     "text": [
      "The details of the person: Name:tejaswini, Age:33, Height:5\n"
     ]
    }
   ],
   "source": [
    "name = input(\"Enter your name: \")\n",
    "age = input(\"Enter your age: \")\n",
    "height = input(\"Enter your height (in cm): \")\n",
    "\n",
    "def details(name,age,height):\n",
    "    return name,age,height\n",
    "\n",
    "name,age,height = details(name,age,height)\n",
    "# Print the details in the specified format\n",
    "print(f\"The details of the person: Name:{name}, Age:{age}, Height:{height}\")"
   ]
  },
  {
   "cell_type": "markdown",
   "id": "eb6fa1bb-97ed-46f8-8dff-b1071f3e8dd5",
   "metadata": {},
   "source": [
    "#### 8. BMI calculation: take required parameters for BMI calculation from the user and calculate BMI of the person."
   ]
  },
  {
   "cell_type": "code",
   "execution_count": 11,
   "id": "7fa15b16-03eb-44dc-a5c0-544363bcb6cb",
   "metadata": {},
   "outputs": [
    {
     "name": "stdin",
     "output_type": "stream",
     "text": [
      "Enter your weight in kilograms:  27\n",
      "Enter your height in meters:  30\n"
     ]
    },
    {
     "name": "stdout",
     "output_type": "stream",
     "text": [
      "Your BMI is: 0.03\n"
     ]
    }
   ],
   "source": [
    "weight_kg = float(input(\"Enter your weight in kilograms: \"))\n",
    "height_m = float(input(\"Enter your height in meters: \"))\n",
    "def bmi_cal(weight_kg,height_m):\n",
    "    bmi = weight_kg / (height_m ** 2)\n",
    "    return bmi\n",
    "\n",
    "bmi = bmi_cal(weight_kg,height_m)\n",
    "print(\"Your BMI is:\", bmi)"
   ]
  },
  {
   "cell_type": "markdown",
   "id": "f145ca96-606d-440a-a2d5-56379e77eddb",
   "metadata": {},
   "source": [
    "#### 9. name=\"Jayaram\"\n",
    "#### age=1.6 height=3.5356234 weight=10.343856783 By using above inputs print the output Name:Jayaram, Age:1.6, Height:3.54, Weight:10.344"
   ]
  },
  {
   "cell_type": "code",
   "execution_count": 12,
   "id": "966ba666-c42b-4651-9b80-2b6bfbe86cc0",
   "metadata": {},
   "outputs": [
    {
     "name": "stdout",
     "output_type": "stream",
     "text": [
      "Name: Jayaram, Age: 1.6, Height: 3.54, Weight: 10.344\n"
     ]
    }
   ],
   "source": [
    "name = \"Jayaram\"\n",
    "age = 1.6\n",
    "height = 3.5356234\n",
    "weight = 10.343856783\n",
    "def fun(name,age,height,weight):\n",
    "    print(\"Name: %s, Age: %.1f, Height: %.2f, Weight: %.3f\" % (name, age, height, weight))\n",
    "call = fun(name,age,height,weight)"
   ]
  },
  {
   "cell_type": "markdown",
   "id": "25e20670-c977-429a-a330-fd582ea1f62b",
   "metadata": {},
   "source": [
    "#### 10.Take three upper case letters from the user convert in to small case.\n"
   ]
  },
  {
   "cell_type": "code",
   "execution_count": 17,
   "id": "58b6101a-698e-47cc-a161-c89af16aea4d",
   "metadata": {},
   "outputs": [
    {
     "name": "stdin",
     "output_type": "stream",
     "text": [
      "Enter the first uppercase letter:  A\n",
      "Enter the second uppercase letter:  D\n",
      "Enter the third uppercase letter:  E\n"
     ]
    },
    {
     "name": "stdout",
     "output_type": "stream",
     "text": [
      "Lowercase letters: a, d, e\n"
     ]
    }
   ],
   "source": [
    "letter1 = input(\"Enter the first uppercase letter: \")\n",
    "letter2 = input(\"Enter the second uppercase letter: \")\n",
    "letter3 = input(\"Enter the third uppercase letter: \")\n",
    "def up_low(letter1,letter2,letter3):\n",
    "    lowercase1 = chr(ord(letter1) + 32)\n",
    "    lowercase2 = chr(ord(letter2) + 32)\n",
    "    lowercase3 = chr(ord(letter3) + 32)\n",
    "    return lowercase1,lowercase2,lowercase3\n",
    "\n",
    "lowercase1,lowercase2,lowercase3 =up_low(letter1,letter2,letter3)\n",
    "print(f\"Lowercase letters: {lowercase1}, {lowercase2}, {lowercase3}\")"
   ]
  },
  {
   "cell_type": "markdown",
   "id": "b8b9a929-3ee6-4a83-85cd-6bc93ee13337",
   "metadata": {},
   "source": [
    "#### 11. Take base and exponent value from the user and print like in mathematics: example: base=2, exponent=3: 23\n"
   ]
  },
  {
   "cell_type": "code",
   "execution_count": null,
   "id": "710840ab-ccaa-432f-aa1b-75c74e4e7c1d",
   "metadata": {},
   "outputs": [],
   "source": []
  }
 ],
 "metadata": {
  "kernelspec": {
   "display_name": "Python 3 (ipykernel)",
   "language": "python",
   "name": "python3"
  },
  "language_info": {
   "codemirror_mode": {
    "name": "ipython",
    "version": 3
   },
   "file_extension": ".py",
   "mimetype": "text/x-python",
   "name": "python",
   "nbconvert_exporter": "python",
   "pygments_lexer": "ipython3",
   "version": "3.12.4"
  }
 },
 "nbformat": 4,
 "nbformat_minor": 5
}
